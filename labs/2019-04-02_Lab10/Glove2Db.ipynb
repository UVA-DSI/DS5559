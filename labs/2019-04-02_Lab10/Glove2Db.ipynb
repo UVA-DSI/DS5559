{
 "cells": [
  {
   "cell_type": "markdown",
   "metadata": {},
   "source": [
    "# Synopsis\n",
    "\n",
    "Get pretrained GloVe data and store it in a SQLite database.\n",
    "\n",
    "https://nlp.stanford.edu/projects/glove/"
   ]
  },
  {
   "cell_type": "markdown",
   "metadata": {},
   "source": [
    "# Configuaration"
   ]
  },
  {
   "cell_type": "code",
   "execution_count": 11,
   "metadata": {},
   "outputs": [],
   "source": [
    "glove_files = '../../data/glove.6B.*.txt' # This takes a long time\n",
    "glove_files = '../../data/glove.6B.50d.txt' # So, you may want to limit this to the 50 one\n",
    "glove_db = '../../data/glove2.db'"
   ]
  },
  {
   "cell_type": "markdown",
   "metadata": {},
   "source": [
    "# Libraries"
   ]
  },
  {
   "cell_type": "code",
   "execution_count": 13,
   "metadata": {},
   "outputs": [],
   "source": [
    "import glob\n",
    "import pandas as pd\n",
    "import sqlite3"
   ]
  },
  {
   "cell_type": "markdown",
   "metadata": {},
   "source": [
    "# Process"
   ]
  },
  {
   "cell_type": "markdown",
   "metadata": {},
   "source": [
    "## Import GloVe data"
   ]
  },
  {
   "cell_type": "code",
   "execution_count": 14,
   "metadata": {},
   "outputs": [
    {
     "name": "stdout",
     "output_type": "stream",
     "text": [
      "glove50\n"
     ]
    }
   ],
   "source": [
    "for glove_file in glob.glob(glove_files):\n",
    "    glove_table_name = 'glove' + glove_file.split('/')[-1].split('.')[-2][:-1]\n",
    "    print(glove_table_name)\n",
    "    glove = pd.DataFrame([line.split() for line in open(glove_file, 'r').readlines()])\n",
    "    glove = glove.set_index(0)\n",
    "    glove = glove.astype('float')\n",
    "    glove.index.name = 'term_str'\n",
    "    with sqlite3.connect(glove_db) as db:\n",
    "        glove.to_sql(glove_table_name, db, if_exists='replace')"
   ]
  },
  {
   "cell_type": "code",
   "execution_count": null,
   "metadata": {},
   "outputs": [],
   "source": []
  }
 ],
 "metadata": {
  "kernelspec": {
   "display_name": "Python 3",
   "language": "python",
   "name": "python3"
  },
  "language_info": {
   "codemirror_mode": {
    "name": "ipython",
    "version": 3
   },
   "file_extension": ".py",
   "mimetype": "text/x-python",
   "name": "python",
   "nbconvert_exporter": "python",
   "pygments_lexer": "ipython3",
   "version": "3.6.8"
  }
 },
 "nbformat": 4,
 "nbformat_minor": 2
}
