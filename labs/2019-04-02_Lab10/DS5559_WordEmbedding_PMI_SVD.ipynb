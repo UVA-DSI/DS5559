{
 "cells": [
  {
   "cell_type": "markdown",
   "metadata": {},
   "source": [
    "# Synopsis\n",
    "\n",
    "We create word vectors by applying a singular value decomposition to a pointwise mutual information word-word matrix. "
   ]
  },
  {
   "cell_type": "markdown",
   "metadata": {},
   "source": [
    "# Configuration"
   ]
  },
  {
   "cell_type": "code",
   "execution_count": 8,
   "metadata": {},
   "outputs": [],
   "source": [
    "proj = '/Users/rca2t/Dropbox/Courses/DSI/DS5559/UVA_DSI_REPO'\n",
    "pwd = '{}/play/wordembedding'.format(proj)\n",
    "db_file = \"{}/data/novels.db\".format(proj)\n",
    "lib = \"{}/lib\".format(proj)\n",
    "\n",
    "# Word Embedding\n",
    "window = 3"
   ]
  },
  {
   "cell_type": "markdown",
   "metadata": {
    "toc-hr-collapsed": true
   },
   "source": [
    "# Libraries"
   ]
  },
  {
   "cell_type": "code",
   "execution_count": 9,
   "metadata": {},
   "outputs": [],
   "source": [
    "import pandas as pd\n",
    "import numpy as np\n",
    "import sqlite3\n",
    "import sys; sys.path.append(lib)\n",
    "from textman import textman as tx"
   ]
  },
  {
   "cell_type": "markdown",
   "metadata": {},
   "source": [
    "# Pragmas"
   ]
  },
  {
   "cell_type": "code",
   "execution_count": 10,
   "metadata": {},
   "outputs": [],
   "source": [
    "%matplotlib inline"
   ]
  },
  {
   "cell_type": "markdown",
   "metadata": {
    "toc-hr-collapsed": false
   },
   "source": [
    "# Process"
   ]
  },
  {
   "cell_type": "markdown",
   "metadata": {
    "toc-hr-collapsed": false
   },
   "source": [
    "## Extract skipgrams from tokens with SQL\n",
    "\n",
    "We grab a sliding bag of tokens without stopwords and proper nouns."
   ]
  },
  {
   "cell_type": "markdown",
   "metadata": {},
   "source": [
    "### Build SQL query from configs"
   ]
  },
  {
   "cell_type": "code",
   "execution_count": 11,
   "metadata": {},
   "outputs": [],
   "source": [
    "in_clause = ', '.join(['x.token_num + {0}, x.token_num - {0}'.format(i) for i in range(1, window + 1)])\n",
    "pos_clause = \"AND pos NOT LIKE 'NNP%' \" # Remove proper nouns"
   ]
  },
  {
   "cell_type": "code",
   "execution_count": 12,
   "metadata": {},
   "outputs": [],
   "source": [
    "sql = \"\"\"\n",
    "WITH mytoken(author, book, chapter, para_num, sent_num,token_num,term_str,term_id) \n",
    "AS (\n",
    "    SELECT author, book, chapter, para_num, sent_num,token_num,term_str,term_id\n",
    "    FROM token \n",
    "    WHERE term_id IN (SELECT term_id FROM vocab WHERE stop = 0) \n",
    "        AND term_str is not NULL\n",
    "        {}       \n",
    ")\n",
    "\n",
    "SELECT x.term_str as target, y.term_str as probe, (y.token_num - x.token_num) AS dist\n",
    "FROM mytoken x \n",
    "JOIN mytoken y USING(author, book, chapter, para_num, sent_num)\n",
    "WHERE y.token_num IN ({})\n",
    "ORDER BY target, dist, probe\n",
    "\"\"\".format(pos_clause, in_clause)"
   ]
  },
  {
   "cell_type": "code",
   "execution_count": 13,
   "metadata": {},
   "outputs": [
    {
     "name": "stdout",
     "output_type": "stream",
     "text": [
      "\n",
      "WITH mytoken(author, book, chapter, para_num, sent_num,token_num,term_str,term_id) \n",
      "AS (\n",
      "    SELECT author, book, chapter, para_num, sent_num,token_num,term_str,term_id\n",
      "    FROM token \n",
      "    WHERE term_id IN (SELECT term_id FROM vocab WHERE stop = 0) \n",
      "        AND term_str is not NULL\n",
      "        AND pos NOT LIKE 'NNP%'        \n",
      ")\n",
      "    \n",
      "SELECT x.term_str as target, y.term_str as probe, (y.token_num - x.token_num) AS dist\n",
      "FROM mytoken x \n",
      "JOIN mytoken y USING(author, book, chapter, para_num, sent_num)\n",
      "WHERE y.token_num IN (x.token_num + 1, x.token_num - 1, x.token_num + 2, x.token_num - 2, x.token_num + 3, x.token_num - 3)\n",
      "ORDER BY target, dist, probe\n",
      "\n"
     ]
    }
   ],
   "source": [
    "print(sql)"
   ]
  },
  {
   "cell_type": "markdown",
   "metadata": {},
   "source": [
    "### Pull from DB"
   ]
  },
  {
   "cell_type": "code",
   "execution_count": 14,
   "metadata": {},
   "outputs": [],
   "source": [
    "skipgrams = tx.get_sql(sql, db_file)"
   ]
  },
  {
   "cell_type": "code",
   "execution_count": 42,
   "metadata": {},
   "outputs": [
    {
     "data": {
      "text/html": [
       "<div>\n",
       "<style scoped>\n",
       "    .dataframe tbody tr th:only-of-type {\n",
       "        vertical-align: middle;\n",
       "    }\n",
       "\n",
       "    .dataframe tbody tr th {\n",
       "        vertical-align: top;\n",
       "    }\n",
       "\n",
       "    .dataframe thead th {\n",
       "        text-align: right;\n",
       "    }\n",
       "</style>\n",
       "<table border=\"1\" class=\"dataframe\">\n",
       "  <thead>\n",
       "    <tr style=\"text-align: right;\">\n",
       "      <th></th>\n",
       "      <th>target</th>\n",
       "      <th>probe</th>\n",
       "      <th>dist</th>\n",
       "    </tr>\n",
       "  </thead>\n",
       "  <tbody>\n",
       "    <tr>\n",
       "      <th>0</th>\n",
       "      <td>aback</td>\n",
       "      <td>said</td>\n",
       "      <td>-3</td>\n",
       "    </tr>\n",
       "    <tr>\n",
       "      <th>1</th>\n",
       "      <td>aback</td>\n",
       "      <td>completely</td>\n",
       "      <td>-2</td>\n",
       "    </tr>\n",
       "    <tr>\n",
       "      <th>2</th>\n",
       "      <td>aback</td>\n",
       "      <td>considerably</td>\n",
       "      <td>-2</td>\n",
       "    </tr>\n",
       "    <tr>\n",
       "      <th>3</th>\n",
       "      <td>aback</td>\n",
       "      <td>little</td>\n",
       "      <td>-2</td>\n",
       "    </tr>\n",
       "    <tr>\n",
       "      <th>4</th>\n",
       "      <td>aback</td>\n",
       "      <td>utterly</td>\n",
       "      <td>-2</td>\n",
       "    </tr>\n",
       "    <tr>\n",
       "      <th>5</th>\n",
       "      <td>aback</td>\n",
       "      <td>taken</td>\n",
       "      <td>-1</td>\n",
       "    </tr>\n",
       "    <tr>\n",
       "      <th>6</th>\n",
       "      <td>aback</td>\n",
       "      <td>taken</td>\n",
       "      <td>-1</td>\n",
       "    </tr>\n",
       "    <tr>\n",
       "      <th>7</th>\n",
       "      <td>aback</td>\n",
       "      <td>taken</td>\n",
       "      <td>-1</td>\n",
       "    </tr>\n",
       "    <tr>\n",
       "      <th>8</th>\n",
       "      <td>aback</td>\n",
       "      <td>taken</td>\n",
       "      <td>-1</td>\n",
       "    </tr>\n",
       "    <tr>\n",
       "      <th>9</th>\n",
       "      <td>aback</td>\n",
       "      <td>taken</td>\n",
       "      <td>-1</td>\n",
       "    </tr>\n",
       "  </tbody>\n",
       "</table>\n",
       "</div>"
      ],
      "text/plain": [
       "  target         probe  dist\n",
       "0  aback          said    -3\n",
       "1  aback    completely    -2\n",
       "2  aback  considerably    -2\n",
       "3  aback        little    -2\n",
       "4  aback       utterly    -2\n",
       "5  aback         taken    -1\n",
       "6  aback         taken    -1\n",
       "7  aback         taken    -1\n",
       "8  aback         taken    -1\n",
       "9  aback         taken    -1"
      ]
     },
     "execution_count": 42,
     "metadata": {},
     "output_type": "execute_result"
    }
   ],
   "source": [
    "skipgrams.head(10)"
   ]
  },
  {
   "cell_type": "markdown",
   "metadata": {},
   "source": [
    "### Add Skigram weights (as GloVe does)"
   ]
  },
  {
   "cell_type": "code",
   "execution_count": 16,
   "metadata": {},
   "outputs": [],
   "source": [
    "# skipgrams['glove_weight'] = np.round(np.abs(1 / skipgrams['dist']), 2)"
   ]
  },
  {
   "cell_type": "code",
   "execution_count": 17,
   "metadata": {},
   "outputs": [],
   "source": [
    "# skipgrams.head(10)"
   ]
  },
  {
   "cell_type": "markdown",
   "metadata": {
    "toc-hr-collapsed": false
   },
   "source": [
    "## Get Unigram Probabilities\n",
    "\n",
    "We have already computed these in the vocab table."
   ]
  },
  {
   "cell_type": "markdown",
   "metadata": {},
   "source": [
    "### Import vocab table"
   ]
  },
  {
   "cell_type": "code",
   "execution_count": 18,
   "metadata": {},
   "outputs": [],
   "source": [
    "vocab = tx.get_table('vocab', db_file, index_col=['term_id'])\n",
    "vocab = vocab[vocab.stop == 0]"
   ]
  },
  {
   "cell_type": "code",
   "execution_count": 19,
   "metadata": {},
   "outputs": [
    {
     "data": {
      "text/html": [
       "<div>\n",
       "<style scoped>\n",
       "    .dataframe tbody tr th:only-of-type {\n",
       "        vertical-align: middle;\n",
       "    }\n",
       "\n",
       "    .dataframe tbody tr th {\n",
       "        vertical-align: top;\n",
       "    }\n",
       "\n",
       "    .dataframe thead th {\n",
       "        text-align: right;\n",
       "    }\n",
       "</style>\n",
       "<table border=\"1\" class=\"dataframe\">\n",
       "  <thead>\n",
       "    <tr style=\"text-align: right;\">\n",
       "      <th></th>\n",
       "      <th>term_str</th>\n",
       "      <th>n</th>\n",
       "      <th>p</th>\n",
       "      <th>port_stem</th>\n",
       "      <th>stop</th>\n",
       "      <th>df</th>\n",
       "      <th>idf</th>\n",
       "      <th>tfidf_sum</th>\n",
       "      <th>tfidf_mean</th>\n",
       "      <th>tfidf_max</th>\n",
       "    </tr>\n",
       "    <tr>\n",
       "      <th>term_id</th>\n",
       "      <th></th>\n",
       "      <th></th>\n",
       "      <th></th>\n",
       "      <th></th>\n",
       "      <th></th>\n",
       "      <th></th>\n",
       "      <th></th>\n",
       "      <th></th>\n",
       "      <th></th>\n",
       "      <th></th>\n",
       "    </tr>\n",
       "  </thead>\n",
       "  <tbody>\n",
       "    <tr>\n",
       "      <th>20770</th>\n",
       "      <td>said</td>\n",
       "      <td>6370</td>\n",
       "      <td>0.004245</td>\n",
       "      <td>said</td>\n",
       "      <td>0</td>\n",
       "      <td>308</td>\n",
       "      <td>0.016599</td>\n",
       "      <td>105.737298</td>\n",
       "      <td>0.330429</td>\n",
       "      <td>2.191103</td>\n",
       "    </tr>\n",
       "    <tr>\n",
       "      <th>15714</th>\n",
       "      <td>mr</td>\n",
       "      <td>2860</td>\n",
       "      <td>0.001906</td>\n",
       "      <td>mr</td>\n",
       "      <td>0</td>\n",
       "      <td>196</td>\n",
       "      <td>0.212894</td>\n",
       "      <td>608.876574</td>\n",
       "      <td>1.902739</td>\n",
       "      <td>48.326917</td>\n",
       "    </tr>\n",
       "    <tr>\n",
       "      <th>24409</th>\n",
       "      <td>time</td>\n",
       "      <td>2615</td>\n",
       "      <td>0.001743</td>\n",
       "      <td>time</td>\n",
       "      <td>0</td>\n",
       "      <td>317</td>\n",
       "      <td>0.004091</td>\n",
       "      <td>10.697223</td>\n",
       "      <td>0.033429</td>\n",
       "      <td>0.224989</td>\n",
       "    </tr>\n",
       "    <tr>\n",
       "      <th>14660</th>\n",
       "      <td>man</td>\n",
       "      <td>2383</td>\n",
       "      <td>0.001588</td>\n",
       "      <td>man</td>\n",
       "      <td>0</td>\n",
       "      <td>294</td>\n",
       "      <td>0.036803</td>\n",
       "      <td>87.700710</td>\n",
       "      <td>0.274065</td>\n",
       "      <td>2.355369</td>\n",
       "    </tr>\n",
       "    <tr>\n",
       "      <th>13584</th>\n",
       "      <td>know</td>\n",
       "      <td>2302</td>\n",
       "      <td>0.001534</td>\n",
       "      <td>know</td>\n",
       "      <td>0</td>\n",
       "      <td>299</td>\n",
       "      <td>0.029479</td>\n",
       "      <td>67.860175</td>\n",
       "      <td>0.212063</td>\n",
       "      <td>0.972800</td>\n",
       "    </tr>\n",
       "  </tbody>\n",
       "</table>\n",
       "</div>"
      ],
      "text/plain": [
       "        term_str     n         p port_stem  stop   df       idf   tfidf_sum  \\\n",
       "term_id                                                                       \n",
       "20770       said  6370  0.004245      said     0  308  0.016599  105.737298   \n",
       "15714         mr  2860  0.001906        mr     0  196  0.212894  608.876574   \n",
       "24409       time  2615  0.001743      time     0  317  0.004091   10.697223   \n",
       "14660        man  2383  0.001588       man     0  294  0.036803   87.700710   \n",
       "13584       know  2302  0.001534      know     0  299  0.029479   67.860175   \n",
       "\n",
       "         tfidf_mean  tfidf_max  \n",
       "term_id                         \n",
       "20770      0.330429   2.191103  \n",
       "15714      1.902739  48.326917  \n",
       "24409      0.033429   0.224989  \n",
       "14660      0.274065   2.355369  \n",
       "13584      0.212063   0.972800  "
      ]
     },
     "execution_count": 19,
     "metadata": {},
     "output_type": "execute_result"
    }
   ],
   "source": [
    "vocab.sort_values('p', ascending=False).head()"
   ]
  },
  {
   "cell_type": "markdown",
   "metadata": {},
   "source": [
    "### Get $P(x)$"
   ]
  },
  {
   "cell_type": "code",
   "execution_count": 23,
   "metadata": {},
   "outputs": [],
   "source": [
    "p_x = vocab[['term_str','p']].reset_index().set_index('term_str')['p']"
   ]
  },
  {
   "cell_type": "code",
   "execution_count": 24,
   "metadata": {},
   "outputs": [
    {
     "data": {
      "text/plain": [
       "term_str\n",
       "said    0.004245\n",
       "mr      0.001906\n",
       "time    0.001743\n",
       "man     0.001588\n",
       "know    0.001534\n",
       "Name: p, dtype: float64"
      ]
     },
     "execution_count": 24,
     "metadata": {},
     "output_type": "execute_result"
    }
   ],
   "source": [
    "p_x.sort_values(ascending=False).head()"
   ]
  },
  {
   "cell_type": "code",
   "execution_count": 25,
   "metadata": {},
   "outputs": [],
   "source": [
    "# skipgrams.groupby('target').target.count() / skipgrams.target.sum()"
   ]
  },
  {
   "cell_type": "markdown",
   "metadata": {
    "toc-hr-collapsed": false
   },
   "source": [
    "## Compute Normalized PMI for Skipgrams\n",
    "\n",
    "### PMI\n",
    "\n",
    "$log \\dfrac{P(x,y)}{P(x)P(y)}$\n",
    "\n",
    "### NMPI\n",
    "\n",
    "$\\dfrac{log\\dfrac{P(x,y)}{P(x)P(y)}}{-log P(x,y)}$\n",
    "\n",
    "See [G. Bouma 2009, eq. 7](https://pdfs.semanticscholar.org/1521/8d9c029cbb903ae7c729b2c644c24994c201.pdf)"
   ]
  },
  {
   "cell_type": "markdown",
   "metadata": {},
   "source": [
    "### Create compressed skipgram table"
   ]
  },
  {
   "cell_type": "code",
   "execution_count": 26,
   "metadata": {},
   "outputs": [],
   "source": [
    "skipgrams2 = skipgrams.groupby(['target','probe']).probe.count()\\\n",
    "    .to_frame().rename(columns={'probe':'n'})\\\n",
    "    .reset_index().set_index(['target','probe'])"
   ]
  },
  {
   "cell_type": "code",
   "execution_count": 28,
   "metadata": {},
   "outputs": [],
   "source": [
    "# skipgrams2['glove_weight_sum'] = skipgrams.groupby(['target','probe']).glove_weight.sum()\\\n",
    "#     .to_frame().reset_index().set_index(['target','probe'])"
   ]
  },
  {
   "cell_type": "code",
   "execution_count": 29,
   "metadata": {},
   "outputs": [
    {
     "data": {
      "text/html": [
       "<div>\n",
       "<style scoped>\n",
       "    .dataframe tbody tr th:only-of-type {\n",
       "        vertical-align: middle;\n",
       "    }\n",
       "\n",
       "    .dataframe tbody tr th {\n",
       "        vertical-align: top;\n",
       "    }\n",
       "\n",
       "    .dataframe thead th {\n",
       "        text-align: right;\n",
       "    }\n",
       "</style>\n",
       "<table border=\"1\" class=\"dataframe\">\n",
       "  <thead>\n",
       "    <tr style=\"text-align: right;\">\n",
       "      <th></th>\n",
       "      <th></th>\n",
       "      <th>n</th>\n",
       "    </tr>\n",
       "    <tr>\n",
       "      <th>target</th>\n",
       "      <th>probe</th>\n",
       "      <th></th>\n",
       "    </tr>\n",
       "  </thead>\n",
       "  <tbody>\n",
       "    <tr>\n",
       "      <th rowspan=\"9\" valign=\"top\">aback</th>\n",
       "      <th>completely</th>\n",
       "      <td>1</td>\n",
       "    </tr>\n",
       "    <tr>\n",
       "      <th>considerably</th>\n",
       "      <td>1</td>\n",
       "    </tr>\n",
       "    <tr>\n",
       "      <th>kept</th>\n",
       "      <td>1</td>\n",
       "    </tr>\n",
       "    <tr>\n",
       "      <th>little</th>\n",
       "      <td>1</td>\n",
       "    </tr>\n",
       "    <tr>\n",
       "      <th>murmured</th>\n",
       "      <td>1</td>\n",
       "    </tr>\n",
       "    <tr>\n",
       "      <th>said</th>\n",
       "      <td>1</td>\n",
       "    </tr>\n",
       "    <tr>\n",
       "      <th>something</th>\n",
       "      <td>1</td>\n",
       "    </tr>\n",
       "    <tr>\n",
       "      <th>taken</th>\n",
       "      <td>8</td>\n",
       "    </tr>\n",
       "    <tr>\n",
       "      <th>utterly</th>\n",
       "      <td>1</td>\n",
       "    </tr>\n",
       "    <tr>\n",
       "      <th>abaft</th>\n",
       "      <th>aftest</th>\n",
       "      <td>1</td>\n",
       "    </tr>\n",
       "  </tbody>\n",
       "</table>\n",
       "</div>"
      ],
      "text/plain": [
       "                     n\n",
       "target probe          \n",
       "aback  completely    1\n",
       "       considerably  1\n",
       "       kept          1\n",
       "       little        1\n",
       "       murmured      1\n",
       "       said          1\n",
       "       something     1\n",
       "       taken         8\n",
       "       utterly       1\n",
       "abaft  aftest        1"
      ]
     },
     "execution_count": 29,
     "metadata": {},
     "output_type": "execute_result"
    }
   ],
   "source": [
    "skipgrams2.head(10)"
   ]
  },
  {
   "cell_type": "markdown",
   "metadata": {},
   "source": [
    "### Compute $P(x,y)$"
   ]
  },
  {
   "cell_type": "code",
   "execution_count": 30,
   "metadata": {},
   "outputs": [],
   "source": [
    "N = skipgrams2.n.sum()"
   ]
  },
  {
   "cell_type": "code",
   "execution_count": 31,
   "metadata": {},
   "outputs": [],
   "source": [
    "skipgrams2['p_xy'] = skipgrams2.n / N"
   ]
  },
  {
   "cell_type": "code",
   "execution_count": 32,
   "metadata": {},
   "outputs": [
    {
     "data": {
      "text/html": [
       "<div>\n",
       "<style scoped>\n",
       "    .dataframe tbody tr th:only-of-type {\n",
       "        vertical-align: middle;\n",
       "    }\n",
       "\n",
       "    .dataframe tbody tr th {\n",
       "        vertical-align: top;\n",
       "    }\n",
       "\n",
       "    .dataframe thead th {\n",
       "        text-align: right;\n",
       "    }\n",
       "</style>\n",
       "<table border=\"1\" class=\"dataframe\">\n",
       "  <thead>\n",
       "    <tr style=\"text-align: right;\">\n",
       "      <th></th>\n",
       "      <th></th>\n",
       "      <th>n</th>\n",
       "      <th>p_xy</th>\n",
       "    </tr>\n",
       "    <tr>\n",
       "      <th>target</th>\n",
       "      <th>probe</th>\n",
       "      <th></th>\n",
       "      <th></th>\n",
       "    </tr>\n",
       "  </thead>\n",
       "  <tbody>\n",
       "    <tr>\n",
       "      <th rowspan=\"9\" valign=\"top\">aback</th>\n",
       "      <th>completely</th>\n",
       "      <td>1</td>\n",
       "      <td>0.000001</td>\n",
       "    </tr>\n",
       "    <tr>\n",
       "      <th>considerably</th>\n",
       "      <td>1</td>\n",
       "      <td>0.000001</td>\n",
       "    </tr>\n",
       "    <tr>\n",
       "      <th>kept</th>\n",
       "      <td>1</td>\n",
       "      <td>0.000001</td>\n",
       "    </tr>\n",
       "    <tr>\n",
       "      <th>little</th>\n",
       "      <td>1</td>\n",
       "      <td>0.000001</td>\n",
       "    </tr>\n",
       "    <tr>\n",
       "      <th>murmured</th>\n",
       "      <td>1</td>\n",
       "      <td>0.000001</td>\n",
       "    </tr>\n",
       "    <tr>\n",
       "      <th>said</th>\n",
       "      <td>1</td>\n",
       "      <td>0.000001</td>\n",
       "    </tr>\n",
       "    <tr>\n",
       "      <th>something</th>\n",
       "      <td>1</td>\n",
       "      <td>0.000001</td>\n",
       "    </tr>\n",
       "    <tr>\n",
       "      <th>taken</th>\n",
       "      <td>8</td>\n",
       "      <td>0.000008</td>\n",
       "    </tr>\n",
       "    <tr>\n",
       "      <th>utterly</th>\n",
       "      <td>1</td>\n",
       "      <td>0.000001</td>\n",
       "    </tr>\n",
       "    <tr>\n",
       "      <th>abaft</th>\n",
       "      <th>aftest</th>\n",
       "      <td>1</td>\n",
       "      <td>0.000001</td>\n",
       "    </tr>\n",
       "  </tbody>\n",
       "</table>\n",
       "</div>"
      ],
      "text/plain": [
       "                     n      p_xy\n",
       "target probe                    \n",
       "aback  completely    1  0.000001\n",
       "       considerably  1  0.000001\n",
       "       kept          1  0.000001\n",
       "       little        1  0.000001\n",
       "       murmured      1  0.000001\n",
       "       said          1  0.000001\n",
       "       something     1  0.000001\n",
       "       taken         8  0.000008\n",
       "       utterly       1  0.000001\n",
       "abaft  aftest        1  0.000001"
      ]
     },
     "execution_count": 32,
     "metadata": {},
     "output_type": "execute_result"
    }
   ],
   "source": [
    "skipgrams2.head(10)"
   ]
  },
  {
   "cell_type": "code",
   "execution_count": 33,
   "metadata": {},
   "outputs": [],
   "source": [
    "### Compute $P(x,y)$ using GloVe weighting\n",
    "# Ngw = skipgrams2.glove_weight_sum.sum()\n",
    "# skipgrams2['p_xy_gw'] = skipgrams2.glove_weight_sum / Ngw\n",
    "# skipgrams2.sort_values('p_xy_gw', ascending=False).head(10)"
   ]
  },
  {
   "cell_type": "code",
   "execution_count": 34,
   "metadata": {},
   "outputs": [],
   "source": [
    "### Compute $p(x)$ using skigram data \n",
    "# p_x = skipgrams2.reset_index().target.value_counts() / N\n",
    "# p_x.head()"
   ]
  },
  {
   "cell_type": "markdown",
   "metadata": {},
   "source": [
    "### Compute $PMI(x;y)$"
   ]
  },
  {
   "cell_type": "code",
   "execution_count": 35,
   "metadata": {},
   "outputs": [],
   "source": [
    "skipgrams2['pmi_xy'] = skipgrams2.apply(lambda row: np.log(row.p_xy / (p_x.loc[row.name[0]] * p_x.loc[row.name[1]])), 1)"
   ]
  },
  {
   "cell_type": "code",
   "execution_count": 36,
   "metadata": {},
   "outputs": [
    {
     "data": {
      "text/html": [
       "<div>\n",
       "<style scoped>\n",
       "    .dataframe tbody tr th:only-of-type {\n",
       "        vertical-align: middle;\n",
       "    }\n",
       "\n",
       "    .dataframe tbody tr th {\n",
       "        vertical-align: top;\n",
       "    }\n",
       "\n",
       "    .dataframe thead th {\n",
       "        text-align: right;\n",
       "    }\n",
       "</style>\n",
       "<table border=\"1\" class=\"dataframe\">\n",
       "  <thead>\n",
       "    <tr style=\"text-align: right;\">\n",
       "      <th></th>\n",
       "      <th></th>\n",
       "      <th>n</th>\n",
       "      <th>p_xy</th>\n",
       "      <th>pmi_xy</th>\n",
       "    </tr>\n",
       "    <tr>\n",
       "      <th>target</th>\n",
       "      <th>probe</th>\n",
       "      <th></th>\n",
       "      <th></th>\n",
       "      <th></th>\n",
       "    </tr>\n",
       "  </thead>\n",
       "  <tbody>\n",
       "    <tr>\n",
       "      <th>sonne</th>\n",
       "      <th>twentie</th>\n",
       "      <td>1</td>\n",
       "      <td>0.000001</td>\n",
       "      <td>14.635063</td>\n",
       "    </tr>\n",
       "    <tr>\n",
       "      <th>arca</th>\n",
       "      <th>nummos</th>\n",
       "      <td>1</td>\n",
       "      <td>0.000001</td>\n",
       "      <td>14.635063</td>\n",
       "    </tr>\n",
       "    <tr>\n",
       "      <th>rearranged</th>\n",
       "      <th>deft</th>\n",
       "      <td>1</td>\n",
       "      <td>0.000001</td>\n",
       "      <td>14.635063</td>\n",
       "    </tr>\n",
       "    <tr>\n",
       "      <th>petit</th>\n",
       "      <th>beau</th>\n",
       "      <td>1</td>\n",
       "      <td>0.000001</td>\n",
       "      <td>14.635063</td>\n",
       "    </tr>\n",
       "    <tr>\n",
       "      <th>growths</th>\n",
       "      <th>mushroom</th>\n",
       "      <td>1</td>\n",
       "      <td>0.000001</td>\n",
       "      <td>14.635063</td>\n",
       "    </tr>\n",
       "    <tr>\n",
       "      <th>touters</th>\n",
       "      <th>skeer</th>\n",
       "      <td>1</td>\n",
       "      <td>0.000001</td>\n",
       "      <td>14.635063</td>\n",
       "    </tr>\n",
       "    <tr>\n",
       "      <th>petite</th>\n",
       "      <th>pauvre</th>\n",
       "      <td>1</td>\n",
       "      <td>0.000001</td>\n",
       "      <td>14.635063</td>\n",
       "    </tr>\n",
       "    <tr>\n",
       "      <th rowspan=\"3\" valign=\"top\">unwept</th>\n",
       "      <th>unwatched</th>\n",
       "      <td>1</td>\n",
       "      <td>0.000001</td>\n",
       "      <td>14.635063</td>\n",
       "    </tr>\n",
       "    <tr>\n",
       "      <th>uncared</th>\n",
       "      <td>1</td>\n",
       "      <td>0.000001</td>\n",
       "      <td>14.635063</td>\n",
       "    </tr>\n",
       "    <tr>\n",
       "      <th>bereft</th>\n",
       "      <td>1</td>\n",
       "      <td>0.000001</td>\n",
       "      <td>14.635063</td>\n",
       "    </tr>\n",
       "  </tbody>\n",
       "</table>\n",
       "</div>"
      ],
      "text/plain": [
       "                      n      p_xy     pmi_xy\n",
       "target     probe                            \n",
       "sonne      twentie    1  0.000001  14.635063\n",
       "arca       nummos     1  0.000001  14.635063\n",
       "rearranged deft       1  0.000001  14.635063\n",
       "petit      beau       1  0.000001  14.635063\n",
       "growths    mushroom   1  0.000001  14.635063\n",
       "touters    skeer      1  0.000001  14.635063\n",
       "petite     pauvre     1  0.000001  14.635063\n",
       "unwept     unwatched  1  0.000001  14.635063\n",
       "           uncared    1  0.000001  14.635063\n",
       "           bereft     1  0.000001  14.635063"
      ]
     },
     "execution_count": 36,
     "metadata": {},
     "output_type": "execute_result"
    }
   ],
   "source": [
    "skipgrams2.sort_values('pmi_xy', ascending=False).head(10)"
   ]
  },
  {
   "cell_type": "code",
   "execution_count": 37,
   "metadata": {},
   "outputs": [],
   "source": [
    "skipgrams2['npmi_xy'] = skipgrams2.pmi_xy / -( np.log(skipgrams2.p_xy) )"
   ]
  },
  {
   "cell_type": "code",
   "execution_count": 38,
   "metadata": {},
   "outputs": [
    {
     "data": {
      "text/html": [
       "<div>\n",
       "<style scoped>\n",
       "    .dataframe tbody tr th:only-of-type {\n",
       "        vertical-align: middle;\n",
       "    }\n",
       "\n",
       "    .dataframe tbody tr th {\n",
       "        vertical-align: top;\n",
       "    }\n",
       "\n",
       "    .dataframe thead th {\n",
       "        text-align: right;\n",
       "    }\n",
       "</style>\n",
       "<table border=\"1\" class=\"dataframe\">\n",
       "  <thead>\n",
       "    <tr style=\"text-align: right;\">\n",
       "      <th></th>\n",
       "      <th></th>\n",
       "      <th>n</th>\n",
       "      <th>p_xy</th>\n",
       "      <th>pmi_xy</th>\n",
       "      <th>npmi_xy</th>\n",
       "    </tr>\n",
       "    <tr>\n",
       "      <th>target</th>\n",
       "      <th>probe</th>\n",
       "      <th></th>\n",
       "      <th></th>\n",
       "      <th></th>\n",
       "      <th></th>\n",
       "    </tr>\n",
       "  </thead>\n",
       "  <tbody>\n",
       "    <tr>\n",
       "      <th>computer</th>\n",
       "      <th>virus</th>\n",
       "      <td>4</td>\n",
       "      <td>0.000004</td>\n",
       "      <td>13.941916</td>\n",
       "      <td>1.122434</td>\n",
       "    </tr>\n",
       "    <tr>\n",
       "      <th>virus</th>\n",
       "      <th>computer</th>\n",
       "      <td>4</td>\n",
       "      <td>0.000004</td>\n",
       "      <td>13.941916</td>\n",
       "      <td>1.122434</td>\n",
       "    </tr>\n",
       "    <tr>\n",
       "      <th>ihre</th>\n",
       "      <th>unvollkommen</th>\n",
       "      <td>2</td>\n",
       "      <td>0.000002</td>\n",
       "      <td>14.635063</td>\n",
       "      <td>1.115962</td>\n",
       "    </tr>\n",
       "    <tr>\n",
       "      <th>fracto</th>\n",
       "      <th>nunc</th>\n",
       "      <td>2</td>\n",
       "      <td>0.000002</td>\n",
       "      <td>14.635063</td>\n",
       "      <td>1.115962</td>\n",
       "    </tr>\n",
       "    <tr>\n",
       "      <th>nunc</th>\n",
       "      <th>fracto</th>\n",
       "      <td>2</td>\n",
       "      <td>0.000002</td>\n",
       "      <td>14.635063</td>\n",
       "      <td>1.115962</td>\n",
       "    </tr>\n",
       "  </tbody>\n",
       "</table>\n",
       "</div>"
      ],
      "text/plain": [
       "                       n      p_xy     pmi_xy   npmi_xy\n",
       "target   probe                                         \n",
       "computer virus         4  0.000004  13.941916  1.122434\n",
       "virus    computer      4  0.000004  13.941916  1.122434\n",
       "ihre     unvollkommen  2  0.000002  14.635063  1.115962\n",
       "fracto   nunc          2  0.000002  14.635063  1.115962\n",
       "nunc     fracto        2  0.000002  14.635063  1.115962"
      ]
     },
     "execution_count": 38,
     "metadata": {},
     "output_type": "execute_result"
    }
   ],
   "source": [
    "skipgrams2.sort_values('npmi_xy', ascending=False).head()"
   ]
  },
  {
   "cell_type": "code",
   "execution_count": 39,
   "metadata": {},
   "outputs": [],
   "source": [
    "# skipgrams2['pmi_xy_gw'] = skipgrams2.apply(lambda row: np.log2(row.p_xy_gw / (p_x.loc[row.name[0]] * p_x.loc[row.name[1]])), 1)"
   ]
  },
  {
   "cell_type": "code",
   "execution_count": 40,
   "metadata": {},
   "outputs": [],
   "source": [
    "# skipgrams2.pmi_xy_gw.sort_values(ascending=False)"
   ]
  },
  {
   "cell_type": "markdown",
   "metadata": {},
   "source": [
    "## PMI Matrix"
   ]
  },
  {
   "cell_type": "code",
   "execution_count": 41,
   "metadata": {},
   "outputs": [],
   "source": [
    "SGM = skipgrams2.npmi_xy.unstack().fillna(0)"
   ]
  },
  {
   "cell_type": "code",
   "execution_count": 43,
   "metadata": {},
   "outputs": [
    {
     "data": {
      "text/html": [
       "<div>\n",
       "<style scoped>\n",
       "    .dataframe tbody tr th:only-of-type {\n",
       "        vertical-align: middle;\n",
       "    }\n",
       "\n",
       "    .dataframe tbody tr th {\n",
       "        vertical-align: top;\n",
       "    }\n",
       "\n",
       "    .dataframe thead th {\n",
       "        text-align: right;\n",
       "    }\n",
       "</style>\n",
       "<table border=\"1\" class=\"dataframe\">\n",
       "  <thead>\n",
       "    <tr style=\"text-align: right;\">\n",
       "      <th>probe</th>\n",
       "      <th>aback</th>\n",
       "      <th>abaft</th>\n",
       "      <th>abandon</th>\n",
       "      <th>abandoned</th>\n",
       "      <th>abandoning</th>\n",
       "      <th>abandons</th>\n",
       "      <th>abasement</th>\n",
       "      <th>abashed</th>\n",
       "      <th>abate</th>\n",
       "      <th>abated</th>\n",
       "      <th>...</th>\n",
       "      <th>zigzagged</th>\n",
       "      <th>zone</th>\n",
       "      <th>zoology</th>\n",
       "      <th>zoöphagous</th>\n",
       "      <th>zoöphagy</th>\n",
       "      <th>zum</th>\n",
       "      <th>zusammen</th>\n",
       "      <th>à</th>\n",
       "      <th>ça</th>\n",
       "      <th>émeutes</th>\n",
       "    </tr>\n",
       "    <tr>\n",
       "      <th>target</th>\n",
       "      <th></th>\n",
       "      <th></th>\n",
       "      <th></th>\n",
       "      <th></th>\n",
       "      <th></th>\n",
       "      <th></th>\n",
       "      <th></th>\n",
       "      <th></th>\n",
       "      <th></th>\n",
       "      <th></th>\n",
       "      <th></th>\n",
       "      <th></th>\n",
       "      <th></th>\n",
       "      <th></th>\n",
       "      <th></th>\n",
       "      <th></th>\n",
       "      <th></th>\n",
       "      <th></th>\n",
       "      <th></th>\n",
       "      <th></th>\n",
       "      <th></th>\n",
       "    </tr>\n",
       "  </thead>\n",
       "  <tbody>\n",
       "    <tr>\n",
       "      <th>aback</th>\n",
       "      <td>0.0</td>\n",
       "      <td>0.0</td>\n",
       "      <td>0.0</td>\n",
       "      <td>0.0</td>\n",
       "      <td>0.0</td>\n",
       "      <td>0.0</td>\n",
       "      <td>0.0</td>\n",
       "      <td>0.0</td>\n",
       "      <td>0.0</td>\n",
       "      <td>0.0</td>\n",
       "      <td>...</td>\n",
       "      <td>0.0</td>\n",
       "      <td>0.0</td>\n",
       "      <td>0.0</td>\n",
       "      <td>0.0</td>\n",
       "      <td>0.0</td>\n",
       "      <td>0.0</td>\n",
       "      <td>0.0</td>\n",
       "      <td>0.0</td>\n",
       "      <td>0.0</td>\n",
       "      <td>0.0</td>\n",
       "    </tr>\n",
       "    <tr>\n",
       "      <th>abaft</th>\n",
       "      <td>0.0</td>\n",
       "      <td>0.0</td>\n",
       "      <td>0.0</td>\n",
       "      <td>0.0</td>\n",
       "      <td>0.0</td>\n",
       "      <td>0.0</td>\n",
       "      <td>0.0</td>\n",
       "      <td>0.0</td>\n",
       "      <td>0.0</td>\n",
       "      <td>0.0</td>\n",
       "      <td>...</td>\n",
       "      <td>0.0</td>\n",
       "      <td>0.0</td>\n",
       "      <td>0.0</td>\n",
       "      <td>0.0</td>\n",
       "      <td>0.0</td>\n",
       "      <td>0.0</td>\n",
       "      <td>0.0</td>\n",
       "      <td>0.0</td>\n",
       "      <td>0.0</td>\n",
       "      <td>0.0</td>\n",
       "    </tr>\n",
       "    <tr>\n",
       "      <th>abandon</th>\n",
       "      <td>0.0</td>\n",
       "      <td>0.0</td>\n",
       "      <td>0.0</td>\n",
       "      <td>0.0</td>\n",
       "      <td>0.0</td>\n",
       "      <td>0.0</td>\n",
       "      <td>0.0</td>\n",
       "      <td>0.0</td>\n",
       "      <td>0.0</td>\n",
       "      <td>0.0</td>\n",
       "      <td>...</td>\n",
       "      <td>0.0</td>\n",
       "      <td>0.0</td>\n",
       "      <td>0.0</td>\n",
       "      <td>0.0</td>\n",
       "      <td>0.0</td>\n",
       "      <td>0.0</td>\n",
       "      <td>0.0</td>\n",
       "      <td>0.0</td>\n",
       "      <td>0.0</td>\n",
       "      <td>0.0</td>\n",
       "    </tr>\n",
       "    <tr>\n",
       "      <th>abandoned</th>\n",
       "      <td>0.0</td>\n",
       "      <td>0.0</td>\n",
       "      <td>0.0</td>\n",
       "      <td>0.0</td>\n",
       "      <td>0.0</td>\n",
       "      <td>0.0</td>\n",
       "      <td>0.0</td>\n",
       "      <td>0.0</td>\n",
       "      <td>0.0</td>\n",
       "      <td>0.0</td>\n",
       "      <td>...</td>\n",
       "      <td>0.0</td>\n",
       "      <td>0.0</td>\n",
       "      <td>0.0</td>\n",
       "      <td>0.0</td>\n",
       "      <td>0.0</td>\n",
       "      <td>0.0</td>\n",
       "      <td>0.0</td>\n",
       "      <td>0.0</td>\n",
       "      <td>0.0</td>\n",
       "      <td>0.0</td>\n",
       "    </tr>\n",
       "    <tr>\n",
       "      <th>abandoning</th>\n",
       "      <td>0.0</td>\n",
       "      <td>0.0</td>\n",
       "      <td>0.0</td>\n",
       "      <td>0.0</td>\n",
       "      <td>0.0</td>\n",
       "      <td>0.0</td>\n",
       "      <td>0.0</td>\n",
       "      <td>0.0</td>\n",
       "      <td>0.0</td>\n",
       "      <td>0.0</td>\n",
       "      <td>...</td>\n",
       "      <td>0.0</td>\n",
       "      <td>0.0</td>\n",
       "      <td>0.0</td>\n",
       "      <td>0.0</td>\n",
       "      <td>0.0</td>\n",
       "      <td>0.0</td>\n",
       "      <td>0.0</td>\n",
       "      <td>0.0</td>\n",
       "      <td>0.0</td>\n",
       "      <td>0.0</td>\n",
       "    </tr>\n",
       "  </tbody>\n",
       "</table>\n",
       "<p>5 rows × 24290 columns</p>\n",
       "</div>"
      ],
      "text/plain": [
       "probe       aback  abaft  abandon  abandoned  abandoning  abandons  abasement  \\\n",
       "target                                                                          \n",
       "aback         0.0    0.0      0.0        0.0         0.0       0.0        0.0   \n",
       "abaft         0.0    0.0      0.0        0.0         0.0       0.0        0.0   \n",
       "abandon       0.0    0.0      0.0        0.0         0.0       0.0        0.0   \n",
       "abandoned     0.0    0.0      0.0        0.0         0.0       0.0        0.0   \n",
       "abandoning    0.0    0.0      0.0        0.0         0.0       0.0        0.0   \n",
       "\n",
       "probe       abashed  abate  abated   ...     zigzagged  zone  zoology  \\\n",
       "target                               ...                                \n",
       "aback           0.0    0.0     0.0   ...           0.0   0.0      0.0   \n",
       "abaft           0.0    0.0     0.0   ...           0.0   0.0      0.0   \n",
       "abandon         0.0    0.0     0.0   ...           0.0   0.0      0.0   \n",
       "abandoned       0.0    0.0     0.0   ...           0.0   0.0      0.0   \n",
       "abandoning      0.0    0.0     0.0   ...           0.0   0.0      0.0   \n",
       "\n",
       "probe       zoöphagous  zoöphagy  zum  zusammen    à   ça  émeutes  \n",
       "target                                                              \n",
       "aback              0.0       0.0  0.0       0.0  0.0  0.0      0.0  \n",
       "abaft              0.0       0.0  0.0       0.0  0.0  0.0      0.0  \n",
       "abandon            0.0       0.0  0.0       0.0  0.0  0.0      0.0  \n",
       "abandoned          0.0       0.0  0.0       0.0  0.0  0.0      0.0  \n",
       "abandoning         0.0       0.0  0.0       0.0  0.0  0.0      0.0  \n",
       "\n",
       "[5 rows x 24290 columns]"
      ]
     },
     "execution_count": 43,
     "metadata": {},
     "output_type": "execute_result"
    }
   ],
   "source": [
    "SGM.head()"
   ]
  },
  {
   "cell_type": "code",
   "execution_count": 32,
   "metadata": {},
   "outputs": [
    {
     "data": {
      "text/plain": [
       "probe\n",
       "war            0.751217\n",
       "consequence    0.700003\n",
       "émeutes        0.000000\n",
       "favourable     0.000000\n",
       "faultiness     0.000000\n",
       "Name: intestine, dtype: float64"
      ]
     },
     "execution_count": 32,
     "metadata": {},
     "output_type": "execute_result"
    }
   ],
   "source": [
    "SGM.loc['intestine'].sort_values(ascending=False).head()"
   ]
  },
  {
   "cell_type": "code",
   "execution_count": 33,
   "metadata": {},
   "outputs": [
    {
     "data": {
      "text/html": [
       "<div>\n",
       "<style scoped>\n",
       "    .dataframe tbody tr th:only-of-type {\n",
       "        vertical-align: middle;\n",
       "    }\n",
       "\n",
       "    .dataframe tbody tr th {\n",
       "        vertical-align: top;\n",
       "    }\n",
       "\n",
       "    .dataframe thead th {\n",
       "        text-align: right;\n",
       "    }\n",
       "</style>\n",
       "<table border=\"1\" class=\"dataframe\">\n",
       "  <thead>\n",
       "    <tr style=\"text-align: right;\">\n",
       "      <th></th>\n",
       "      <th>n</th>\n",
       "      <th>glove_weight_sum</th>\n",
       "      <th>p_xy</th>\n",
       "      <th>pmi_xy</th>\n",
       "      <th>npmi_xy</th>\n",
       "    </tr>\n",
       "    <tr>\n",
       "      <th>probe</th>\n",
       "      <th></th>\n",
       "      <th></th>\n",
       "      <th></th>\n",
       "      <th></th>\n",
       "      <th></th>\n",
       "    </tr>\n",
       "  </thead>\n",
       "  <tbody>\n",
       "    <tr>\n",
       "      <th>consequence</th>\n",
       "      <td>1</td>\n",
       "      <td>0.5</td>\n",
       "      <td>0.000001</td>\n",
       "      <td>9.665250</td>\n",
       "      <td>0.700003</td>\n",
       "    </tr>\n",
       "    <tr>\n",
       "      <th>war</th>\n",
       "      <td>1</td>\n",
       "      <td>1.0</td>\n",
       "      <td>0.000001</td>\n",
       "      <td>10.372383</td>\n",
       "      <td>0.751217</td>\n",
       "    </tr>\n",
       "  </tbody>\n",
       "</table>\n",
       "</div>"
      ],
      "text/plain": [
       "             n  glove_weight_sum      p_xy     pmi_xy   npmi_xy\n",
       "probe                                                          \n",
       "consequence  1               0.5  0.000001   9.665250  0.700003\n",
       "war          1               1.0  0.000001  10.372383  0.751217"
      ]
     },
     "execution_count": 33,
     "metadata": {},
     "output_type": "execute_result"
    }
   ],
   "source": [
    "skipgrams2.loc['intestine'].sort_values('n', ascending=False)"
   ]
  },
  {
   "cell_type": "markdown",
   "metadata": {},
   "source": [
    "## SVD"
   ]
  },
  {
   "cell_type": "code",
   "execution_count": 34,
   "metadata": {},
   "outputs": [],
   "source": [
    "import scipy as sp #.sparse.linalg.svds(PMI, k=256)"
   ]
  },
  {
   "cell_type": "code",
   "execution_count": 35,
   "metadata": {},
   "outputs": [],
   "source": [
    "sparse = sp.sparse.csr_matrix(SGM.values)"
   ]
  },
  {
   "cell_type": "code",
   "execution_count": 36,
   "metadata": {},
   "outputs": [],
   "source": [
    "SVD = sp.sparse.linalg.svds(sparse, k=256)"
   ]
  },
  {
   "cell_type": "code",
   "execution_count": 37,
   "metadata": {},
   "outputs": [],
   "source": [
    "U, S, V = SVD"
   ]
  },
  {
   "cell_type": "code",
   "execution_count": 38,
   "metadata": {},
   "outputs": [],
   "source": [
    "# unorm = U / np.sqrt(np.sum(U*U, axis=1, keepdims=True))\n",
    "# vnorm = V / np.sqrt(np.sum(V*V, axis=0, keepdims=True))"
   ]
  },
  {
   "cell_type": "code",
   "execution_count": 39,
   "metadata": {},
   "outputs": [],
   "source": [
    "word_vecs = U + V.T\n",
    "word_vecs_norm = word_vecs / np.sqrt(np.sum(word_vecs * word_vecs, axis=1, keepdims=True))"
   ]
  },
  {
   "cell_type": "code",
   "execution_count": 40,
   "metadata": {},
   "outputs": [],
   "source": [
    "WE = pd.DataFrame(word_vecs_norm, index=SGM.index)\n",
    "WE.index.name = 'word_str'"
   ]
  },
  {
   "cell_type": "code",
   "execution_count": 41,
   "metadata": {},
   "outputs": [
    {
     "data": {
      "text/html": [
       "<div>\n",
       "<style scoped>\n",
       "    .dataframe tbody tr th:only-of-type {\n",
       "        vertical-align: middle;\n",
       "    }\n",
       "\n",
       "    .dataframe tbody tr th {\n",
       "        vertical-align: top;\n",
       "    }\n",
       "\n",
       "    .dataframe thead th {\n",
       "        text-align: right;\n",
       "    }\n",
       "</style>\n",
       "<table border=\"1\" class=\"dataframe\">\n",
       "  <thead>\n",
       "    <tr style=\"text-align: right;\">\n",
       "      <th></th>\n",
       "      <th>0</th>\n",
       "      <th>1</th>\n",
       "      <th>2</th>\n",
       "      <th>3</th>\n",
       "      <th>4</th>\n",
       "      <th>5</th>\n",
       "      <th>6</th>\n",
       "      <th>7</th>\n",
       "      <th>8</th>\n",
       "      <th>9</th>\n",
       "      <th>...</th>\n",
       "      <th>246</th>\n",
       "      <th>247</th>\n",
       "      <th>248</th>\n",
       "      <th>249</th>\n",
       "      <th>250</th>\n",
       "      <th>251</th>\n",
       "      <th>252</th>\n",
       "      <th>253</th>\n",
       "      <th>254</th>\n",
       "      <th>255</th>\n",
       "    </tr>\n",
       "    <tr>\n",
       "      <th>word_str</th>\n",
       "      <th></th>\n",
       "      <th></th>\n",
       "      <th></th>\n",
       "      <th></th>\n",
       "      <th></th>\n",
       "      <th></th>\n",
       "      <th></th>\n",
       "      <th></th>\n",
       "      <th></th>\n",
       "      <th></th>\n",
       "      <th></th>\n",
       "      <th></th>\n",
       "      <th></th>\n",
       "      <th></th>\n",
       "      <th></th>\n",
       "      <th></th>\n",
       "      <th></th>\n",
       "      <th></th>\n",
       "      <th></th>\n",
       "      <th></th>\n",
       "      <th></th>\n",
       "    </tr>\n",
       "  </thead>\n",
       "  <tbody>\n",
       "    <tr>\n",
       "      <th>aback</th>\n",
       "      <td>1.845418e-14</td>\n",
       "      <td>0.040194</td>\n",
       "      <td>3.985381e-14</td>\n",
       "      <td>-0.020119</td>\n",
       "      <td>0.075912</td>\n",
       "      <td>-0.052124</td>\n",
       "      <td>1.939879e-14</td>\n",
       "      <td>7.382745e-14</td>\n",
       "      <td>2.859582e-15</td>\n",
       "      <td>-0.071704</td>\n",
       "      <td>...</td>\n",
       "      <td>-6.182880e-16</td>\n",
       "      <td>-0.053758</td>\n",
       "      <td>0.027694</td>\n",
       "      <td>-1.210814e-15</td>\n",
       "      <td>-0.014615</td>\n",
       "      <td>0.045539</td>\n",
       "      <td>-0.072116</td>\n",
       "      <td>-0.047603</td>\n",
       "      <td>0.021114</td>\n",
       "      <td>-0.040583</td>\n",
       "    </tr>\n",
       "    <tr>\n",
       "      <th>abaft</th>\n",
       "      <td>4.114266e-14</td>\n",
       "      <td>0.048869</td>\n",
       "      <td>3.830572e-14</td>\n",
       "      <td>-0.023250</td>\n",
       "      <td>0.006422</td>\n",
       "      <td>-0.159226</td>\n",
       "      <td>3.775894e-14</td>\n",
       "      <td>-5.047627e-14</td>\n",
       "      <td>7.763162e-15</td>\n",
       "      <td>0.022019</td>\n",
       "      <td>...</td>\n",
       "      <td>3.179333e-16</td>\n",
       "      <td>0.002207</td>\n",
       "      <td>-0.052773</td>\n",
       "      <td>3.405554e-15</td>\n",
       "      <td>0.003823</td>\n",
       "      <td>-0.008140</td>\n",
       "      <td>0.026981</td>\n",
       "      <td>-0.050486</td>\n",
       "      <td>-0.056010</td>\n",
       "      <td>-0.014483</td>\n",
       "    </tr>\n",
       "    <tr>\n",
       "      <th>abandon</th>\n",
       "      <td>-1.564039e-14</td>\n",
       "      <td>-0.077616</td>\n",
       "      <td>-9.029757e-14</td>\n",
       "      <td>0.149301</td>\n",
       "      <td>-0.212866</td>\n",
       "      <td>0.077754</td>\n",
       "      <td>9.504554e-15</td>\n",
       "      <td>1.685816e-14</td>\n",
       "      <td>1.587071e-14</td>\n",
       "      <td>-0.027305</td>\n",
       "      <td>...</td>\n",
       "      <td>-1.018558e-15</td>\n",
       "      <td>-0.050581</td>\n",
       "      <td>0.002287</td>\n",
       "      <td>5.400540e-16</td>\n",
       "      <td>0.039436</td>\n",
       "      <td>-0.014823</td>\n",
       "      <td>0.027164</td>\n",
       "      <td>0.048715</td>\n",
       "      <td>0.090397</td>\n",
       "      <td>-0.067330</td>\n",
       "    </tr>\n",
       "    <tr>\n",
       "      <th>abandoned</th>\n",
       "      <td>5.449899e-14</td>\n",
       "      <td>-0.067577</td>\n",
       "      <td>-5.995251e-14</td>\n",
       "      <td>0.060940</td>\n",
       "      <td>-0.247509</td>\n",
       "      <td>-0.028677</td>\n",
       "      <td>2.490760e-14</td>\n",
       "      <td>4.066547e-14</td>\n",
       "      <td>1.119026e-14</td>\n",
       "      <td>0.011379</td>\n",
       "      <td>...</td>\n",
       "      <td>-6.644447e-16</td>\n",
       "      <td>-0.065895</td>\n",
       "      <td>-0.111213</td>\n",
       "      <td>7.494064e-15</td>\n",
       "      <td>-0.024864</td>\n",
       "      <td>-0.006603</td>\n",
       "      <td>-0.021847</td>\n",
       "      <td>0.014058</td>\n",
       "      <td>0.077565</td>\n",
       "      <td>-0.077343</td>\n",
       "    </tr>\n",
       "    <tr>\n",
       "      <th>abandoning</th>\n",
       "      <td>-1.199380e-13</td>\n",
       "      <td>-0.033249</td>\n",
       "      <td>-2.200784e-14</td>\n",
       "      <td>-0.068586</td>\n",
       "      <td>-0.051109</td>\n",
       "      <td>0.108353</td>\n",
       "      <td>-4.095903e-14</td>\n",
       "      <td>-6.757927e-14</td>\n",
       "      <td>6.897043e-16</td>\n",
       "      <td>0.052378</td>\n",
       "      <td>...</td>\n",
       "      <td>5.878162e-17</td>\n",
       "      <td>-0.035204</td>\n",
       "      <td>-0.121501</td>\n",
       "      <td>8.033488e-15</td>\n",
       "      <td>0.031339</td>\n",
       "      <td>0.078384</td>\n",
       "      <td>0.024014</td>\n",
       "      <td>0.031338</td>\n",
       "      <td>0.048161</td>\n",
       "      <td>-0.050376</td>\n",
       "    </tr>\n",
       "  </tbody>\n",
       "</table>\n",
       "<p>5 rows × 256 columns</p>\n",
       "</div>"
      ],
      "text/plain": [
       "                     0         1             2         3         4    \\\n",
       "word_str                                                               \n",
       "aback       1.845418e-14  0.040194  3.985381e-14 -0.020119  0.075912   \n",
       "abaft       4.114266e-14  0.048869  3.830572e-14 -0.023250  0.006422   \n",
       "abandon    -1.564039e-14 -0.077616 -9.029757e-14  0.149301 -0.212866   \n",
       "abandoned   5.449899e-14 -0.067577 -5.995251e-14  0.060940 -0.247509   \n",
       "abandoning -1.199380e-13 -0.033249 -2.200784e-14 -0.068586 -0.051109   \n",
       "\n",
       "                 5             6             7             8         9    \\\n",
       "word_str                                                                   \n",
       "aback      -0.052124  1.939879e-14  7.382745e-14  2.859582e-15 -0.071704   \n",
       "abaft      -0.159226  3.775894e-14 -5.047627e-14  7.763162e-15  0.022019   \n",
       "abandon     0.077754  9.504554e-15  1.685816e-14  1.587071e-14 -0.027305   \n",
       "abandoned  -0.028677  2.490760e-14  4.066547e-14  1.119026e-14  0.011379   \n",
       "abandoning  0.108353 -4.095903e-14 -6.757927e-14  6.897043e-16  0.052378   \n",
       "\n",
       "              ...              246       247       248           249  \\\n",
       "word_str      ...                                                      \n",
       "aback         ...    -6.182880e-16 -0.053758  0.027694 -1.210814e-15   \n",
       "abaft         ...     3.179333e-16  0.002207 -0.052773  3.405554e-15   \n",
       "abandon       ...    -1.018558e-15 -0.050581  0.002287  5.400540e-16   \n",
       "abandoned     ...    -6.644447e-16 -0.065895 -0.111213  7.494064e-15   \n",
       "abandoning    ...     5.878162e-17 -0.035204 -0.121501  8.033488e-15   \n",
       "\n",
       "                 250       251       252       253       254       255  \n",
       "word_str                                                                \n",
       "aback      -0.014615  0.045539 -0.072116 -0.047603  0.021114 -0.040583  \n",
       "abaft       0.003823 -0.008140  0.026981 -0.050486 -0.056010 -0.014483  \n",
       "abandon     0.039436 -0.014823  0.027164  0.048715  0.090397 -0.067330  \n",
       "abandoned  -0.024864 -0.006603 -0.021847  0.014058  0.077565 -0.077343  \n",
       "abandoning  0.031339  0.078384  0.024014  0.031338  0.048161 -0.050376  \n",
       "\n",
       "[5 rows x 256 columns]"
      ]
     },
     "execution_count": 41,
     "metadata": {},
     "output_type": "execute_result"
    }
   ],
   "source": [
    "WE.head()"
   ]
  },
  {
   "cell_type": "code",
   "execution_count": 42,
   "metadata": {},
   "outputs": [],
   "source": [
    "def word_sims(word, n=10):\n",
    "    try:\n",
    "        sims = SGM.loc[word].sort_values(ascending=False).head(n).reset_index().values\n",
    "        return sims\n",
    "    except KeyError as e:\n",
    "        print('Word \"{}\" not in vocabulary.'.format(word))\n",
    "        return None"
   ]
  },
  {
   "cell_type": "code",
   "execution_count": 43,
   "metadata": {},
   "outputs": [
    {
     "name": "stdout",
     "output_type": "stream",
     "text": [
      "[['grovel' 0.6401623154332218]\n",
      " ['transit' 0.6401623154332218]\n",
      " ['anniversary' 0.6401623154332218]\n",
      " ['prosperous' 0.6041280521921256]\n",
      " ['consoles' 0.589961338701885]\n",
      " ['supremely' 0.589961338701885]\n",
      " ['recurring' 0.589961338701885]\n",
      " ['jocund' 0.5397603619705483]\n",
      " ['flights' 0.5235992571699444]\n",
      " ['descendants' 0.5235992571699444]]\n"
     ]
    }
   ],
   "source": [
    "print(word_sims('happy'))"
   ]
  },
  {
   "cell_type": "code",
   "execution_count": 48,
   "metadata": {},
   "outputs": [],
   "source": [
    "def word_sim_report(word):\n",
    "    sims = word_sims(word)\n",
    "    for sim_word, score in sims:\n",
    "        context = ' '.join(skipgrams2.loc[sim_word].index.values.tolist()[:5])\n",
    "        print(\"{} ({}) {}\".format(sim_word.upper(), score, context))\n",
    "        print('-'*80)"
   ]
  },
  {
   "cell_type": "code",
   "execution_count": 49,
   "metadata": {},
   "outputs": [
    {
     "name": "stdout",
     "output_type": "stream",
     "text": [
      "DEPRAVE (0.7020430894024823) corrupt distract mind taste\n",
      "--------------------------------------------------------------------------------\n",
      "VITIATE (0.7020430894024823) heart taste\n",
      "--------------------------------------------------------------------------------\n",
      "DEADEN (0.7020430894024823) cannot taste\n",
      "--------------------------------------------------------------------------------\n",
      "ACCORDANT (0.7020430894024823) taste\n",
      "--------------------------------------------------------------------------------\n",
      "CONVERSAZIONI (0.7020430894024823) music taste\n",
      "--------------------------------------------------------------------------------\n",
      "CHAMPAGNE (0.6553769887460313) administered ammonia bottle brandy dry\n",
      "--------------------------------------------------------------------------------\n",
      "MODERATED (0.6518421126711456) already considered simplicity taste wishes\n",
      "--------------------------------------------------------------------------------\n",
      "ENTOMOLOGY (0.6518421126711456) devoted identification south taste\n",
      "--------------------------------------------------------------------------------\n",
      "CLASSIC (0.6224764237837384) descend remembrances revived story taste\n",
      "--------------------------------------------------------------------------------\n",
      "CONGENIAL (0.6164251771120153) disposition frost heart hunt joy\n",
      "--------------------------------------------------------------------------------\n"
     ]
    }
   ],
   "source": [
    "word_sim_report('taste')"
   ]
  },
  {
   "cell_type": "code",
   "execution_count": 50,
   "metadata": {},
   "outputs": [
    {
     "name": "stdout",
     "output_type": "stream",
     "text": [
      "YOUNG (0.5772167789397364) abandon abject absence absolutely accepted\n",
      "--------------------------------------------------------------------------------\n",
      "LEGGED (0.5487605823908175) alone cross friend game high\n",
      "--------------------------------------------------------------------------------\n",
      "TALL (0.5348549377696777) admit age along anchor art\n",
      "--------------------------------------------------------------------------------\n",
      "PIEBALD (0.5342342897669777) complexion hair man twice\n",
      "--------------------------------------------------------------------------------\n",
      "OLD (0.531586346825827) abbey able abruptly accent account\n",
      "--------------------------------------------------------------------------------\n",
      "BEARDED (0.5110802281230045) background bargain black chin efficient\n",
      "--------------------------------------------------------------------------------\n",
      "TALLIES (0.4967572282682332) idea man\n",
      "--------------------------------------------------------------------------------\n",
      "REPELLANT (0.4967572282682332) man\n",
      "--------------------------------------------------------------------------------\n",
      "STUDIOUS (0.4967572282682332) habits man quiet\n",
      "--------------------------------------------------------------------------------\n",
      "HUMORED (0.4967572282682332) man\n",
      "--------------------------------------------------------------------------------\n"
     ]
    }
   ],
   "source": [
    "word_sim_report('man')"
   ]
  },
  {
   "cell_type": "code",
   "execution_count": 51,
   "metadata": {},
   "outputs": [
    {
     "name": "stdout",
     "output_type": "stream",
     "text": [
      "LADY (0.6516796047854232) abbess abruptly absence accept accommodate\n",
      "--------------------------------------------------------------------------------\n",
      "LADIES (0.6175629322254406) absence accommodation addressed advice age\n",
      "--------------------------------------------------------------------------------\n",
      "CRATCHITS (0.5929933764406247) became chairs danced fetch got\n",
      "--------------------------------------------------------------------------------\n",
      "MAN (0.5772167789397364) abandons abhorrence aboard abominable abruptly\n",
      "--------------------------------------------------------------------------------\n",
      "LADYS (0.5703715029747964) advice affections alarm annoyance appeared\n",
      "--------------------------------------------------------------------------------\n",
      "SMIRKING (0.5564600455343252) rejoined young\n",
      "--------------------------------------------------------------------------------\n",
      "GENTLEMANLIKE (0.5564600455343252) man young\n",
      "--------------------------------------------------------------------------------\n",
      "VIRILE (0.5564600455343252) young\n",
      "--------------------------------------------------------------------------------\n",
      "PITCHFORK (0.5564600455343252) young\n",
      "--------------------------------------------------------------------------------\n",
      "GAL (0.5564600455343252) knew young\n",
      "--------------------------------------------------------------------------------\n"
     ]
    }
   ],
   "source": [
    "word_sim_report('young')"
   ]
  },
  {
   "cell_type": "markdown",
   "metadata": {},
   "source": [
    "## Define some semantic functions"
   ]
  },
  {
   "cell_type": "code",
   "execution_count": 70,
   "metadata": {},
   "outputs": [],
   "source": [
    "from sklearn.metrics.pairwise import cosine_similarity\n",
    "from sklearn.metrics.pairwise import euclidean_distances\n",
    "\n",
    "def get_word_vector(term_str):\n",
    "    \"\"\"Get a numpy array from the glove matrix and shape for input into cosine function\"\"\"\n",
    "    wv = SGM.loc[term_str].values.reshape(-1, 1).T\n",
    "    return wv\n",
    "\n",
    "def get_sims(term_str, n=10):\n",
    "    \"\"\"Get the top n words for a given word based on cosine similarity\"\"\"\n",
    "    wv = get_word_vector(term_str)\n",
    "    sims = cosine_similarity(SGM.values, wv)\n",
    "    return pd.DataFrame(sims, index=SGM.index, columns=['score']).sort_values('score',ascending=False).head(n)\n",
    "\n",
    "def get_nearest_vector(wv, method='cosine'):\n",
    "    \"\"\"Get the nearest word vector to a given word vector\"\"\"\n",
    "    if method == 'cosine':\n",
    "        sims = cosine_similarity(SGM.values, wv)\n",
    "    elif method == 'euclidean':\n",
    "        sims = euclidean_distances(SGM.values, wv)\n",
    "    else:\n",
    "        print('Invalid method {}; defaulting to cosine.'.format(method))\n",
    "        sims = cosine_similarity(SGM.values, wv)\n",
    "    return pd.DataFrame(sims, index=SGM.index, columns=['score']).sort_values('score',ascending=False).head(2).iloc[1]\n",
    "\n",
    "def get_analogy(a, b, d, method='cosine'):\n",
    "    \"\"\"Infer missing analogical term\"\"\"\n",
    "    try:\n",
    "        A = get_word_vector(a)\n",
    "        B = get_word_vector(b)\n",
    "        D = get_word_vector(d)\n",
    "        C = np.add(np.subtract(A, B), D)\n",
    "        X = get_nearest_vector(C, method=method)\n",
    "        return X.name\n",
    "    except ValueError as e:\n",
    "        print(e)\n",
    "        return None"
   ]
  },
  {
   "cell_type": "code",
   "execution_count": 71,
   "metadata": {},
   "outputs": [],
   "source": [
    "def get_opposite(a, b, method='cosine'):\n",
    "    A = get_word_vector(a)\n",
    "    B = get_word_vector(b)\n",
    "    C = np.subtract(A, B)\n",
    "    X = get_nearest_vector(C, method=method)\n",
    "    return X.name"
   ]
  },
  {
   "cell_type": "code",
   "execution_count": 73,
   "metadata": {},
   "outputs": [
    {
     "data": {
      "text/plain": [
       "'said'"
      ]
     },
     "execution_count": 73,
     "metadata": {},
     "output_type": "execute_result"
    }
   ],
   "source": [
    "get_opposite('cat','dog', method='euclidean')"
   ]
  },
  {
   "cell_type": "code",
   "execution_count": 74,
   "metadata": {},
   "outputs": [
    {
     "data": {
      "text/plain": [
       "'said'"
      ]
     },
     "execution_count": 74,
     "metadata": {},
     "output_type": "execute_result"
    }
   ],
   "source": [
    "get_analogy('dog', 'male', 'female', method='euclidean')"
   ]
  },
  {
   "cell_type": "markdown",
   "metadata": {
    "toc-hr-collapsed": true
   },
   "source": [
    "# Save"
   ]
  },
  {
   "cell_type": "code",
   "execution_count": 52,
   "metadata": {},
   "outputs": [],
   "source": [
    "with sqlite3.connect(db_file) as db:\n",
    "    tx.put_to_db(db, skipgrams, 'skipgrams', index=False, if_exists='replace')\n",
    "    tx.put_to_db(db, WE, 'wordembeddings', index=True, if_exists='replace')"
   ]
  }
 ],
 "metadata": {
  "kernelspec": {
   "display_name": "Python 3",
   "language": "python",
   "name": "python3"
  },
  "language_info": {
   "codemirror_mode": {
    "name": "ipython",
    "version": 3
   },
   "file_extension": ".py",
   "mimetype": "text/x-python",
   "name": "python",
   "nbconvert_exporter": "python",
   "pygments_lexer": "ipython3",
   "version": "3.6.8"
  }
 },
 "nbformat": 4,
 "nbformat_minor": 2
}
