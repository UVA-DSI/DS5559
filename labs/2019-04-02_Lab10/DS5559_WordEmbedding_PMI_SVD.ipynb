{
 "cells": [
  {
   "cell_type": "markdown",
   "metadata": {},
   "source": [
    "# Synopsis\n",
    "\n",
    "We create word vectors by applying a singular value decomposition to a pointwise mutual information word-word matrix. "
   ]
  },
  {
   "cell_type": "markdown",
   "metadata": {},
   "source": [
    "# Configuration"
   ]
  },
  {
   "cell_type": "code",
   "execution_count": 1,
   "metadata": {},
   "outputs": [],
   "source": [
    "proj = '/Users/rca2t/Dropbox/Courses/DSI/DS5559/UVA_DSI_REPO'\n",
    "pwd = '{}/play/wordembedding'.format(proj)\n",
    "db_file = \"{}/data/novels.db\".format(proj)\n",
    "lib = \"{}/lib\".format(proj)\n",
    "\n",
    "# Word Embedding\n",
    "window = 3"
   ]
  },
  {
   "cell_type": "markdown",
   "metadata": {
    "toc-hr-collapsed": true
   },
   "source": [
    "# Libraries"
   ]
  },
  {
   "cell_type": "code",
   "execution_count": 82,
   "metadata": {},
   "outputs": [],
   "source": [
    "import pandas as pd\n",
    "import numpy as np\n",
    "import scipy as sp\n",
    "import sqlite3\n",
    "import sys; sys.path.append(lib)\n",
    "from textman import textman as tx"
   ]
  },
  {
   "cell_type": "markdown",
   "metadata": {},
   "source": [
    "# Pragmas"
   ]
  },
  {
   "cell_type": "code",
   "execution_count": 3,
   "metadata": {},
   "outputs": [],
   "source": [
    "%matplotlib inline"
   ]
  },
  {
   "cell_type": "markdown",
   "metadata": {
    "toc-hr-collapsed": false
   },
   "source": [
    "# Process"
   ]
  },
  {
   "cell_type": "markdown",
   "metadata": {
    "toc-hr-collapsed": false
   },
   "source": [
    "## Extract skipgrams from tokens with SQL\n",
    "\n",
    "We grab a sliding bag of tokens without stopwords and proper nouns."
   ]
  },
  {
   "cell_type": "markdown",
   "metadata": {},
   "source": [
    "### Build SQL query from configs"
   ]
  },
  {
   "cell_type": "code",
   "execution_count": 4,
   "metadata": {},
   "outputs": [],
   "source": [
    "in_clause = ', '.join(['x.token_num + {0}, x.token_num - {0}'.format(i) for i in range(1, window + 1)])\n",
    "pos_clause = \"AND pos NOT LIKE 'NNP%' \" # Remove proper nouns"
   ]
  },
  {
   "cell_type": "code",
   "execution_count": 5,
   "metadata": {},
   "outputs": [],
   "source": [
    "sql = \"\"\"\n",
    "WITH mytoken(author, book, chapter, para_num, sent_num,token_num,term_str,term_id) \n",
    "AS (\n",
    "    SELECT author, book, chapter, para_num, sent_num,token_num,term_str,term_id\n",
    "    FROM token \n",
    "    WHERE term_id IN (SELECT term_id FROM vocab WHERE stop = 0) \n",
    "        AND term_str is not NULL\n",
    "        {}       \n",
    ")\n",
    "\n",
    "SELECT x.term_str as target, y.term_str as probe, (y.token_num - x.token_num) AS dist\n",
    "FROM mytoken x \n",
    "JOIN mytoken y USING(author, book, chapter, para_num, sent_num)\n",
    "WHERE y.token_num IN ({})\n",
    "ORDER BY target, dist, probe\n",
    "\"\"\".format(pos_clause, in_clause)"
   ]
  },
  {
   "cell_type": "code",
   "execution_count": 6,
   "metadata": {},
   "outputs": [
    {
     "name": "stdout",
     "output_type": "stream",
     "text": [
      "\n",
      "WITH mytoken(author, book, chapter, para_num, sent_num,token_num,term_str,term_id) \n",
      "AS (\n",
      "    SELECT author, book, chapter, para_num, sent_num,token_num,term_str,term_id\n",
      "    FROM token \n",
      "    WHERE term_id IN (SELECT term_id FROM vocab WHERE stop = 0) \n",
      "        AND term_str is not NULL\n",
      "        AND pos NOT LIKE 'NNP%'        \n",
      ")\n",
      "\n",
      "SELECT x.term_str as target, y.term_str as probe, (y.token_num - x.token_num) AS dist\n",
      "FROM mytoken x \n",
      "JOIN mytoken y USING(author, book, chapter, para_num, sent_num)\n",
      "WHERE y.token_num IN (x.token_num + 1, x.token_num - 1, x.token_num + 2, x.token_num - 2, x.token_num + 3, x.token_num - 3)\n",
      "ORDER BY target, dist, probe\n",
      "\n"
     ]
    }
   ],
   "source": [
    "print(sql)"
   ]
  },
  {
   "cell_type": "markdown",
   "metadata": {},
   "source": [
    "### Pull from DB"
   ]
  },
  {
   "cell_type": "code",
   "execution_count": 7,
   "metadata": {},
   "outputs": [],
   "source": [
    "skipgrams = tx.get_sql(sql, db_file)"
   ]
  },
  {
   "cell_type": "code",
   "execution_count": 8,
   "metadata": {},
   "outputs": [
    {
     "data": {
      "text/html": [
       "<div>\n",
       "<style scoped>\n",
       "    .dataframe tbody tr th:only-of-type {\n",
       "        vertical-align: middle;\n",
       "    }\n",
       "\n",
       "    .dataframe tbody tr th {\n",
       "        vertical-align: top;\n",
       "    }\n",
       "\n",
       "    .dataframe thead th {\n",
       "        text-align: right;\n",
       "    }\n",
       "</style>\n",
       "<table border=\"1\" class=\"dataframe\">\n",
       "  <thead>\n",
       "    <tr style=\"text-align: right;\">\n",
       "      <th></th>\n",
       "      <th>target</th>\n",
       "      <th>probe</th>\n",
       "      <th>dist</th>\n",
       "    </tr>\n",
       "  </thead>\n",
       "  <tbody>\n",
       "    <tr>\n",
       "      <th>0</th>\n",
       "      <td>aback</td>\n",
       "      <td>said</td>\n",
       "      <td>-3</td>\n",
       "    </tr>\n",
       "    <tr>\n",
       "      <th>1</th>\n",
       "      <td>aback</td>\n",
       "      <td>completely</td>\n",
       "      <td>-2</td>\n",
       "    </tr>\n",
       "    <tr>\n",
       "      <th>2</th>\n",
       "      <td>aback</td>\n",
       "      <td>considerably</td>\n",
       "      <td>-2</td>\n",
       "    </tr>\n",
       "    <tr>\n",
       "      <th>3</th>\n",
       "      <td>aback</td>\n",
       "      <td>little</td>\n",
       "      <td>-2</td>\n",
       "    </tr>\n",
       "    <tr>\n",
       "      <th>4</th>\n",
       "      <td>aback</td>\n",
       "      <td>utterly</td>\n",
       "      <td>-2</td>\n",
       "    </tr>\n",
       "    <tr>\n",
       "      <th>5</th>\n",
       "      <td>aback</td>\n",
       "      <td>taken</td>\n",
       "      <td>-1</td>\n",
       "    </tr>\n",
       "    <tr>\n",
       "      <th>6</th>\n",
       "      <td>aback</td>\n",
       "      <td>taken</td>\n",
       "      <td>-1</td>\n",
       "    </tr>\n",
       "    <tr>\n",
       "      <th>7</th>\n",
       "      <td>aback</td>\n",
       "      <td>taken</td>\n",
       "      <td>-1</td>\n",
       "    </tr>\n",
       "    <tr>\n",
       "      <th>8</th>\n",
       "      <td>aback</td>\n",
       "      <td>taken</td>\n",
       "      <td>-1</td>\n",
       "    </tr>\n",
       "    <tr>\n",
       "      <th>9</th>\n",
       "      <td>aback</td>\n",
       "      <td>taken</td>\n",
       "      <td>-1</td>\n",
       "    </tr>\n",
       "  </tbody>\n",
       "</table>\n",
       "</div>"
      ],
      "text/plain": [
       "  target         probe  dist\n",
       "0  aback          said    -3\n",
       "1  aback    completely    -2\n",
       "2  aback  considerably    -2\n",
       "3  aback        little    -2\n",
       "4  aback       utterly    -2\n",
       "5  aback         taken    -1\n",
       "6  aback         taken    -1\n",
       "7  aback         taken    -1\n",
       "8  aback         taken    -1\n",
       "9  aback         taken    -1"
      ]
     },
     "execution_count": 8,
     "metadata": {},
     "output_type": "execute_result"
    }
   ],
   "source": [
    "skipgrams.head(10)"
   ]
  },
  {
   "cell_type": "markdown",
   "metadata": {},
   "source": [
    "### Add Skigram weights (as GloVe does)"
   ]
  },
  {
   "cell_type": "code",
   "execution_count": 9,
   "metadata": {},
   "outputs": [],
   "source": [
    "# skipgrams['glove_weight'] = np.round(np.abs(1 / skipgrams['dist']), 2)"
   ]
  },
  {
   "cell_type": "code",
   "execution_count": 10,
   "metadata": {},
   "outputs": [],
   "source": [
    "# skipgrams.head(10)"
   ]
  },
  {
   "cell_type": "markdown",
   "metadata": {
    "toc-hr-collapsed": false
   },
   "source": [
    "## Get Unigram Probabilities\n",
    "\n",
    "We have already computed these in the vocab table."
   ]
  },
  {
   "cell_type": "markdown",
   "metadata": {},
   "source": [
    "### Import vocab table"
   ]
  },
  {
   "cell_type": "code",
   "execution_count": 11,
   "metadata": {},
   "outputs": [],
   "source": [
    "vocab = tx.get_table('vocab', db_file, index_col=['term_id'])\n",
    "vocab = vocab[vocab.stop == 0]"
   ]
  },
  {
   "cell_type": "code",
   "execution_count": 12,
   "metadata": {},
   "outputs": [
    {
     "data": {
      "text/html": [
       "<div>\n",
       "<style scoped>\n",
       "    .dataframe tbody tr th:only-of-type {\n",
       "        vertical-align: middle;\n",
       "    }\n",
       "\n",
       "    .dataframe tbody tr th {\n",
       "        vertical-align: top;\n",
       "    }\n",
       "\n",
       "    .dataframe thead th {\n",
       "        text-align: right;\n",
       "    }\n",
       "</style>\n",
       "<table border=\"1\" class=\"dataframe\">\n",
       "  <thead>\n",
       "    <tr style=\"text-align: right;\">\n",
       "      <th></th>\n",
       "      <th>term_str</th>\n",
       "      <th>n</th>\n",
       "      <th>p</th>\n",
       "      <th>port_stem</th>\n",
       "      <th>stop</th>\n",
       "      <th>df</th>\n",
       "      <th>idf</th>\n",
       "      <th>tfidf_sum</th>\n",
       "      <th>tfidf_mean</th>\n",
       "      <th>tfidf_max</th>\n",
       "    </tr>\n",
       "    <tr>\n",
       "      <th>term_id</th>\n",
       "      <th></th>\n",
       "      <th></th>\n",
       "      <th></th>\n",
       "      <th></th>\n",
       "      <th></th>\n",
       "      <th></th>\n",
       "      <th></th>\n",
       "      <th></th>\n",
       "      <th></th>\n",
       "      <th></th>\n",
       "    </tr>\n",
       "  </thead>\n",
       "  <tbody>\n",
       "    <tr>\n",
       "      <th>20770</th>\n",
       "      <td>said</td>\n",
       "      <td>6370</td>\n",
       "      <td>0.004245</td>\n",
       "      <td>said</td>\n",
       "      <td>0</td>\n",
       "      <td>308</td>\n",
       "      <td>0.016599</td>\n",
       "      <td>105.737298</td>\n",
       "      <td>0.330429</td>\n",
       "      <td>2.191103</td>\n",
       "    </tr>\n",
       "    <tr>\n",
       "      <th>15714</th>\n",
       "      <td>mr</td>\n",
       "      <td>2860</td>\n",
       "      <td>0.001906</td>\n",
       "      <td>mr</td>\n",
       "      <td>0</td>\n",
       "      <td>196</td>\n",
       "      <td>0.212894</td>\n",
       "      <td>608.876574</td>\n",
       "      <td>1.902739</td>\n",
       "      <td>48.326917</td>\n",
       "    </tr>\n",
       "    <tr>\n",
       "      <th>24409</th>\n",
       "      <td>time</td>\n",
       "      <td>2615</td>\n",
       "      <td>0.001743</td>\n",
       "      <td>time</td>\n",
       "      <td>0</td>\n",
       "      <td>317</td>\n",
       "      <td>0.004091</td>\n",
       "      <td>10.697223</td>\n",
       "      <td>0.033429</td>\n",
       "      <td>0.224989</td>\n",
       "    </tr>\n",
       "    <tr>\n",
       "      <th>14660</th>\n",
       "      <td>man</td>\n",
       "      <td>2383</td>\n",
       "      <td>0.001588</td>\n",
       "      <td>man</td>\n",
       "      <td>0</td>\n",
       "      <td>294</td>\n",
       "      <td>0.036803</td>\n",
       "      <td>87.700710</td>\n",
       "      <td>0.274065</td>\n",
       "      <td>2.355369</td>\n",
       "    </tr>\n",
       "    <tr>\n",
       "      <th>13584</th>\n",
       "      <td>know</td>\n",
       "      <td>2302</td>\n",
       "      <td>0.001534</td>\n",
       "      <td>know</td>\n",
       "      <td>0</td>\n",
       "      <td>299</td>\n",
       "      <td>0.029479</td>\n",
       "      <td>67.860175</td>\n",
       "      <td>0.212063</td>\n",
       "      <td>0.972800</td>\n",
       "    </tr>\n",
       "  </tbody>\n",
       "</table>\n",
       "</div>"
      ],
      "text/plain": [
       "        term_str     n         p port_stem  stop   df       idf   tfidf_sum  \\\n",
       "term_id                                                                       \n",
       "20770       said  6370  0.004245      said     0  308  0.016599  105.737298   \n",
       "15714         mr  2860  0.001906        mr     0  196  0.212894  608.876574   \n",
       "24409       time  2615  0.001743      time     0  317  0.004091   10.697223   \n",
       "14660        man  2383  0.001588       man     0  294  0.036803   87.700710   \n",
       "13584       know  2302  0.001534      know     0  299  0.029479   67.860175   \n",
       "\n",
       "         tfidf_mean  tfidf_max  \n",
       "term_id                         \n",
       "20770      0.330429   2.191103  \n",
       "15714      1.902739  48.326917  \n",
       "24409      0.033429   0.224989  \n",
       "14660      0.274065   2.355369  \n",
       "13584      0.212063   0.972800  "
      ]
     },
     "execution_count": 12,
     "metadata": {},
     "output_type": "execute_result"
    }
   ],
   "source": [
    "vocab.sort_values('p', ascending=False).head()"
   ]
  },
  {
   "cell_type": "markdown",
   "metadata": {},
   "source": [
    "### Get $P(x)$"
   ]
  },
  {
   "cell_type": "code",
   "execution_count": 13,
   "metadata": {},
   "outputs": [],
   "source": [
    "p_x = vocab[['term_str','p']].reset_index().set_index('term_str')['p']"
   ]
  },
  {
   "cell_type": "code",
   "execution_count": 14,
   "metadata": {},
   "outputs": [
    {
     "data": {
      "text/plain": [
       "term_str\n",
       "said    0.004245\n",
       "mr      0.001906\n",
       "time    0.001743\n",
       "man     0.001588\n",
       "know    0.001534\n",
       "Name: p, dtype: float64"
      ]
     },
     "execution_count": 14,
     "metadata": {},
     "output_type": "execute_result"
    }
   ],
   "source": [
    "p_x.sort_values(ascending=False).head()"
   ]
  },
  {
   "cell_type": "code",
   "execution_count": 15,
   "metadata": {},
   "outputs": [],
   "source": [
    "# skipgrams.groupby('target').target.count() / skipgrams.target.sum()"
   ]
  },
  {
   "cell_type": "markdown",
   "metadata": {
    "toc-hr-collapsed": false
   },
   "source": [
    "## Compute Normalized PMI for Skipgrams\n",
    "\n",
    "### PMI\n",
    "\n",
    "$log \\dfrac{P(x,y)}{P(x)P(y)}$\n",
    "\n",
    "### NMPI\n",
    "\n",
    "$\\dfrac{log\\dfrac{P(x,y)}{P(x)P(y)}}{-log P(x,y)}$\n",
    "\n",
    "See [G. Bouma 2009, eq. 7](https://pdfs.semanticscholar.org/1521/8d9c029cbb903ae7c729b2c644c24994c201.pdf)"
   ]
  },
  {
   "cell_type": "markdown",
   "metadata": {},
   "source": [
    "### Create compressed skipgram table"
   ]
  },
  {
   "cell_type": "code",
   "execution_count": 16,
   "metadata": {},
   "outputs": [],
   "source": [
    "skipgrams2 = skipgrams.groupby(['target','probe']).probe.count()\\\n",
    "    .to_frame().rename(columns={'probe':'n'})\\\n",
    "    .reset_index().set_index(['target','probe'])"
   ]
  },
  {
   "cell_type": "code",
   "execution_count": 18,
   "metadata": {},
   "outputs": [
    {
     "data": {
      "text/html": [
       "<div>\n",
       "<style scoped>\n",
       "    .dataframe tbody tr th:only-of-type {\n",
       "        vertical-align: middle;\n",
       "    }\n",
       "\n",
       "    .dataframe tbody tr th {\n",
       "        vertical-align: top;\n",
       "    }\n",
       "\n",
       "    .dataframe thead th {\n",
       "        text-align: right;\n",
       "    }\n",
       "</style>\n",
       "<table border=\"1\" class=\"dataframe\">\n",
       "  <thead>\n",
       "    <tr style=\"text-align: right;\">\n",
       "      <th></th>\n",
       "      <th></th>\n",
       "      <th>n</th>\n",
       "    </tr>\n",
       "    <tr>\n",
       "      <th>target</th>\n",
       "      <th>probe</th>\n",
       "      <th></th>\n",
       "    </tr>\n",
       "  </thead>\n",
       "  <tbody>\n",
       "    <tr>\n",
       "      <th rowspan=\"9\" valign=\"top\">aback</th>\n",
       "      <th>completely</th>\n",
       "      <td>1</td>\n",
       "    </tr>\n",
       "    <tr>\n",
       "      <th>considerably</th>\n",
       "      <td>1</td>\n",
       "    </tr>\n",
       "    <tr>\n",
       "      <th>kept</th>\n",
       "      <td>1</td>\n",
       "    </tr>\n",
       "    <tr>\n",
       "      <th>little</th>\n",
       "      <td>1</td>\n",
       "    </tr>\n",
       "    <tr>\n",
       "      <th>murmured</th>\n",
       "      <td>1</td>\n",
       "    </tr>\n",
       "    <tr>\n",
       "      <th>said</th>\n",
       "      <td>1</td>\n",
       "    </tr>\n",
       "    <tr>\n",
       "      <th>something</th>\n",
       "      <td>1</td>\n",
       "    </tr>\n",
       "    <tr>\n",
       "      <th>taken</th>\n",
       "      <td>8</td>\n",
       "    </tr>\n",
       "    <tr>\n",
       "      <th>utterly</th>\n",
       "      <td>1</td>\n",
       "    </tr>\n",
       "    <tr>\n",
       "      <th>abaft</th>\n",
       "      <th>aftest</th>\n",
       "      <td>1</td>\n",
       "    </tr>\n",
       "  </tbody>\n",
       "</table>\n",
       "</div>"
      ],
      "text/plain": [
       "                     n\n",
       "target probe          \n",
       "aback  completely    1\n",
       "       considerably  1\n",
       "       kept          1\n",
       "       little        1\n",
       "       murmured      1\n",
       "       said          1\n",
       "       something     1\n",
       "       taken         8\n",
       "       utterly       1\n",
       "abaft  aftest        1"
      ]
     },
     "execution_count": 18,
     "metadata": {},
     "output_type": "execute_result"
    }
   ],
   "source": [
    "skipgrams2.head(10)"
   ]
  },
  {
   "cell_type": "markdown",
   "metadata": {},
   "source": [
    "### Compute $P(x,y)$"
   ]
  },
  {
   "cell_type": "code",
   "execution_count": 19,
   "metadata": {},
   "outputs": [],
   "source": [
    "N = skipgrams2.n.sum()"
   ]
  },
  {
   "cell_type": "code",
   "execution_count": 20,
   "metadata": {},
   "outputs": [],
   "source": [
    "skipgrams2['p_xy'] = skipgrams2.n / N"
   ]
  },
  {
   "cell_type": "code",
   "execution_count": 21,
   "metadata": {},
   "outputs": [],
   "source": [
    "skipgrams2.head(10)"
   ]
  },
  {
   "cell_type": "markdown",
   "metadata": {},
   "source": [
    "### Compute $PMI(x;y)$"
   ]
  },
  {
   "cell_type": "code",
   "execution_count": 22,
   "metadata": {},
   "outputs": [],
   "source": [
    "skipgrams2['pmi_xy'] = skipgrams2.apply(lambda row: np.log(row.p_xy / (p_x.loc[row.name[0]] * p_x.loc[row.name[1]])), 1)"
   ]
  },
  {
   "cell_type": "code",
   "execution_count": 23,
   "metadata": {},
   "outputs": [
    {
     "data": {
      "text/html": [
       "<div>\n",
       "<style scoped>\n",
       "    .dataframe tbody tr th:only-of-type {\n",
       "        vertical-align: middle;\n",
       "    }\n",
       "\n",
       "    .dataframe tbody tr th {\n",
       "        vertical-align: top;\n",
       "    }\n",
       "\n",
       "    .dataframe thead th {\n",
       "        text-align: right;\n",
       "    }\n",
       "</style>\n",
       "<table border=\"1\" class=\"dataframe\">\n",
       "  <thead>\n",
       "    <tr style=\"text-align: right;\">\n",
       "      <th></th>\n",
       "      <th></th>\n",
       "      <th>n</th>\n",
       "      <th>p_xy</th>\n",
       "      <th>pmi_xy</th>\n",
       "    </tr>\n",
       "    <tr>\n",
       "      <th>target</th>\n",
       "      <th>probe</th>\n",
       "      <th></th>\n",
       "      <th></th>\n",
       "      <th></th>\n",
       "    </tr>\n",
       "  </thead>\n",
       "  <tbody>\n",
       "    <tr>\n",
       "      <th>sonne</th>\n",
       "      <th>twentie</th>\n",
       "      <td>1</td>\n",
       "      <td>0.000001</td>\n",
       "      <td>14.635063</td>\n",
       "    </tr>\n",
       "    <tr>\n",
       "      <th>arca</th>\n",
       "      <th>nummos</th>\n",
       "      <td>1</td>\n",
       "      <td>0.000001</td>\n",
       "      <td>14.635063</td>\n",
       "    </tr>\n",
       "    <tr>\n",
       "      <th>rearranged</th>\n",
       "      <th>deft</th>\n",
       "      <td>1</td>\n",
       "      <td>0.000001</td>\n",
       "      <td>14.635063</td>\n",
       "    </tr>\n",
       "    <tr>\n",
       "      <th>petit</th>\n",
       "      <th>beau</th>\n",
       "      <td>1</td>\n",
       "      <td>0.000001</td>\n",
       "      <td>14.635063</td>\n",
       "    </tr>\n",
       "    <tr>\n",
       "      <th>growths</th>\n",
       "      <th>mushroom</th>\n",
       "      <td>1</td>\n",
       "      <td>0.000001</td>\n",
       "      <td>14.635063</td>\n",
       "    </tr>\n",
       "    <tr>\n",
       "      <th>touters</th>\n",
       "      <th>skeer</th>\n",
       "      <td>1</td>\n",
       "      <td>0.000001</td>\n",
       "      <td>14.635063</td>\n",
       "    </tr>\n",
       "    <tr>\n",
       "      <th>petite</th>\n",
       "      <th>pauvre</th>\n",
       "      <td>1</td>\n",
       "      <td>0.000001</td>\n",
       "      <td>14.635063</td>\n",
       "    </tr>\n",
       "    <tr>\n",
       "      <th rowspan=\"3\" valign=\"top\">unwept</th>\n",
       "      <th>unwatched</th>\n",
       "      <td>1</td>\n",
       "      <td>0.000001</td>\n",
       "      <td>14.635063</td>\n",
       "    </tr>\n",
       "    <tr>\n",
       "      <th>uncared</th>\n",
       "      <td>1</td>\n",
       "      <td>0.000001</td>\n",
       "      <td>14.635063</td>\n",
       "    </tr>\n",
       "    <tr>\n",
       "      <th>bereft</th>\n",
       "      <td>1</td>\n",
       "      <td>0.000001</td>\n",
       "      <td>14.635063</td>\n",
       "    </tr>\n",
       "  </tbody>\n",
       "</table>\n",
       "</div>"
      ],
      "text/plain": [
       "                      n      p_xy     pmi_xy\n",
       "target     probe                            \n",
       "sonne      twentie    1  0.000001  14.635063\n",
       "arca       nummos     1  0.000001  14.635063\n",
       "rearranged deft       1  0.000001  14.635063\n",
       "petit      beau       1  0.000001  14.635063\n",
       "growths    mushroom   1  0.000001  14.635063\n",
       "touters    skeer      1  0.000001  14.635063\n",
       "petite     pauvre     1  0.000001  14.635063\n",
       "unwept     unwatched  1  0.000001  14.635063\n",
       "           uncared    1  0.000001  14.635063\n",
       "           bereft     1  0.000001  14.635063"
      ]
     },
     "execution_count": 23,
     "metadata": {},
     "output_type": "execute_result"
    }
   ],
   "source": [
    "skipgrams2.sort_values('pmi_xy', ascending=False).head(10)"
   ]
  },
  {
   "cell_type": "code",
   "execution_count": 24,
   "metadata": {},
   "outputs": [],
   "source": [
    "skipgrams2['npmi_xy'] = skipgrams2.pmi_xy / -( np.log(skipgrams2.p_xy) )"
   ]
  },
  {
   "cell_type": "code",
   "execution_count": 27,
   "metadata": {},
   "outputs": [
    {
     "data": {
      "text/html": [
       "<div>\n",
       "<style scoped>\n",
       "    .dataframe tbody tr th:only-of-type {\n",
       "        vertical-align: middle;\n",
       "    }\n",
       "\n",
       "    .dataframe tbody tr th {\n",
       "        vertical-align: top;\n",
       "    }\n",
       "\n",
       "    .dataframe thead th {\n",
       "        text-align: right;\n",
       "    }\n",
       "</style>\n",
       "<table border=\"1\" class=\"dataframe\">\n",
       "  <thead>\n",
       "    <tr style=\"text-align: right;\">\n",
       "      <th></th>\n",
       "      <th></th>\n",
       "      <th>n</th>\n",
       "      <th>p_xy</th>\n",
       "      <th>pmi_xy</th>\n",
       "      <th>npmi_xy</th>\n",
       "    </tr>\n",
       "    <tr>\n",
       "      <th>target</th>\n",
       "      <th>probe</th>\n",
       "      <th></th>\n",
       "      <th></th>\n",
       "      <th></th>\n",
       "      <th></th>\n",
       "    </tr>\n",
       "  </thead>\n",
       "  <tbody>\n",
       "    <tr>\n",
       "      <th>computer</th>\n",
       "      <th>virus</th>\n",
       "      <td>4</td>\n",
       "      <td>0.000004</td>\n",
       "      <td>13.941916</td>\n",
       "      <td>1.122434</td>\n",
       "    </tr>\n",
       "    <tr>\n",
       "      <th>virus</th>\n",
       "      <th>computer</th>\n",
       "      <td>4</td>\n",
       "      <td>0.000004</td>\n",
       "      <td>13.941916</td>\n",
       "      <td>1.122434</td>\n",
       "    </tr>\n",
       "    <tr>\n",
       "      <th>ihre</th>\n",
       "      <th>unvollkommen</th>\n",
       "      <td>2</td>\n",
       "      <td>0.000002</td>\n",
       "      <td>14.635063</td>\n",
       "      <td>1.115962</td>\n",
       "    </tr>\n",
       "    <tr>\n",
       "      <th>fracto</th>\n",
       "      <th>nunc</th>\n",
       "      <td>2</td>\n",
       "      <td>0.000002</td>\n",
       "      <td>14.635063</td>\n",
       "      <td>1.115962</td>\n",
       "    </tr>\n",
       "    <tr>\n",
       "      <th>nunc</th>\n",
       "      <th>fracto</th>\n",
       "      <td>2</td>\n",
       "      <td>0.000002</td>\n",
       "      <td>14.635063</td>\n",
       "      <td>1.115962</td>\n",
       "    </tr>\n",
       "  </tbody>\n",
       "</table>\n",
       "</div>"
      ],
      "text/plain": [
       "                       n      p_xy     pmi_xy   npmi_xy\n",
       "target   probe                                         \n",
       "computer virus         4  0.000004  13.941916  1.122434\n",
       "virus    computer      4  0.000004  13.941916  1.122434\n",
       "ihre     unvollkommen  2  0.000002  14.635063  1.115962\n",
       "fracto   nunc          2  0.000002  14.635063  1.115962\n",
       "nunc     fracto        2  0.000002  14.635063  1.115962"
      ]
     },
     "execution_count": 27,
     "metadata": {},
     "output_type": "execute_result"
    }
   ],
   "source": [
    "skipgrams2.sort_values('npmi_xy', ascending=False).head()"
   ]
  },
  {
   "cell_type": "markdown",
   "metadata": {},
   "source": [
    "### Keep only positives\n",
    "\n",
    "Changed since lab."
   ]
  },
  {
   "cell_type": "code",
   "execution_count": 38,
   "metadata": {},
   "outputs": [],
   "source": [
    "skipgrams2.loc[skipgrams2.npmi_xy < 0, 'pnpmi_xy'] = 0\n",
    "skipgrams2.loc[skipgrams2.npmi_xy >= 0, 'pnpmi_xy'] =  skipgrams2.npmi_xy"
   ]
  },
  {
   "cell_type": "code",
   "execution_count": 40,
   "metadata": {},
   "outputs": [
    {
     "data": {
      "text/html": [
       "<div>\n",
       "<style scoped>\n",
       "    .dataframe tbody tr th:only-of-type {\n",
       "        vertical-align: middle;\n",
       "    }\n",
       "\n",
       "    .dataframe tbody tr th {\n",
       "        vertical-align: top;\n",
       "    }\n",
       "\n",
       "    .dataframe thead th {\n",
       "        text-align: right;\n",
       "    }\n",
       "</style>\n",
       "<table border=\"1\" class=\"dataframe\">\n",
       "  <thead>\n",
       "    <tr style=\"text-align: right;\">\n",
       "      <th></th>\n",
       "      <th></th>\n",
       "      <th>n</th>\n",
       "      <th>p_xy</th>\n",
       "      <th>pmi_xy</th>\n",
       "      <th>npmi_xy</th>\n",
       "      <th>pnpmi_xy</th>\n",
       "    </tr>\n",
       "    <tr>\n",
       "      <th>target</th>\n",
       "      <th>probe</th>\n",
       "      <th></th>\n",
       "      <th></th>\n",
       "      <th></th>\n",
       "      <th></th>\n",
       "      <th></th>\n",
       "    </tr>\n",
       "  </thead>\n",
       "  <tbody>\n",
       "    <tr>\n",
       "      <th rowspan=\"5\" valign=\"top\">aback</th>\n",
       "      <th>completely</th>\n",
       "      <td>1</td>\n",
       "      <td>0.000001</td>\n",
       "      <td>8.068391</td>\n",
       "      <td>0.584351</td>\n",
       "      <td>0.584351</td>\n",
       "    </tr>\n",
       "    <tr>\n",
       "      <th>considerably</th>\n",
       "      <td>1</td>\n",
       "      <td>0.000001</td>\n",
       "      <td>8.800252</td>\n",
       "      <td>0.637356</td>\n",
       "      <td>0.637356</td>\n",
       "    </tr>\n",
       "    <tr>\n",
       "      <th>kept</th>\n",
       "      <td>1</td>\n",
       "      <td>0.000001</td>\n",
       "      <td>6.788864</td>\n",
       "      <td>0.491681</td>\n",
       "      <td>0.491681</td>\n",
       "    </tr>\n",
       "    <tr>\n",
       "      <th>little</th>\n",
       "      <td>1</td>\n",
       "      <td>0.000001</td>\n",
       "      <td>4.887703</td>\n",
       "      <td>0.353990</td>\n",
       "      <td>0.353990</td>\n",
       "    </tr>\n",
       "    <tr>\n",
       "      <th>murmured</th>\n",
       "      <td>1</td>\n",
       "      <td>0.000001</td>\n",
       "      <td>8.248184</td>\n",
       "      <td>0.597372</td>\n",
       "      <td>0.597372</td>\n",
       "    </tr>\n",
       "  </tbody>\n",
       "</table>\n",
       "</div>"
      ],
      "text/plain": [
       "                     n      p_xy    pmi_xy   npmi_xy  pnpmi_xy\n",
       "target probe                                                  \n",
       "aback  completely    1  0.000001  8.068391  0.584351  0.584351\n",
       "       considerably  1  0.000001  8.800252  0.637356  0.637356\n",
       "       kept          1  0.000001  6.788864  0.491681  0.491681\n",
       "       little        1  0.000001  4.887703  0.353990  0.353990\n",
       "       murmured      1  0.000001  8.248184  0.597372  0.597372"
      ]
     },
     "execution_count": 40,
     "metadata": {},
     "output_type": "execute_result"
    }
   ],
   "source": [
    "skipgrams2.head()"
   ]
  },
  {
   "cell_type": "markdown",
   "metadata": {},
   "source": [
    "## Create PNPMI Matrix"
   ]
  },
  {
   "cell_type": "code",
   "execution_count": 76,
   "metadata": {},
   "outputs": [],
   "source": [
    "SGM = skipgrams2.npmi_xy.unstack().fillna(0)"
   ]
  },
  {
   "cell_type": "code",
   "execution_count": 77,
   "metadata": {},
   "outputs": [
    {
     "data": {
      "text/html": [
       "<div>\n",
       "<style scoped>\n",
       "    .dataframe tbody tr th:only-of-type {\n",
       "        vertical-align: middle;\n",
       "    }\n",
       "\n",
       "    .dataframe tbody tr th {\n",
       "        vertical-align: top;\n",
       "    }\n",
       "\n",
       "    .dataframe thead th {\n",
       "        text-align: right;\n",
       "    }\n",
       "</style>\n",
       "<table border=\"1\" class=\"dataframe\">\n",
       "  <thead>\n",
       "    <tr style=\"text-align: right;\">\n",
       "      <th>probe</th>\n",
       "      <th>aback</th>\n",
       "      <th>abaft</th>\n",
       "      <th>abandon</th>\n",
       "      <th>abandoned</th>\n",
       "      <th>abandoning</th>\n",
       "      <th>abandons</th>\n",
       "      <th>abasement</th>\n",
       "      <th>abashed</th>\n",
       "      <th>abate</th>\n",
       "      <th>abated</th>\n",
       "      <th>...</th>\n",
       "      <th>zigzagged</th>\n",
       "      <th>zone</th>\n",
       "      <th>zoology</th>\n",
       "      <th>zoöphagous</th>\n",
       "      <th>zoöphagy</th>\n",
       "      <th>zum</th>\n",
       "      <th>zusammen</th>\n",
       "      <th>à</th>\n",
       "      <th>ça</th>\n",
       "      <th>émeutes</th>\n",
       "    </tr>\n",
       "    <tr>\n",
       "      <th>target</th>\n",
       "      <th></th>\n",
       "      <th></th>\n",
       "      <th></th>\n",
       "      <th></th>\n",
       "      <th></th>\n",
       "      <th></th>\n",
       "      <th></th>\n",
       "      <th></th>\n",
       "      <th></th>\n",
       "      <th></th>\n",
       "      <th></th>\n",
       "      <th></th>\n",
       "      <th></th>\n",
       "      <th></th>\n",
       "      <th></th>\n",
       "      <th></th>\n",
       "      <th></th>\n",
       "      <th></th>\n",
       "      <th></th>\n",
       "      <th></th>\n",
       "      <th></th>\n",
       "    </tr>\n",
       "  </thead>\n",
       "  <tbody>\n",
       "    <tr>\n",
       "      <th>aback</th>\n",
       "      <td>0.0</td>\n",
       "      <td>0.0</td>\n",
       "      <td>0.0</td>\n",
       "      <td>0.0</td>\n",
       "      <td>0.0</td>\n",
       "      <td>0.0</td>\n",
       "      <td>0.0</td>\n",
       "      <td>0.0</td>\n",
       "      <td>0.0</td>\n",
       "      <td>0.0</td>\n",
       "      <td>...</td>\n",
       "      <td>0.0</td>\n",
       "      <td>0.0</td>\n",
       "      <td>0.0</td>\n",
       "      <td>0.0</td>\n",
       "      <td>0.0</td>\n",
       "      <td>0.0</td>\n",
       "      <td>0.0</td>\n",
       "      <td>0.0</td>\n",
       "      <td>0.0</td>\n",
       "      <td>0.0</td>\n",
       "    </tr>\n",
       "    <tr>\n",
       "      <th>abaft</th>\n",
       "      <td>0.0</td>\n",
       "      <td>0.0</td>\n",
       "      <td>0.0</td>\n",
       "      <td>0.0</td>\n",
       "      <td>0.0</td>\n",
       "      <td>0.0</td>\n",
       "      <td>0.0</td>\n",
       "      <td>0.0</td>\n",
       "      <td>0.0</td>\n",
       "      <td>0.0</td>\n",
       "      <td>...</td>\n",
       "      <td>0.0</td>\n",
       "      <td>0.0</td>\n",
       "      <td>0.0</td>\n",
       "      <td>0.0</td>\n",
       "      <td>0.0</td>\n",
       "      <td>0.0</td>\n",
       "      <td>0.0</td>\n",
       "      <td>0.0</td>\n",
       "      <td>0.0</td>\n",
       "      <td>0.0</td>\n",
       "    </tr>\n",
       "    <tr>\n",
       "      <th>abandon</th>\n",
       "      <td>0.0</td>\n",
       "      <td>0.0</td>\n",
       "      <td>0.0</td>\n",
       "      <td>0.0</td>\n",
       "      <td>0.0</td>\n",
       "      <td>0.0</td>\n",
       "      <td>0.0</td>\n",
       "      <td>0.0</td>\n",
       "      <td>0.0</td>\n",
       "      <td>0.0</td>\n",
       "      <td>...</td>\n",
       "      <td>0.0</td>\n",
       "      <td>0.0</td>\n",
       "      <td>0.0</td>\n",
       "      <td>0.0</td>\n",
       "      <td>0.0</td>\n",
       "      <td>0.0</td>\n",
       "      <td>0.0</td>\n",
       "      <td>0.0</td>\n",
       "      <td>0.0</td>\n",
       "      <td>0.0</td>\n",
       "    </tr>\n",
       "    <tr>\n",
       "      <th>abandoned</th>\n",
       "      <td>0.0</td>\n",
       "      <td>0.0</td>\n",
       "      <td>0.0</td>\n",
       "      <td>0.0</td>\n",
       "      <td>0.0</td>\n",
       "      <td>0.0</td>\n",
       "      <td>0.0</td>\n",
       "      <td>0.0</td>\n",
       "      <td>0.0</td>\n",
       "      <td>0.0</td>\n",
       "      <td>...</td>\n",
       "      <td>0.0</td>\n",
       "      <td>0.0</td>\n",
       "      <td>0.0</td>\n",
       "      <td>0.0</td>\n",
       "      <td>0.0</td>\n",
       "      <td>0.0</td>\n",
       "      <td>0.0</td>\n",
       "      <td>0.0</td>\n",
       "      <td>0.0</td>\n",
       "      <td>0.0</td>\n",
       "    </tr>\n",
       "    <tr>\n",
       "      <th>abandoning</th>\n",
       "      <td>0.0</td>\n",
       "      <td>0.0</td>\n",
       "      <td>0.0</td>\n",
       "      <td>0.0</td>\n",
       "      <td>0.0</td>\n",
       "      <td>0.0</td>\n",
       "      <td>0.0</td>\n",
       "      <td>0.0</td>\n",
       "      <td>0.0</td>\n",
       "      <td>0.0</td>\n",
       "      <td>...</td>\n",
       "      <td>0.0</td>\n",
       "      <td>0.0</td>\n",
       "      <td>0.0</td>\n",
       "      <td>0.0</td>\n",
       "      <td>0.0</td>\n",
       "      <td>0.0</td>\n",
       "      <td>0.0</td>\n",
       "      <td>0.0</td>\n",
       "      <td>0.0</td>\n",
       "      <td>0.0</td>\n",
       "    </tr>\n",
       "  </tbody>\n",
       "</table>\n",
       "<p>5 rows × 24290 columns</p>\n",
       "</div>"
      ],
      "text/plain": [
       "probe       aback  abaft  abandon  abandoned  abandoning  abandons  abasement  \\\n",
       "target                                                                          \n",
       "aback         0.0    0.0      0.0        0.0         0.0       0.0        0.0   \n",
       "abaft         0.0    0.0      0.0        0.0         0.0       0.0        0.0   \n",
       "abandon       0.0    0.0      0.0        0.0         0.0       0.0        0.0   \n",
       "abandoned     0.0    0.0      0.0        0.0         0.0       0.0        0.0   \n",
       "abandoning    0.0    0.0      0.0        0.0         0.0       0.0        0.0   \n",
       "\n",
       "probe       abashed  abate  abated   ...     zigzagged  zone  zoology  \\\n",
       "target                               ...                                \n",
       "aback           0.0    0.0     0.0   ...           0.0   0.0      0.0   \n",
       "abaft           0.0    0.0     0.0   ...           0.0   0.0      0.0   \n",
       "abandon         0.0    0.0     0.0   ...           0.0   0.0      0.0   \n",
       "abandoned       0.0    0.0     0.0   ...           0.0   0.0      0.0   \n",
       "abandoning      0.0    0.0     0.0   ...           0.0   0.0      0.0   \n",
       "\n",
       "probe       zoöphagous  zoöphagy  zum  zusammen    à   ça  émeutes  \n",
       "target                                                              \n",
       "aback              0.0       0.0  0.0       0.0  0.0  0.0      0.0  \n",
       "abaft              0.0       0.0  0.0       0.0  0.0  0.0      0.0  \n",
       "abandon            0.0       0.0  0.0       0.0  0.0  0.0      0.0  \n",
       "abandoned          0.0       0.0  0.0       0.0  0.0  0.0      0.0  \n",
       "abandoning         0.0       0.0  0.0       0.0  0.0  0.0      0.0  \n",
       "\n",
       "[5 rows x 24290 columns]"
      ]
     },
     "execution_count": 77,
     "metadata": {},
     "output_type": "execute_result"
    }
   ],
   "source": [
    "SGM.head()"
   ]
  },
  {
   "cell_type": "code",
   "execution_count": 79,
   "metadata": {},
   "outputs": [
    {
     "data": {
      "text/plain": [
       "probe\n",
       "intestine       0.751217\n",
       "dissipations    0.751217\n",
       "informal        0.751217\n",
       "devastations    0.751217\n",
       "signalize       0.751217\n",
       "Name: war, dtype: float64"
      ]
     },
     "execution_count": 79,
     "metadata": {},
     "output_type": "execute_result"
    }
   ],
   "source": [
    "SGM.loc['war'].sort_values(ascending=False).head()"
   ]
  },
  {
   "cell_type": "code",
   "execution_count": 80,
   "metadata": {},
   "outputs": [
    {
     "data": {
      "text/html": [
       "<div>\n",
       "<style scoped>\n",
       "    .dataframe tbody tr th:only-of-type {\n",
       "        vertical-align: middle;\n",
       "    }\n",
       "\n",
       "    .dataframe tbody tr th {\n",
       "        vertical-align: top;\n",
       "    }\n",
       "\n",
       "    .dataframe thead th {\n",
       "        text-align: right;\n",
       "    }\n",
       "</style>\n",
       "<table border=\"1\" class=\"dataframe\">\n",
       "  <thead>\n",
       "    <tr style=\"text-align: right;\">\n",
       "      <th></th>\n",
       "      <th>n</th>\n",
       "      <th>p_xy</th>\n",
       "      <th>pmi_xy</th>\n",
       "      <th>npmi_xy</th>\n",
       "      <th>pnpmi_xy</th>\n",
       "    </tr>\n",
       "    <tr>\n",
       "      <th>probe</th>\n",
       "      <th></th>\n",
       "      <th></th>\n",
       "      <th></th>\n",
       "      <th></th>\n",
       "      <th></th>\n",
       "    </tr>\n",
       "  </thead>\n",
       "  <tbody>\n",
       "    <tr>\n",
       "      <th>consequence</th>\n",
       "      <td>1</td>\n",
       "      <td>0.000001</td>\n",
       "      <td>9.665250</td>\n",
       "      <td>0.700003</td>\n",
       "      <td>0.700003</td>\n",
       "    </tr>\n",
       "    <tr>\n",
       "      <th>war</th>\n",
       "      <td>1</td>\n",
       "      <td>0.000001</td>\n",
       "      <td>10.372383</td>\n",
       "      <td>0.751217</td>\n",
       "      <td>0.751217</td>\n",
       "    </tr>\n",
       "  </tbody>\n",
       "</table>\n",
       "</div>"
      ],
      "text/plain": [
       "             n      p_xy     pmi_xy   npmi_xy  pnpmi_xy\n",
       "probe                                                  \n",
       "consequence  1  0.000001   9.665250  0.700003  0.700003\n",
       "war          1  0.000001  10.372383  0.751217  0.751217"
      ]
     },
     "execution_count": 80,
     "metadata": {},
     "output_type": "execute_result"
    }
   ],
   "source": [
    "skipgrams2.loc['intestine'].sort_values('n', ascending=False)"
   ]
  },
  {
   "cell_type": "markdown",
   "metadata": {},
   "source": [
    "## SVD"
   ]
  },
  {
   "cell_type": "code",
   "execution_count": 81,
   "metadata": {},
   "outputs": [],
   "source": [
    "sparse = sp.sparse.csr_matrix(SGM.values)"
   ]
  },
  {
   "cell_type": "code",
   "execution_count": 83,
   "metadata": {},
   "outputs": [],
   "source": [
    "SVD = sp.sparse.linalg.svds(sparse, k=256)"
   ]
  },
  {
   "cell_type": "code",
   "execution_count": 84,
   "metadata": {},
   "outputs": [],
   "source": [
    "U, S, V = SVD"
   ]
  },
  {
   "cell_type": "code",
   "execution_count": 227,
   "metadata": {},
   "outputs": [
    {
     "data": {
      "text/plain": [
       "((24290, 256), (256,), (256, 24290))"
      ]
     },
     "execution_count": 227,
     "metadata": {},
     "output_type": "execute_result"
    }
   ],
   "source": [
    "U.shape, S.shape, V.shape"
   ]
  },
  {
   "cell_type": "code",
   "execution_count": 85,
   "metadata": {},
   "outputs": [],
   "source": [
    "word_vecs = U + V.T\n",
    "word_vecs_norm = word_vecs / np.sqrt(np.sum(word_vecs * word_vecs, axis=1, keepdims=True))"
   ]
  },
  {
   "cell_type": "code",
   "execution_count": 86,
   "metadata": {},
   "outputs": [],
   "source": [
    "WE = pd.DataFrame(word_vecs_norm, index=SGM.index)\n",
    "WE.index.name = 'word_str'"
   ]
  },
  {
   "cell_type": "code",
   "execution_count": 87,
   "metadata": {},
   "outputs": [
    {
     "data": {
      "text/html": [
       "<div>\n",
       "<style scoped>\n",
       "    .dataframe tbody tr th:only-of-type {\n",
       "        vertical-align: middle;\n",
       "    }\n",
       "\n",
       "    .dataframe tbody tr th {\n",
       "        vertical-align: top;\n",
       "    }\n",
       "\n",
       "    .dataframe thead th {\n",
       "        text-align: right;\n",
       "    }\n",
       "</style>\n",
       "<table border=\"1\" class=\"dataframe\">\n",
       "  <thead>\n",
       "    <tr style=\"text-align: right;\">\n",
       "      <th></th>\n",
       "      <th>0</th>\n",
       "      <th>1</th>\n",
       "      <th>2</th>\n",
       "      <th>3</th>\n",
       "      <th>4</th>\n",
       "      <th>5</th>\n",
       "      <th>6</th>\n",
       "      <th>7</th>\n",
       "      <th>8</th>\n",
       "      <th>9</th>\n",
       "      <th>...</th>\n",
       "      <th>246</th>\n",
       "      <th>247</th>\n",
       "      <th>248</th>\n",
       "      <th>249</th>\n",
       "      <th>250</th>\n",
       "      <th>251</th>\n",
       "      <th>252</th>\n",
       "      <th>253</th>\n",
       "      <th>254</th>\n",
       "      <th>255</th>\n",
       "    </tr>\n",
       "    <tr>\n",
       "      <th>word_str</th>\n",
       "      <th></th>\n",
       "      <th></th>\n",
       "      <th></th>\n",
       "      <th></th>\n",
       "      <th></th>\n",
       "      <th></th>\n",
       "      <th></th>\n",
       "      <th></th>\n",
       "      <th></th>\n",
       "      <th></th>\n",
       "      <th></th>\n",
       "      <th></th>\n",
       "      <th></th>\n",
       "      <th></th>\n",
       "      <th></th>\n",
       "      <th></th>\n",
       "      <th></th>\n",
       "      <th></th>\n",
       "      <th></th>\n",
       "      <th></th>\n",
       "      <th></th>\n",
       "    </tr>\n",
       "  </thead>\n",
       "  <tbody>\n",
       "    <tr>\n",
       "      <th>aback</th>\n",
       "      <td>7.715719e-15</td>\n",
       "      <td>0.040194</td>\n",
       "      <td>-2.137387e-14</td>\n",
       "      <td>-0.020119</td>\n",
       "      <td>0.075912</td>\n",
       "      <td>-0.052124</td>\n",
       "      <td>6.505764e-14</td>\n",
       "      <td>-6.220020e-14</td>\n",
       "      <td>-8.544396e-15</td>\n",
       "      <td>0.071704</td>\n",
       "      <td>...</td>\n",
       "      <td>-5.152400e-16</td>\n",
       "      <td>0.053758</td>\n",
       "      <td>-0.027694</td>\n",
       "      <td>3.907237e-15</td>\n",
       "      <td>-0.014615</td>\n",
       "      <td>0.045539</td>\n",
       "      <td>-0.072116</td>\n",
       "      <td>-0.047603</td>\n",
       "      <td>-0.021114</td>\n",
       "      <td>-0.040583</td>\n",
       "    </tr>\n",
       "    <tr>\n",
       "      <th>abaft</th>\n",
       "      <td>3.217065e-14</td>\n",
       "      <td>0.048869</td>\n",
       "      <td>-2.499445e-14</td>\n",
       "      <td>-0.023250</td>\n",
       "      <td>0.006422</td>\n",
       "      <td>-0.159226</td>\n",
       "      <td>2.079755e-13</td>\n",
       "      <td>8.049651e-15</td>\n",
       "      <td>2.891096e-14</td>\n",
       "      <td>-0.022019</td>\n",
       "      <td>...</td>\n",
       "      <td>-1.090057e-15</td>\n",
       "      <td>-0.002207</td>\n",
       "      <td>0.052773</td>\n",
       "      <td>-7.153498e-15</td>\n",
       "      <td>0.003823</td>\n",
       "      <td>-0.008140</td>\n",
       "      <td>0.026981</td>\n",
       "      <td>-0.050486</td>\n",
       "      <td>0.056010</td>\n",
       "      <td>-0.014483</td>\n",
       "    </tr>\n",
       "    <tr>\n",
       "      <th>abandon</th>\n",
       "      <td>-3.133372e-14</td>\n",
       "      <td>-0.077616</td>\n",
       "      <td>1.568804e-14</td>\n",
       "      <td>0.149301</td>\n",
       "      <td>-0.212866</td>\n",
       "      <td>0.077754</td>\n",
       "      <td>-1.017711e-13</td>\n",
       "      <td>1.526976e-14</td>\n",
       "      <td>-1.192818e-14</td>\n",
       "      <td>0.027305</td>\n",
       "      <td>...</td>\n",
       "      <td>-6.062371e-16</td>\n",
       "      <td>0.050581</td>\n",
       "      <td>-0.002287</td>\n",
       "      <td>-1.694287e-16</td>\n",
       "      <td>0.039436</td>\n",
       "      <td>-0.014823</td>\n",
       "      <td>0.027164</td>\n",
       "      <td>0.048715</td>\n",
       "      <td>-0.090397</td>\n",
       "      <td>-0.067330</td>\n",
       "    </tr>\n",
       "    <tr>\n",
       "      <th>abandoned</th>\n",
       "      <td>6.078035e-15</td>\n",
       "      <td>-0.067577</td>\n",
       "      <td>2.719503e-14</td>\n",
       "      <td>0.060940</td>\n",
       "      <td>-0.247509</td>\n",
       "      <td>-0.028677</td>\n",
       "      <td>5.133289e-14</td>\n",
       "      <td>3.403554e-14</td>\n",
       "      <td>5.954586e-15</td>\n",
       "      <td>-0.011379</td>\n",
       "      <td>...</td>\n",
       "      <td>-1.147347e-15</td>\n",
       "      <td>0.065895</td>\n",
       "      <td>0.111213</td>\n",
       "      <td>-1.437089e-14</td>\n",
       "      <td>-0.024864</td>\n",
       "      <td>-0.006603</td>\n",
       "      <td>-0.021847</td>\n",
       "      <td>0.014058</td>\n",
       "      <td>-0.077565</td>\n",
       "      <td>-0.077343</td>\n",
       "    </tr>\n",
       "    <tr>\n",
       "      <th>abandoning</th>\n",
       "      <td>-9.582971e-14</td>\n",
       "      <td>-0.033249</td>\n",
       "      <td>5.514695e-14</td>\n",
       "      <td>-0.068586</td>\n",
       "      <td>-0.051109</td>\n",
       "      <td>0.108353</td>\n",
       "      <td>-1.291942e-13</td>\n",
       "      <td>5.265265e-14</td>\n",
       "      <td>-3.730673e-15</td>\n",
       "      <td>-0.052378</td>\n",
       "      <td>...</td>\n",
       "      <td>-2.821518e-16</td>\n",
       "      <td>0.035204</td>\n",
       "      <td>0.121501</td>\n",
       "      <td>-1.617670e-14</td>\n",
       "      <td>0.031339</td>\n",
       "      <td>0.078384</td>\n",
       "      <td>0.024014</td>\n",
       "      <td>0.031338</td>\n",
       "      <td>-0.048161</td>\n",
       "      <td>-0.050376</td>\n",
       "    </tr>\n",
       "  </tbody>\n",
       "</table>\n",
       "<p>5 rows × 256 columns</p>\n",
       "</div>"
      ],
      "text/plain": [
       "                     0         1             2         3         4    \\\n",
       "word_str                                                               \n",
       "aback       7.715719e-15  0.040194 -2.137387e-14 -0.020119  0.075912   \n",
       "abaft       3.217065e-14  0.048869 -2.499445e-14 -0.023250  0.006422   \n",
       "abandon    -3.133372e-14 -0.077616  1.568804e-14  0.149301 -0.212866   \n",
       "abandoned   6.078035e-15 -0.067577  2.719503e-14  0.060940 -0.247509   \n",
       "abandoning -9.582971e-14 -0.033249  5.514695e-14 -0.068586 -0.051109   \n",
       "\n",
       "                 5             6             7             8         9    \\\n",
       "word_str                                                                   \n",
       "aback      -0.052124  6.505764e-14 -6.220020e-14 -8.544396e-15  0.071704   \n",
       "abaft      -0.159226  2.079755e-13  8.049651e-15  2.891096e-14 -0.022019   \n",
       "abandon     0.077754 -1.017711e-13  1.526976e-14 -1.192818e-14  0.027305   \n",
       "abandoned  -0.028677  5.133289e-14  3.403554e-14  5.954586e-15 -0.011379   \n",
       "abandoning  0.108353 -1.291942e-13  5.265265e-14 -3.730673e-15 -0.052378   \n",
       "\n",
       "              ...              246       247       248           249  \\\n",
       "word_str      ...                                                      \n",
       "aback         ...    -5.152400e-16  0.053758 -0.027694  3.907237e-15   \n",
       "abaft         ...    -1.090057e-15 -0.002207  0.052773 -7.153498e-15   \n",
       "abandon       ...    -6.062371e-16  0.050581 -0.002287 -1.694287e-16   \n",
       "abandoned     ...    -1.147347e-15  0.065895  0.111213 -1.437089e-14   \n",
       "abandoning    ...    -2.821518e-16  0.035204  0.121501 -1.617670e-14   \n",
       "\n",
       "                 250       251       252       253       254       255  \n",
       "word_str                                                                \n",
       "aback      -0.014615  0.045539 -0.072116 -0.047603 -0.021114 -0.040583  \n",
       "abaft       0.003823 -0.008140  0.026981 -0.050486  0.056010 -0.014483  \n",
       "abandon     0.039436 -0.014823  0.027164  0.048715 -0.090397 -0.067330  \n",
       "abandoned  -0.024864 -0.006603 -0.021847  0.014058 -0.077565 -0.077343  \n",
       "abandoning  0.031339  0.078384  0.024014  0.031338 -0.048161 -0.050376  \n",
       "\n",
       "[5 rows x 256 columns]"
      ]
     },
     "execution_count": 87,
     "metadata": {},
     "output_type": "execute_result"
    }
   ],
   "source": [
    "WE.head()"
   ]
  },
  {
   "cell_type": "code",
   "execution_count": 88,
   "metadata": {},
   "outputs": [],
   "source": [
    "def word_sims(word, n=10):\n",
    "    try:\n",
    "        sims = SGM.loc[word].sort_values(ascending=False).head(n).reset_index().values\n",
    "        return sims\n",
    "    except KeyError as e:\n",
    "        print('Word \"{}\" not in vocabulary.'.format(word))\n",
    "        return None"
   ]
  },
  {
   "cell_type": "code",
   "execution_count": 89,
   "metadata": {},
   "outputs": [
    {
     "name": "stdout",
     "output_type": "stream",
     "text": [
      "[['grovel' 0.6401623154332218]\n",
      " ['transit' 0.6401623154332218]\n",
      " ['anniversary' 0.6401623154332218]\n",
      " ['prosperous' 0.6041280521921256]\n",
      " ['consoles' 0.589961338701885]\n",
      " ['supremely' 0.589961338701885]\n",
      " ['recurring' 0.589961338701885]\n",
      " ['jocund' 0.5397603619705483]\n",
      " ['flights' 0.5235992571699444]\n",
      " ['descendants' 0.5235992571699444]]\n"
     ]
    }
   ],
   "source": [
    "print(word_sims('happy'))"
   ]
  },
  {
   "cell_type": "code",
   "execution_count": 90,
   "metadata": {},
   "outputs": [],
   "source": [
    "def word_sim_report(word):\n",
    "    sims = word_sims(word)\n",
    "    for sim_word, score in sims:\n",
    "        context = ' '.join(skipgrams2.loc[sim_word].index.values.tolist()[:5])\n",
    "        print(\"{} ({}) {}\".format(sim_word.upper(), score, context))\n",
    "        print('-'*80)"
   ]
  },
  {
   "cell_type": "code",
   "execution_count": 205,
   "metadata": {},
   "outputs": [
    {
     "name": "stdout",
     "output_type": "stream",
     "text": [
      "LAUNDRY (0.6018448679106666) brought folded nobody room woman\n",
      "--------------------------------------------------------------------------------\n",
      "KINSHIP (0.6009973565882161) dreadful sense woman\n",
      "--------------------------------------------------------------------------------\n",
      "REFORMED (0.6009973565882161) woman\n",
      "--------------------------------------------------------------------------------\n",
      "MYSTIFY (0.6009973565882161) business honest woman\n",
      "--------------------------------------------------------------------------------\n",
      "SILHOUETTED (0.6009973565882161) woman yellow\n",
      "--------------------------------------------------------------------------------\n",
      "UNMENTIONABLE (0.6009973565882161) presence stood woman\n",
      "--------------------------------------------------------------------------------\n",
      "GRABS (0.6009973565882161) baby married woman\n",
      "--------------------------------------------------------------------------------\n",
      "SHOD (0.6009973565882161) elderly slip woman\n",
      "--------------------------------------------------------------------------------\n",
      "NOTEWORTHY (0.5507963798568793) anything observe point woman\n",
      "--------------------------------------------------------------------------------\n",
      "BLONDE (0.5507963798568793) lady little small stood woman\n",
      "--------------------------------------------------------------------------------\n"
     ]
    }
   ],
   "source": [
    "word_sim_report('woman')"
   ]
  },
  {
   "cell_type": "code",
   "execution_count": 92,
   "metadata": {},
   "outputs": [
    {
     "name": "stdout",
     "output_type": "stream",
     "text": [
      "YOUNG (0.5772167789397364) abandon abject absence absolutely accepted\n",
      "--------------------------------------------------------------------------------\n",
      "LEGGED (0.5487605823908175) alone cross friend game high\n",
      "--------------------------------------------------------------------------------\n",
      "TALL (0.5348549377696777) admit age along anchor art\n",
      "--------------------------------------------------------------------------------\n",
      "PIEBALD (0.5342342897669777) complexion hair man twice\n",
      "--------------------------------------------------------------------------------\n",
      "OLD (0.531586346825827) abbey able abruptly accent account\n",
      "--------------------------------------------------------------------------------\n",
      "BEARDED (0.5110802281230045) background bargain black chin efficient\n",
      "--------------------------------------------------------------------------------\n",
      "TALLIES (0.4967572282682332) idea man\n",
      "--------------------------------------------------------------------------------\n",
      "REPELLANT (0.4967572282682332) man\n",
      "--------------------------------------------------------------------------------\n",
      "STUDIOUS (0.4967572282682332) habits man quiet\n",
      "--------------------------------------------------------------------------------\n",
      "HUMORED (0.4967572282682332) man\n",
      "--------------------------------------------------------------------------------\n"
     ]
    }
   ],
   "source": [
    "word_sim_report('man')"
   ]
  },
  {
   "cell_type": "code",
   "execution_count": 93,
   "metadata": {},
   "outputs": [
    {
     "name": "stdout",
     "output_type": "stream",
     "text": [
      "LADY (0.6516796047854232) abbess abruptly absence accept accommodate\n",
      "--------------------------------------------------------------------------------\n",
      "LADIES (0.6175629322254406) absence accommodation addressed advice age\n",
      "--------------------------------------------------------------------------------\n",
      "CRATCHITS (0.5929933764406247) became chairs danced fetch got\n",
      "--------------------------------------------------------------------------------\n",
      "MAN (0.5772167789397364) abandons abhorrence aboard abominable abruptly\n",
      "--------------------------------------------------------------------------------\n",
      "LADYS (0.5703715029747964) advice affections alarm annoyance appeared\n",
      "--------------------------------------------------------------------------------\n",
      "SMIRKING (0.5564600455343252) rejoined young\n",
      "--------------------------------------------------------------------------------\n",
      "GENTLEMANLIKE (0.5564600455343252) man young\n",
      "--------------------------------------------------------------------------------\n",
      "VIRILE (0.5564600455343252) young\n",
      "--------------------------------------------------------------------------------\n",
      "PITCHFORK (0.5564600455343252) young\n",
      "--------------------------------------------------------------------------------\n",
      "GAL (0.5564600455343252) knew young\n",
      "--------------------------------------------------------------------------------\n"
     ]
    }
   ],
   "source": [
    "word_sim_report('young')"
   ]
  },
  {
   "cell_type": "markdown",
   "metadata": {},
   "source": [
    "## Define some semantic functions\n",
    "\n",
    "Added after lecture."
   ]
  },
  {
   "cell_type": "code",
   "execution_count": 225,
   "metadata": {},
   "outputs": [],
   "source": [
    "from sklearn.metrics.pairwise import cosine_similarity\n",
    "from sklearn.metrics.pairwise import euclidean_distances\n",
    "\n",
    "def get_word_vector(term_str):\n",
    "    \"\"\"Get a numpy array from the glove matrix and shape for input into cosine function\"\"\"\n",
    "    return SGM.loc[term_str].values.reshape(-1, 1).T\n",
    "\n",
    "def get_nearest_vector(wv, method='cosine', n=1):\n",
    "    \"\"\"Get the nearest word vectors to a given word vector\"\"\"\n",
    "    if method == 'cosine':\n",
    "        sims = cosine_similarity(SGM.values, wv)\n",
    "    elif method == 'euclidean':\n",
    "        eds = euclidean_distances(SGM.values, wv)\n",
    "        sims = 1 - (eds/eds.max())\n",
    "    else:\n",
    "        print('Invalid method {}; defaulting to cosine.'.format(method))\n",
    "        sims = cosine_similarity(SGM.values, wv)\n",
    "    return pd.DataFrame(sims, index=SGM.index, columns=['score']).sort_values('score',ascending=False).head(n+1).iloc[1:]\n",
    "\n",
    "def get_sims(term_str, method='cosine', n=10):\n",
    "    \"\"\"Get the top n words for a given word based on cosine similarity\"\"\"\n",
    "    wv = get_word_vector(term_str)\n",
    "    sims =  get_nearest_vector(wv, method=method, n=n) \n",
    "    return sims\n",
    "\n",
    "def get_analogy(a, b, d, method='cosine'):\n",
    "    \"\"\"Infer missing analogical term\"\"\"\n",
    "    try:\n",
    "        A = get_word_vector(a)\n",
    "        B = get_word_vector(b)\n",
    "        D = get_word_vector(d)\n",
    "        C = np.add(np.subtract(A, B), D)\n",
    "        X = get_nearest_vector(C, method=method, n=1)\n",
    "        return X.iloc[0].name\n",
    "    except ValueError as e:\n",
    "        print(e)\n",
    "        return None"
   ]
  },
  {
   "cell_type": "code",
   "execution_count": 208,
   "metadata": {},
   "outputs": [
    {
     "data": {
      "text/html": [
       "<div>\n",
       "<style scoped>\n",
       "    .dataframe tbody tr th:only-of-type {\n",
       "        vertical-align: middle;\n",
       "    }\n",
       "\n",
       "    .dataframe tbody tr th {\n",
       "        vertical-align: top;\n",
       "    }\n",
       "\n",
       "    .dataframe thead th {\n",
       "        text-align: right;\n",
       "    }\n",
       "</style>\n",
       "<table border=\"1\" class=\"dataframe\">\n",
       "  <thead>\n",
       "    <tr style=\"text-align: right;\">\n",
       "      <th></th>\n",
       "      <th>score</th>\n",
       "    </tr>\n",
       "    <tr>\n",
       "      <th>word_str</th>\n",
       "      <th></th>\n",
       "    </tr>\n",
       "  </thead>\n",
       "  <tbody>\n",
       "    <tr>\n",
       "      <th>man</th>\n",
       "      <td>0.193500</td>\n",
       "    </tr>\n",
       "    <tr>\n",
       "      <th>young</th>\n",
       "      <td>0.158966</td>\n",
       "    </tr>\n",
       "    <tr>\n",
       "      <th>girl</th>\n",
       "      <td>0.157475</td>\n",
       "    </tr>\n",
       "    <tr>\n",
       "      <th>dear</th>\n",
       "      <td>0.154007</td>\n",
       "    </tr>\n",
       "    <tr>\n",
       "      <th>poor</th>\n",
       "      <td>0.152012</td>\n",
       "    </tr>\n",
       "    <tr>\n",
       "      <th>lady</th>\n",
       "      <td>0.151735</td>\n",
       "    </tr>\n",
       "    <tr>\n",
       "      <th>old</th>\n",
       "      <td>0.149467</td>\n",
       "    </tr>\n",
       "    <tr>\n",
       "      <th>father</th>\n",
       "      <td>0.148864</td>\n",
       "    </tr>\n",
       "    <tr>\n",
       "      <th>friend</th>\n",
       "      <td>0.147037</td>\n",
       "    </tr>\n",
       "    <tr>\n",
       "      <th>said</th>\n",
       "      <td>0.140813</td>\n",
       "    </tr>\n",
       "  </tbody>\n",
       "</table>\n",
       "</div>"
      ],
      "text/plain": [
       "             score\n",
       "word_str          \n",
       "man       0.193500\n",
       "young     0.158966\n",
       "girl      0.157475\n",
       "dear      0.154007\n",
       "poor      0.152012\n",
       "lady      0.151735\n",
       "old       0.149467\n",
       "father    0.148864\n",
       "friend    0.147037\n",
       "said      0.140813"
      ]
     },
     "execution_count": 208,
     "metadata": {},
     "output_type": "execute_result"
    }
   ],
   "source": [
    "get_nearest_vector(get_word_vector('woman'),  n=10)"
   ]
  },
  {
   "cell_type": "code",
   "execution_count": 161,
   "metadata": {},
   "outputs": [],
   "source": [
    "def get_opposite(a, b, method='cosine'):\n",
    "    A = get_word_vector(a)\n",
    "    B = get_word_vector(b)\n",
    "    C = np.subtract(A, B)\n",
    "    X = get_nearest_vector(C, n=1, method=method)\n",
    "    return X\n",
    "#     return X.iloc[0].name"
   ]
  },
  {
   "cell_type": "code",
   "execution_count": 204,
   "metadata": {},
   "outputs": [
    {
     "data": {
      "text/html": [
       "<div>\n",
       "<style scoped>\n",
       "    .dataframe tbody tr th:only-of-type {\n",
       "        vertical-align: middle;\n",
       "    }\n",
       "\n",
       "    .dataframe tbody tr th {\n",
       "        vertical-align: top;\n",
       "    }\n",
       "\n",
       "    .dataframe thead th {\n",
       "        text-align: right;\n",
       "    }\n",
       "</style>\n",
       "<table border=\"1\" class=\"dataframe\">\n",
       "  <thead>\n",
       "    <tr style=\"text-align: right;\">\n",
       "      <th></th>\n",
       "      <th>score</th>\n",
       "    </tr>\n",
       "    <tr>\n",
       "      <th>word_str</th>\n",
       "      <th></th>\n",
       "    </tr>\n",
       "  </thead>\n",
       "  <tbody>\n",
       "    <tr>\n",
       "      <th>man</th>\n",
       "      <td>0.193500</td>\n",
       "    </tr>\n",
       "    <tr>\n",
       "      <th>young</th>\n",
       "      <td>0.158966</td>\n",
       "    </tr>\n",
       "    <tr>\n",
       "      <th>girl</th>\n",
       "      <td>0.157475</td>\n",
       "    </tr>\n",
       "    <tr>\n",
       "      <th>dear</th>\n",
       "      <td>0.154007</td>\n",
       "    </tr>\n",
       "    <tr>\n",
       "      <th>poor</th>\n",
       "      <td>0.152012</td>\n",
       "    </tr>\n",
       "    <tr>\n",
       "      <th>lady</th>\n",
       "      <td>0.151735</td>\n",
       "    </tr>\n",
       "    <tr>\n",
       "      <th>old</th>\n",
       "      <td>0.149467</td>\n",
       "    </tr>\n",
       "    <tr>\n",
       "      <th>father</th>\n",
       "      <td>0.148864</td>\n",
       "    </tr>\n",
       "    <tr>\n",
       "      <th>friend</th>\n",
       "      <td>0.147037</td>\n",
       "    </tr>\n",
       "    <tr>\n",
       "      <th>said</th>\n",
       "      <td>0.140813</td>\n",
       "    </tr>\n",
       "  </tbody>\n",
       "</table>\n",
       "</div>"
      ],
      "text/plain": [
       "             score\n",
       "word_str          \n",
       "man       0.193500\n",
       "young     0.158966\n",
       "girl      0.157475\n",
       "dear      0.154007\n",
       "poor      0.152012\n",
       "lady      0.151735\n",
       "old       0.149467\n",
       "father    0.148864\n",
       "friend    0.147037\n",
       "said      0.140813"
      ]
     },
     "execution_count": 204,
     "metadata": {},
     "output_type": "execute_result"
    }
   ],
   "source": [
    "get_sims('woman')"
   ]
  },
  {
   "cell_type": "code",
   "execution_count": 181,
   "metadata": {},
   "outputs": [],
   "source": [
    "test = get_nearest_vector(get_word_vector('king'), n=10)"
   ]
  },
  {
   "cell_type": "code",
   "execution_count": 182,
   "metadata": {},
   "outputs": [
    {
     "data": {
      "text/html": [
       "<div>\n",
       "<style scoped>\n",
       "    .dataframe tbody tr th:only-of-type {\n",
       "        vertical-align: middle;\n",
       "    }\n",
       "\n",
       "    .dataframe tbody tr th {\n",
       "        vertical-align: top;\n",
       "    }\n",
       "\n",
       "    .dataframe thead th {\n",
       "        text-align: right;\n",
       "    }\n",
       "</style>\n",
       "<table border=\"1\" class=\"dataframe\">\n",
       "  <thead>\n",
       "    <tr style=\"text-align: right;\">\n",
       "      <th></th>\n",
       "      <th>score</th>\n",
       "    </tr>\n",
       "    <tr>\n",
       "      <th>word_str</th>\n",
       "      <th></th>\n",
       "    </tr>\n",
       "  </thead>\n",
       "  <tbody>\n",
       "    <tr>\n",
       "      <th>stamen</th>\n",
       "      <td>0.259207</td>\n",
       "    </tr>\n",
       "    <tr>\n",
       "      <th>intuitions</th>\n",
       "      <td>0.256672</td>\n",
       "    </tr>\n",
       "    <tr>\n",
       "      <th>castor</th>\n",
       "      <td>0.207423</td>\n",
       "    </tr>\n",
       "    <tr>\n",
       "      <th>facilities</th>\n",
       "      <td>0.205126</td>\n",
       "    </tr>\n",
       "    <tr>\n",
       "      <th>cigargirl</th>\n",
       "      <td>0.203362</td>\n",
       "    </tr>\n",
       "    <tr>\n",
       "      <th>meted</th>\n",
       "      <td>0.193370</td>\n",
       "    </tr>\n",
       "    <tr>\n",
       "      <th>runners</th>\n",
       "      <td>0.188342</td>\n",
       "    </tr>\n",
       "    <tr>\n",
       "      <th>blessedness</th>\n",
       "      <td>0.187533</td>\n",
       "    </tr>\n",
       "    <tr>\n",
       "      <th>spheres</th>\n",
       "      <td>0.187148</td>\n",
       "    </tr>\n",
       "    <tr>\n",
       "      <th>blankets</th>\n",
       "      <td>0.187052</td>\n",
       "    </tr>\n",
       "  </tbody>\n",
       "</table>\n",
       "</div>"
      ],
      "text/plain": [
       "                score\n",
       "word_str             \n",
       "stamen       0.259207\n",
       "intuitions   0.256672\n",
       "castor       0.207423\n",
       "facilities   0.205126\n",
       "cigargirl    0.203362\n",
       "meted        0.193370\n",
       "runners      0.188342\n",
       "blessedness  0.187533\n",
       "spheres      0.187148\n",
       "blankets     0.187052"
      ]
     },
     "execution_count": 182,
     "metadata": {},
     "output_type": "execute_result"
    }
   ],
   "source": [
    "test"
   ]
  },
  {
   "cell_type": "code",
   "execution_count": 153,
   "metadata": {},
   "outputs": [
    {
     "data": {
      "text/html": [
       "<div>\n",
       "<style scoped>\n",
       "    .dataframe tbody tr th:only-of-type {\n",
       "        vertical-align: middle;\n",
       "    }\n",
       "\n",
       "    .dataframe tbody tr th {\n",
       "        vertical-align: top;\n",
       "    }\n",
       "\n",
       "    .dataframe thead th {\n",
       "        text-align: right;\n",
       "    }\n",
       "</style>\n",
       "<table border=\"1\" class=\"dataframe\">\n",
       "  <thead>\n",
       "    <tr style=\"text-align: right;\">\n",
       "      <th></th>\n",
       "      <th>score</th>\n",
       "    </tr>\n",
       "    <tr>\n",
       "      <th>word_str</th>\n",
       "      <th></th>\n",
       "    </tr>\n",
       "  </thead>\n",
       "  <tbody>\n",
       "    <tr>\n",
       "      <th>affection</th>\n",
       "      <td>0.161329</td>\n",
       "    </tr>\n",
       "    <tr>\n",
       "      <th>loved</th>\n",
       "      <td>0.155090</td>\n",
       "    </tr>\n",
       "    <tr>\n",
       "      <th>pity</th>\n",
       "      <td>0.142006</td>\n",
       "    </tr>\n",
       "    <tr>\n",
       "      <th>tenderness</th>\n",
       "      <td>0.140762</td>\n",
       "    </tr>\n",
       "    <tr>\n",
       "      <th>felt</th>\n",
       "      <td>0.131610</td>\n",
       "    </tr>\n",
       "    <tr>\n",
       "      <th>esteem</th>\n",
       "      <td>0.131065</td>\n",
       "    </tr>\n",
       "    <tr>\n",
       "      <th>heart</th>\n",
       "      <td>0.129820</td>\n",
       "    </tr>\n",
       "    <tr>\n",
       "      <th>fear</th>\n",
       "      <td>0.129634</td>\n",
       "    </tr>\n",
       "    <tr>\n",
       "      <th>gratitude</th>\n",
       "      <td>0.124463</td>\n",
       "    </tr>\n",
       "    <tr>\n",
       "      <th>aback</th>\n",
       "      <td>NaN</td>\n",
       "    </tr>\n",
       "  </tbody>\n",
       "</table>\n",
       "</div>"
      ],
      "text/plain": [
       "               score\n",
       "word_str            \n",
       "affection   0.161329\n",
       "loved       0.155090\n",
       "pity        0.142006\n",
       "tenderness  0.140762\n",
       "felt        0.131610\n",
       "esteem      0.131065\n",
       "heart       0.129820\n",
       "fear        0.129634\n",
       "gratitude   0.124463\n",
       "aback            NaN"
      ]
     },
     "execution_count": 153,
     "metadata": {},
     "output_type": "execute_result"
    }
   ],
   "source": [
    "get_sims('love')"
   ]
  },
  {
   "cell_type": "code",
   "execution_count": 213,
   "metadata": {},
   "outputs": [
    {
     "data": {
      "text/html": [
       "<div>\n",
       "<style scoped>\n",
       "    .dataframe tbody tr th:only-of-type {\n",
       "        vertical-align: middle;\n",
       "    }\n",
       "\n",
       "    .dataframe tbody tr th {\n",
       "        vertical-align: top;\n",
       "    }\n",
       "\n",
       "    .dataframe thead th {\n",
       "        text-align: right;\n",
       "    }\n",
       "</style>\n",
       "<table border=\"1\" class=\"dataframe\">\n",
       "  <thead>\n",
       "    <tr style=\"text-align: right;\">\n",
       "      <th></th>\n",
       "      <th>score</th>\n",
       "    </tr>\n",
       "    <tr>\n",
       "      <th>word_str</th>\n",
       "      <th></th>\n",
       "    </tr>\n",
       "  </thead>\n",
       "  <tbody>\n",
       "    <tr>\n",
       "      <th>woman</th>\n",
       "      <td>0.172185</td>\n",
       "    </tr>\n",
       "  </tbody>\n",
       "</table>\n",
       "</div>"
      ],
      "text/plain": [
       "             score\n",
       "word_str          \n",
       "woman     0.172185"
      ]
     },
     "execution_count": 213,
     "metadata": {},
     "output_type": "execute_result"
    }
   ],
   "source": [
    "get_opposite('man','beard')"
   ]
  },
  {
   "cell_type": "code",
   "execution_count": 224,
   "metadata": {},
   "outputs": [
    {
     "data": {
      "text/plain": [
       "'girl'"
      ]
     },
     "execution_count": 224,
     "metadata": {},
     "output_type": "execute_result"
    }
   ],
   "source": [
    "get_analogy('man','boy','girl')"
   ]
  },
  {
   "cell_type": "code",
   "execution_count": 221,
   "metadata": {},
   "outputs": [
    {
     "data": {
      "text/plain": [
       "'king'"
      ]
     },
     "execution_count": 221,
     "metadata": {},
     "output_type": "execute_result"
    }
   ],
   "source": [
    "get_analogy('king', 'male', 'female')"
   ]
  },
  {
   "cell_type": "code",
   "execution_count": 66,
   "metadata": {},
   "outputs": [
    {
     "data": {
      "text/plain": [
       "\u001b[0;31mSignature:\u001b[0m\n",
       "\u001b[0meuclidean_distances\u001b[0m\u001b[0;34m(\u001b[0m\u001b[0;34m\u001b[0m\n",
       "\u001b[0;34m\u001b[0m    \u001b[0mX\u001b[0m\u001b[0;34m,\u001b[0m\u001b[0;34m\u001b[0m\n",
       "\u001b[0;34m\u001b[0m    \u001b[0mY\u001b[0m\u001b[0;34m=\u001b[0m\u001b[0;32mNone\u001b[0m\u001b[0;34m,\u001b[0m\u001b[0;34m\u001b[0m\n",
       "\u001b[0;34m\u001b[0m    \u001b[0mY_norm_squared\u001b[0m\u001b[0;34m=\u001b[0m\u001b[0;32mNone\u001b[0m\u001b[0;34m,\u001b[0m\u001b[0;34m\u001b[0m\n",
       "\u001b[0;34m\u001b[0m    \u001b[0msquared\u001b[0m\u001b[0;34m=\u001b[0m\u001b[0;32mFalse\u001b[0m\u001b[0;34m,\u001b[0m\u001b[0;34m\u001b[0m\n",
       "\u001b[0;34m\u001b[0m    \u001b[0mX_norm_squared\u001b[0m\u001b[0;34m=\u001b[0m\u001b[0;32mNone\u001b[0m\u001b[0;34m,\u001b[0m\u001b[0;34m\u001b[0m\n",
       "\u001b[0;34m\u001b[0m\u001b[0;34m)\u001b[0m\u001b[0;34m\u001b[0m\u001b[0;34m\u001b[0m\u001b[0m\n",
       "\u001b[0;31mDocstring:\u001b[0m\n",
       "Considering the rows of X (and Y=X) as vectors, compute the\n",
       "distance matrix between each pair of vectors.\n",
       "\n",
       "For efficiency reasons, the euclidean distance between a pair of row\n",
       "vector x and y is computed as::\n",
       "\n",
       "    dist(x, y) = sqrt(dot(x, x) - 2 * dot(x, y) + dot(y, y))\n",
       "\n",
       "This formulation has two advantages over other ways of computing distances.\n",
       "First, it is computationally efficient when dealing with sparse data.\n",
       "Second, if one argument varies but the other remains unchanged, then\n",
       "`dot(x, x)` and/or `dot(y, y)` can be pre-computed.\n",
       "\n",
       "However, this is not the most precise way of doing this computation, and\n",
       "the distance matrix returned by this function may not be exactly\n",
       "symmetric as required by, e.g., ``scipy.spatial.distance`` functions.\n",
       "\n",
       "Read more in the :ref:`User Guide <metrics>`.\n",
       "\n",
       "Parameters\n",
       "----------\n",
       "X : {array-like, sparse matrix}, shape (n_samples_1, n_features)\n",
       "\n",
       "Y : {array-like, sparse matrix}, shape (n_samples_2, n_features)\n",
       "\n",
       "Y_norm_squared : array-like, shape (n_samples_2, ), optional\n",
       "    Pre-computed dot-products of vectors in Y (e.g.,\n",
       "    ``(Y**2).sum(axis=1)``)\n",
       "\n",
       "squared : boolean, optional\n",
       "    Return squared Euclidean distances.\n",
       "\n",
       "X_norm_squared : array-like, shape = [n_samples_1], optional\n",
       "    Pre-computed dot-products of vectors in X (e.g.,\n",
       "    ``(X**2).sum(axis=1)``)\n",
       "\n",
       "Returns\n",
       "-------\n",
       "distances : {array, sparse matrix}, shape (n_samples_1, n_samples_2)\n",
       "\n",
       "Examples\n",
       "--------\n",
       ">>> from sklearn.metrics.pairwise import euclidean_distances\n",
       ">>> X = [[0, 1], [1, 1]]\n",
       ">>> # distance between rows of X\n",
       ">>> euclidean_distances(X, X)\n",
       "array([[0., 1.],\n",
       "       [1., 0.]])\n",
       ">>> # get distance to origin\n",
       ">>> euclidean_distances(X, [[0, 0]])\n",
       "array([[1.        ],\n",
       "       [1.41421356]])\n",
       "\n",
       "See also\n",
       "--------\n",
       "paired_distances : distances betweens pairs of elements of X and Y.\n",
       "\u001b[0;31mFile:\u001b[0m      ~/anaconda3/lib/python3.6/site-packages/sklearn/metrics/pairwise.py\n",
       "\u001b[0;31mType:\u001b[0m      function\n"
      ]
     },
     "metadata": {},
     "output_type": "display_data"
    }
   ],
   "source": [
    "euclidean_distances?"
   ]
  },
  {
   "cell_type": "markdown",
   "metadata": {
    "toc-hr-collapsed": true
   },
   "source": [
    "# Save"
   ]
  },
  {
   "cell_type": "code",
   "execution_count": 52,
   "metadata": {},
   "outputs": [],
   "source": [
    "with sqlite3.connect(db_file) as db:\n",
    "    tx.put_to_db(db, skipgrams, 'skipgrams', index=False, if_exists='replace')\n",
    "    tx.put_to_db(db, WE, 'wordembeddings', index=True, if_exists='replace')"
   ]
  }
 ],
 "metadata": {
  "kernelspec": {
   "display_name": "Python 3",
   "language": "python",
   "name": "python3"
  },
  "language_info": {
   "codemirror_mode": {
    "name": "ipython",
    "version": 3
   },
   "file_extension": ".py",
   "mimetype": "text/x-python",
   "name": "python",
   "nbconvert_exporter": "python",
   "pygments_lexer": "ipython3",
   "version": "3.6.8"
  }
 },
 "nbformat": 4,
 "nbformat_minor": 2
}
