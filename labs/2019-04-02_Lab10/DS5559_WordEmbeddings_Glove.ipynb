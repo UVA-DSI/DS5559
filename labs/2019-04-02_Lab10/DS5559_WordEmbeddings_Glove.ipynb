{
 "cells": [
  {
   "cell_type": "markdown",
   "metadata": {},
   "source": [
    "# Synopsis\n",
    "\n",
    "We use some pretrained word vectors from [the developers of GloVe](https://nlp.stanford.edu/projects/glove/)."
   ]
  },
  {
   "cell_type": "markdown",
   "metadata": {},
   "source": [
    "# Configuration"
   ]
  },
  {
   "cell_type": "code",
   "execution_count": 304,
   "metadata": {},
   "outputs": [],
   "source": [
    "db_file = '../../data/glove.db'"
   ]
  },
  {
   "cell_type": "markdown",
   "metadata": {},
   "source": [
    "# Libraries"
   ]
  },
  {
   "cell_type": "code",
   "execution_count": 305,
   "metadata": {},
   "outputs": [],
   "source": [
    "import pandas as pd\n",
    "import numpy as np\n",
    "import sqlite3\n",
    "from sklearn.metrics.pairwise import cosine_similarity"
   ]
  },
  {
   "cell_type": "markdown",
   "metadata": {},
   "source": [
    "# Process"
   ]
  },
  {
   "cell_type": "markdown",
   "metadata": {
    "toc-hr-collapsed": true
   },
   "source": [
    "## Import GloVe data"
   ]
  },
  {
   "cell_type": "code",
   "execution_count": 359,
   "metadata": {},
   "outputs": [],
   "source": [
    "with sqlite3.connect(db_file) as db:\n",
    "    glove = pd.read_sql(\"SELECT * FROM glove200\", db, index_col='term_str')"
   ]
  },
  {
   "cell_type": "code",
   "execution_count": 360,
   "metadata": {},
   "outputs": [
    {
     "data": {
      "text/html": [
       "<div>\n",
       "<style scoped>\n",
       "    .dataframe tbody tr th:only-of-type {\n",
       "        vertical-align: middle;\n",
       "    }\n",
       "\n",
       "    .dataframe tbody tr th {\n",
       "        vertical-align: top;\n",
       "    }\n",
       "\n",
       "    .dataframe thead th {\n",
       "        text-align: right;\n",
       "    }\n",
       "</style>\n",
       "<table border=\"1\" class=\"dataframe\">\n",
       "  <thead>\n",
       "    <tr style=\"text-align: right;\">\n",
       "      <th></th>\n",
       "      <th>1</th>\n",
       "      <th>2</th>\n",
       "      <th>3</th>\n",
       "      <th>4</th>\n",
       "      <th>5</th>\n",
       "      <th>6</th>\n",
       "      <th>7</th>\n",
       "      <th>8</th>\n",
       "      <th>9</th>\n",
       "      <th>10</th>\n",
       "      <th>...</th>\n",
       "      <th>191</th>\n",
       "      <th>192</th>\n",
       "      <th>193</th>\n",
       "      <th>194</th>\n",
       "      <th>195</th>\n",
       "      <th>196</th>\n",
       "      <th>197</th>\n",
       "      <th>198</th>\n",
       "      <th>199</th>\n",
       "      <th>200</th>\n",
       "    </tr>\n",
       "    <tr>\n",
       "      <th>term_str</th>\n",
       "      <th></th>\n",
       "      <th></th>\n",
       "      <th></th>\n",
       "      <th></th>\n",
       "      <th></th>\n",
       "      <th></th>\n",
       "      <th></th>\n",
       "      <th></th>\n",
       "      <th></th>\n",
       "      <th></th>\n",
       "      <th></th>\n",
       "      <th></th>\n",
       "      <th></th>\n",
       "      <th></th>\n",
       "      <th></th>\n",
       "      <th></th>\n",
       "      <th></th>\n",
       "      <th></th>\n",
       "      <th></th>\n",
       "      <th></th>\n",
       "      <th></th>\n",
       "    </tr>\n",
       "  </thead>\n",
       "  <tbody>\n",
       "    <tr>\n",
       "      <th>the</th>\n",
       "      <td>-0.071549</td>\n",
       "      <td>0.093459</td>\n",
       "      <td>0.023738</td>\n",
       "      <td>-0.090339</td>\n",
       "      <td>0.056123</td>\n",
       "      <td>0.32547</td>\n",
       "      <td>-0.39796</td>\n",
       "      <td>-0.092139</td>\n",
       "      <td>0.061181</td>\n",
       "      <td>-0.1895</td>\n",
       "      <td>...</td>\n",
       "      <td>0.1218</td>\n",
       "      <td>0.19957</td>\n",
       "      <td>-0.20303</td>\n",
       "      <td>0.34474</td>\n",
       "      <td>-0.24328</td>\n",
       "      <td>0.13139</td>\n",
       "      <td>-0.0088767</td>\n",
       "      <td>0.33617</td>\n",
       "      <td>0.030591</td>\n",
       "      <td>0.25577</td>\n",
       "    </tr>\n",
       "    <tr>\n",
       "      <th>,</th>\n",
       "      <td>0.17651</td>\n",
       "      <td>0.29208</td>\n",
       "      <td>-0.0020768</td>\n",
       "      <td>-0.37523</td>\n",
       "      <td>0.0049139</td>\n",
       "      <td>0.23979</td>\n",
       "      <td>-0.28893</td>\n",
       "      <td>-0.014643</td>\n",
       "      <td>-0.10993</td>\n",
       "      <td>0.15592</td>\n",
       "      <td>...</td>\n",
       "      <td>-0.32582</td>\n",
       "      <td>0.19153</td>\n",
       "      <td>-0.15469</td>\n",
       "      <td>-0.14679</td>\n",
       "      <td>0.046971</td>\n",
       "      <td>0.032325</td>\n",
       "      <td>-0.22006</td>\n",
       "      <td>-0.20774</td>\n",
       "      <td>-0.23189</td>\n",
       "      <td>-0.10814</td>\n",
       "    </tr>\n",
       "    <tr>\n",
       "      <th>.</th>\n",
       "      <td>0.12289</td>\n",
       "      <td>0.58037</td>\n",
       "      <td>-0.069635</td>\n",
       "      <td>-0.50288</td>\n",
       "      <td>0.10503</td>\n",
       "      <td>0.39945</td>\n",
       "      <td>-0.38635</td>\n",
       "      <td>-0.084279</td>\n",
       "      <td>0.12219</td>\n",
       "      <td>0.080312</td>\n",
       "      <td>...</td>\n",
       "      <td>-0.035236</td>\n",
       "      <td>0.17688</td>\n",
       "      <td>-0.0536</td>\n",
       "      <td>0.0070031</td>\n",
       "      <td>-0.033006</td>\n",
       "      <td>-0.080021</td>\n",
       "      <td>-0.24451</td>\n",
       "      <td>-0.039174</td>\n",
       "      <td>-0.16236</td>\n",
       "      <td>-0.096652</td>\n",
       "    </tr>\n",
       "    <tr>\n",
       "      <th>of</th>\n",
       "      <td>0.052924</td>\n",
       "      <td>0.25427</td>\n",
       "      <td>0.31353</td>\n",
       "      <td>-0.35613</td>\n",
       "      <td>0.029629</td>\n",
       "      <td>0.51034</td>\n",
       "      <td>-0.10716</td>\n",
       "      <td>0.15195</td>\n",
       "      <td>0.057698</td>\n",
       "      <td>0.06149</td>\n",
       "      <td>...</td>\n",
       "      <td>-0.040886</td>\n",
       "      <td>0.3894</td>\n",
       "      <td>-0.10509</td>\n",
       "      <td>0.23372</td>\n",
       "      <td>0.096027</td>\n",
       "      <td>-0.30324</td>\n",
       "      <td>0.24488</td>\n",
       "      <td>-0.086254</td>\n",
       "      <td>-0.41917</td>\n",
       "      <td>0.46496</td>\n",
       "    </tr>\n",
       "    <tr>\n",
       "      <th>to</th>\n",
       "      <td>0.57346</td>\n",
       "      <td>0.5417</td>\n",
       "      <td>-0.23477</td>\n",
       "      <td>-0.3624</td>\n",
       "      <td>0.4037</td>\n",
       "      <td>0.11386</td>\n",
       "      <td>-0.44933</td>\n",
       "      <td>-0.30991</td>\n",
       "      <td>-0.0053411</td>\n",
       "      <td>0.58426</td>\n",
       "      <td>...</td>\n",
       "      <td>-0.27915</td>\n",
       "      <td>0.43742</td>\n",
       "      <td>-0.31237</td>\n",
       "      <td>0.13194</td>\n",
       "      <td>-0.33278</td>\n",
       "      <td>0.18877</td>\n",
       "      <td>-0.23422</td>\n",
       "      <td>0.54418</td>\n",
       "      <td>-0.23069</td>\n",
       "      <td>0.34947</td>\n",
       "    </tr>\n",
       "  </tbody>\n",
       "</table>\n",
       "<p>5 rows × 200 columns</p>\n",
       "</div>"
      ],
      "text/plain": [
       "                  1         2           3          4          5        6  \\\n",
       "term_str                                                                   \n",
       "the       -0.071549  0.093459    0.023738  -0.090339   0.056123  0.32547   \n",
       ",           0.17651   0.29208  -0.0020768   -0.37523  0.0049139  0.23979   \n",
       ".           0.12289   0.58037   -0.069635   -0.50288    0.10503  0.39945   \n",
       "of         0.052924   0.25427     0.31353   -0.35613   0.029629  0.51034   \n",
       "to          0.57346    0.5417    -0.23477    -0.3624     0.4037  0.11386   \n",
       "\n",
       "                 7          8           9        10    ...            191  \\\n",
       "term_str                                               ...                  \n",
       "the       -0.39796  -0.092139    0.061181   -0.1895    ...         0.1218   \n",
       ",         -0.28893  -0.014643    -0.10993   0.15592    ...       -0.32582   \n",
       ".         -0.38635  -0.084279     0.12219  0.080312    ...      -0.035236   \n",
       "of        -0.10716    0.15195    0.057698   0.06149    ...      -0.040886   \n",
       "to        -0.44933   -0.30991  -0.0053411   0.58426    ...       -0.27915   \n",
       "\n",
       "              192       193        194        195        196         197  \\\n",
       "term_str                                                                   \n",
       "the       0.19957  -0.20303    0.34474   -0.24328    0.13139  -0.0088767   \n",
       ",         0.19153  -0.15469   -0.14679   0.046971   0.032325    -0.22006   \n",
       ".         0.17688   -0.0536  0.0070031  -0.033006  -0.080021    -0.24451   \n",
       "of         0.3894  -0.10509    0.23372   0.096027   -0.30324     0.24488   \n",
       "to        0.43742  -0.31237    0.13194   -0.33278    0.18877    -0.23422   \n",
       "\n",
       "                198       199        200  \n",
       "term_str                                  \n",
       "the         0.33617  0.030591    0.25577  \n",
       ",          -0.20774  -0.23189   -0.10814  \n",
       ".         -0.039174  -0.16236  -0.096652  \n",
       "of        -0.086254  -0.41917    0.46496  \n",
       "to          0.54418  -0.23069    0.34947  \n",
       "\n",
       "[5 rows x 200 columns]"
      ]
     },
     "execution_count": 360,
     "metadata": {},
     "output_type": "execute_result"
    }
   ],
   "source": [
    "glove.head()"
   ]
  },
  {
   "cell_type": "markdown",
   "metadata": {},
   "source": [
    "### Convert cells to floats\n",
    "\n",
    "This should have been done when the text files were imported into the database."
   ]
  },
  {
   "cell_type": "code",
   "execution_count": 361,
   "metadata": {},
   "outputs": [],
   "source": [
    "glove = glove.astype('float')"
   ]
  },
  {
   "cell_type": "markdown",
   "metadata": {},
   "source": [
    "## Remove non-words\n",
    "\n",
    "There are a lot of useless tokens in the vocabulary. These may be good for generating the features, but we don't need them in our queries."
   ]
  },
  {
   "cell_type": "code",
   "execution_count": 362,
   "metadata": {},
   "outputs": [],
   "source": [
    "glove = glove.reset_index()\n",
    "glove = glove[glove.term_str.str.match(r'^[a-z]+$')]\n",
    "glove = glove.set_index('term_str')"
   ]
  },
  {
   "cell_type": "code",
   "execution_count": 363,
   "metadata": {},
   "outputs": [
    {
     "data": {
      "text/plain": [
       "(317756, 200)"
      ]
     },
     "execution_count": 363,
     "metadata": {},
     "output_type": "execute_result"
    }
   ],
   "source": [
    "glove.shape"
   ]
  },
  {
   "cell_type": "markdown",
   "metadata": {},
   "source": [
    "## Define some semantic functions"
   ]
  },
  {
   "cell_type": "code",
   "execution_count": 311,
   "metadata": {},
   "outputs": [],
   "source": [
    "def get_word_vector(term_str):\n",
    "    \"\"\"Get a numpy array from the glove matrix and shape for input into cosine function\"\"\"\n",
    "    wv = glove.loc[term_str].values.reshape(-1, 1).T\n",
    "    return wv\n",
    "\n",
    "def get_sims(term_str, n=10):\n",
    "    \"\"\"Get the top n words for a given word based on cosine similarity\"\"\"\n",
    "    wv = get_word_vector(term_str)\n",
    "    sims = cosine_similarity(glove.values, wv)\n",
    "    return pd.DataFrame(sims, index=glove.index, columns=['score']).sort_values('score',ascending=False).head(n)\n",
    "\n",
    "def get_nearest_vector(wv):\n",
    "    \"\"\"Get the nearest word vector to a given word vector\"\"\"\n",
    "    sims = cosine_similarity(glove.values, wv)\n",
    "    return pd.DataFrame(sims, index=glove.index, columns=['score']).sort_values('score',ascending=False).head(2).iloc[1]\n",
    "\n",
    "def get_analogy(a, b, d):\n",
    "    \"\"\"Infer missing analogical term\"\"\"\n",
    "    try:\n",
    "        A = get_word_vector(a)\n",
    "        B = get_word_vector(b)\n",
    "        D = get_word_vector(d)\n",
    "        C = np.add(np.subtract(A, B), D)\n",
    "        X = get_nearest_vector(C)\n",
    "        return X.name\n",
    "    except ValueError as e:\n",
    "        print(e)\n",
    "        return None"
   ]
  },
  {
   "cell_type": "markdown",
   "metadata": {},
   "source": [
    "## Test similarity function"
   ]
  },
  {
   "cell_type": "code",
   "execution_count": 345,
   "metadata": {},
   "outputs": [],
   "source": [
    "QUEEN = get_sims('queen')"
   ]
  },
  {
   "cell_type": "code",
   "execution_count": 346,
   "metadata": {},
   "outputs": [
    {
     "data": {
      "text/html": [
       "<div>\n",
       "<style scoped>\n",
       "    .dataframe tbody tr th:only-of-type {\n",
       "        vertical-align: middle;\n",
       "    }\n",
       "\n",
       "    .dataframe tbody tr th {\n",
       "        vertical-align: top;\n",
       "    }\n",
       "\n",
       "    .dataframe thead th {\n",
       "        text-align: right;\n",
       "    }\n",
       "</style>\n",
       "<table border=\"1\" class=\"dataframe\">\n",
       "  <thead>\n",
       "    <tr style=\"text-align: right;\">\n",
       "      <th></th>\n",
       "      <th>score</th>\n",
       "    </tr>\n",
       "    <tr>\n",
       "      <th>term_str</th>\n",
       "      <th></th>\n",
       "    </tr>\n",
       "  </thead>\n",
       "  <tbody>\n",
       "    <tr>\n",
       "      <th>queen</th>\n",
       "      <td>1.000000</td>\n",
       "    </tr>\n",
       "    <tr>\n",
       "      <th>princess</th>\n",
       "      <td>0.794724</td>\n",
       "    </tr>\n",
       "    <tr>\n",
       "      <th>king</th>\n",
       "      <td>0.750769</td>\n",
       "    </tr>\n",
       "    <tr>\n",
       "      <th>elizabeth</th>\n",
       "      <td>0.735571</td>\n",
       "    </tr>\n",
       "    <tr>\n",
       "      <th>royal</th>\n",
       "      <td>0.706503</td>\n",
       "    </tr>\n",
       "    <tr>\n",
       "      <th>lady</th>\n",
       "      <td>0.704480</td>\n",
       "    </tr>\n",
       "    <tr>\n",
       "      <th>victoria</th>\n",
       "      <td>0.685376</td>\n",
       "    </tr>\n",
       "    <tr>\n",
       "      <th>monarch</th>\n",
       "      <td>0.668326</td>\n",
       "    </tr>\n",
       "    <tr>\n",
       "      <th>crown</th>\n",
       "      <td>0.668056</td>\n",
       "    </tr>\n",
       "    <tr>\n",
       "      <th>prince</th>\n",
       "      <td>0.664051</td>\n",
       "    </tr>\n",
       "  </tbody>\n",
       "</table>\n",
       "</div>"
      ],
      "text/plain": [
       "              score\n",
       "term_str           \n",
       "queen      1.000000\n",
       "princess   0.794724\n",
       "king       0.750769\n",
       "elizabeth  0.735571\n",
       "royal      0.706503\n",
       "lady       0.704480\n",
       "victoria   0.685376\n",
       "monarch    0.668326\n",
       "crown      0.668056\n",
       "prince     0.664051"
      ]
     },
     "execution_count": 346,
     "metadata": {},
     "output_type": "execute_result"
    }
   ],
   "source": [
    "QUEEN"
   ]
  },
  {
   "cell_type": "markdown",
   "metadata": {},
   "source": [
    "## Test analogy function"
   ]
  },
  {
   "cell_type": "markdown",
   "metadata": {},
   "source": [
    "### Are cats female?"
   ]
  },
  {
   "cell_type": "code",
   "execution_count": 364,
   "metadata": {},
   "outputs": [
    {
     "data": {
      "text/plain": [
       "'dogs'"
      ]
     },
     "execution_count": 364,
     "metadata": {},
     "output_type": "execute_result"
    }
   ],
   "source": [
    "get_analogy('dog','male','female')"
   ]
  },
  {
   "cell_type": "code",
   "execution_count": 365,
   "metadata": {},
   "outputs": [
    {
     "data": {
      "text/plain": [
       "'man'"
      ]
     },
     "execution_count": 365,
     "metadata": {},
     "output_type": "execute_result"
    }
   ],
   "source": [
    "get_analogy('bird','tree','man')"
   ]
  },
  {
   "cell_type": "markdown",
   "metadata": {},
   "source": [
    "### Kings and Queens"
   ]
  },
  {
   "cell_type": "code",
   "execution_count": 366,
   "metadata": {},
   "outputs": [
    {
     "data": {
      "text/plain": [
       "'queen'"
      ]
     },
     "execution_count": 366,
     "metadata": {},
     "output_type": "execute_result"
    }
   ],
   "source": [
    "get_analogy('king','male','female')"
   ]
  },
  {
   "cell_type": "code",
   "execution_count": 367,
   "metadata": {},
   "outputs": [
    {
     "data": {
      "text/plain": [
       "'king'"
      ]
     },
     "execution_count": 367,
     "metadata": {},
     "output_type": "execute_result"
    }
   ],
   "source": [
    "get_analogy('queen','female','male')"
   ]
  },
  {
   "cell_type": "code",
   "execution_count": 368,
   "metadata": {},
   "outputs": [
    {
     "data": {
      "text/plain": [
       "'male'"
      ]
     },
     "execution_count": 368,
     "metadata": {},
     "output_type": "execute_result"
    }
   ],
   "source": [
    "get_analogy('queen','king','female')"
   ]
  },
  {
   "cell_type": "markdown",
   "metadata": {},
   "source": [
    "### Left and right"
   ]
  },
  {
   "cell_type": "code",
   "execution_count": 372,
   "metadata": {},
   "outputs": [
    {
     "data": {
      "text/plain": [
       "'binned'"
      ]
     },
     "execution_count": 372,
     "metadata": {},
     "output_type": "execute_result"
    }
   ],
   "source": [
    "get_analogy('left','right','sin')"
   ]
  },
  {
   "cell_type": "code",
   "execution_count": 370,
   "metadata": {},
   "outputs": [
    {
     "data": {
      "text/plain": [
       "'male'"
      ]
     },
     "execution_count": 370,
     "metadata": {},
     "output_type": "execute_result"
    }
   ],
   "source": [
    "get_analogy('left','right','female')"
   ]
  },
  {
   "cell_type": "code",
   "execution_count": 371,
   "metadata": {},
   "outputs": [
    {
     "data": {
      "text/plain": [
       "'male'"
      ]
     },
     "execution_count": 371,
     "metadata": {},
     "output_type": "execute_result"
    }
   ],
   "source": [
    "get_analogy('male','right','female')"
   ]
  },
  {
   "cell_type": "code",
   "execution_count": null,
   "metadata": {},
   "outputs": [],
   "source": []
  }
 ],
 "metadata": {
  "kernelspec": {
   "display_name": "Python 3",
   "language": "python",
   "name": "python3"
  },
  "language_info": {
   "codemirror_mode": {
    "name": "ipython",
    "version": 3
   },
   "file_extension": ".py",
   "mimetype": "text/x-python",
   "name": "python",
   "nbconvert_exporter": "python",
   "pygments_lexer": "ipython3",
   "version": "3.6.8"
  }
 },
 "nbformat": 4,
 "nbformat_minor": 2
}
