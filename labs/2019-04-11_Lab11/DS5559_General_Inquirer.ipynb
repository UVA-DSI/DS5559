{
 "cells": [
  {
   "cell_type": "markdown",
   "metadata": {},
   "source": [
    "# Synopsis\n",
    "\n",
    "Convert [General Inquirer lexicon](http://www.wjh.harvard.edu/~inquirer/spreadsheet_guide.htm) into usable form. Download [the spreadsheet](http://www.wjh.harvard.edu/~inquirer/inquirerbasic.xls)."
   ]
  },
  {
   "cell_type": "markdown",
   "metadata": {},
   "source": [
    "# Libraries"
   ]
  },
  {
   "cell_type": "code",
   "execution_count": 61,
   "metadata": {},
   "outputs": [],
   "source": [
    "import pandas as pd\n",
    "import numpy as np"
   ]
  },
  {
   "cell_type": "markdown",
   "metadata": {},
   "source": [
    "# Pragmas"
   ]
  },
  {
   "cell_type": "code",
   "execution_count": 2,
   "metadata": {},
   "outputs": [],
   "source": [
    "%matplotlib inline"
   ]
  },
  {
   "cell_type": "markdown",
   "metadata": {
    "toc-hr-collapsed": true
   },
   "source": [
    "# Process"
   ]
  },
  {
   "cell_type": "markdown",
   "metadata": {},
   "source": [
    "## Import Excel file "
   ]
  },
  {
   "cell_type": "code",
   "execution_count": 3,
   "metadata": {},
   "outputs": [],
   "source": [
    "df = pd.read_excel('lexicons/inquirerbasic.xls', false_values=None)"
   ]
  },
  {
   "cell_type": "markdown",
   "metadata": {},
   "source": [
    "## Handle variant terms "
   ]
  },
  {
   "cell_type": "code",
   "execution_count": 33,
   "metadata": {},
   "outputs": [],
   "source": [
    "df['split'] = df.Entry.str.split(r'[#_]+')"
   ]
  },
  {
   "cell_type": "code",
   "execution_count": 34,
   "metadata": {},
   "outputs": [],
   "source": [
    "# Function to add 1 to terms without variants\n",
    "def add_1(x):\n",
    "    try:\n",
    "        if len(x) == 1:\n",
    "            x = x + [1]\n",
    "    except:\n",
    "        print(x)\n",
    "        x = 0\n",
    "    return x"
   ]
  },
  {
   "cell_type": "code",
   "execution_count": 35,
   "metadata": {},
   "outputs": [],
   "source": [
    "df['split'] = df['split'].apply(add_1)\n",
    "df['term_str'] = df['split'].apply(lambda x: x[0].lower(), 1)\n",
    "df['term_var'] = df['split'].apply(lambda x: x[1], 1)\n",
    "df = df.set_index(['term_str', 'term_var'])"
   ]
  },
  {
   "cell_type": "code",
   "execution_count": 36,
   "metadata": {},
   "outputs": [
    {
     "data": {
      "text/html": [
       "<div>\n",
       "<style scoped>\n",
       "    .dataframe tbody tr th:only-of-type {\n",
       "        vertical-align: middle;\n",
       "    }\n",
       "\n",
       "    .dataframe tbody tr th {\n",
       "        vertical-align: top;\n",
       "    }\n",
       "\n",
       "    .dataframe thead th {\n",
       "        text-align: right;\n",
       "    }\n",
       "</style>\n",
       "<table border=\"1\" class=\"dataframe\">\n",
       "  <thead>\n",
       "    <tr style=\"text-align: right;\">\n",
       "      <th></th>\n",
       "      <th></th>\n",
       "      <th>Entry</th>\n",
       "      <th>Source</th>\n",
       "      <th>Positiv</th>\n",
       "      <th>Negativ</th>\n",
       "      <th>Pstv</th>\n",
       "      <th>Affil</th>\n",
       "      <th>Ngtv</th>\n",
       "      <th>Hostile</th>\n",
       "      <th>Strong</th>\n",
       "      <th>Power</th>\n",
       "      <th>...</th>\n",
       "      <th>PosAff</th>\n",
       "      <th>SureLw</th>\n",
       "      <th>If</th>\n",
       "      <th>NotLw</th>\n",
       "      <th>TimeSpc</th>\n",
       "      <th>FormLw</th>\n",
       "      <th>Othtags</th>\n",
       "      <th>Defined</th>\n",
       "      <th>split</th>\n",
       "      <th>polarity</th>\n",
       "    </tr>\n",
       "    <tr>\n",
       "      <th>term_str</th>\n",
       "      <th>term_var</th>\n",
       "      <th></th>\n",
       "      <th></th>\n",
       "      <th></th>\n",
       "      <th></th>\n",
       "      <th></th>\n",
       "      <th></th>\n",
       "      <th></th>\n",
       "      <th></th>\n",
       "      <th></th>\n",
       "      <th></th>\n",
       "      <th></th>\n",
       "      <th></th>\n",
       "      <th></th>\n",
       "      <th></th>\n",
       "      <th></th>\n",
       "      <th></th>\n",
       "      <th></th>\n",
       "      <th></th>\n",
       "      <th></th>\n",
       "      <th></th>\n",
       "      <th></th>\n",
       "    </tr>\n",
       "  </thead>\n",
       "  <tbody>\n",
       "    <tr>\n",
       "      <th>a</th>\n",
       "      <th>1</th>\n",
       "      <td>A</td>\n",
       "      <td>H4Lvd</td>\n",
       "      <td>0</td>\n",
       "      <td>0</td>\n",
       "      <td>0</td>\n",
       "      <td>0</td>\n",
       "      <td>0</td>\n",
       "      <td>0</td>\n",
       "      <td>0</td>\n",
       "      <td>0</td>\n",
       "      <td>...</td>\n",
       "      <td>0</td>\n",
       "      <td>0</td>\n",
       "      <td>0</td>\n",
       "      <td>0</td>\n",
       "      <td>0</td>\n",
       "      <td>0</td>\n",
       "      <td>DET ART</td>\n",
       "      <td>| article: Indefinite singular article--some o...</td>\n",
       "      <td>[A, 1]</td>\n",
       "      <td>0.0</td>\n",
       "    </tr>\n",
       "    <tr>\n",
       "      <th>abandon</th>\n",
       "      <th>1</th>\n",
       "      <td>ABANDON</td>\n",
       "      <td>H4Lvd</td>\n",
       "      <td>0</td>\n",
       "      <td>1</td>\n",
       "      <td>0</td>\n",
       "      <td>0</td>\n",
       "      <td>1</td>\n",
       "      <td>0</td>\n",
       "      <td>0</td>\n",
       "      <td>0</td>\n",
       "      <td>...</td>\n",
       "      <td>0</td>\n",
       "      <td>0</td>\n",
       "      <td>0</td>\n",
       "      <td>0</td>\n",
       "      <td>0</td>\n",
       "      <td>0</td>\n",
       "      <td>SUPV</td>\n",
       "      <td>|</td>\n",
       "      <td>[ABANDON, 1]</td>\n",
       "      <td>-1.0</td>\n",
       "    </tr>\n",
       "    <tr>\n",
       "      <th>abandonment</th>\n",
       "      <th>1</th>\n",
       "      <td>ABANDONMENT</td>\n",
       "      <td>H4</td>\n",
       "      <td>0</td>\n",
       "      <td>1</td>\n",
       "      <td>0</td>\n",
       "      <td>0</td>\n",
       "      <td>0</td>\n",
       "      <td>0</td>\n",
       "      <td>0</td>\n",
       "      <td>0</td>\n",
       "      <td>...</td>\n",
       "      <td>0</td>\n",
       "      <td>0</td>\n",
       "      <td>0</td>\n",
       "      <td>0</td>\n",
       "      <td>0</td>\n",
       "      <td>0</td>\n",
       "      <td>Noun</td>\n",
       "      <td>|</td>\n",
       "      <td>[ABANDONMENT, 1]</td>\n",
       "      <td>-1.0</td>\n",
       "    </tr>\n",
       "    <tr>\n",
       "      <th>abate</th>\n",
       "      <th>1</th>\n",
       "      <td>ABATE</td>\n",
       "      <td>H4Lvd</td>\n",
       "      <td>0</td>\n",
       "      <td>1</td>\n",
       "      <td>0</td>\n",
       "      <td>0</td>\n",
       "      <td>0</td>\n",
       "      <td>0</td>\n",
       "      <td>0</td>\n",
       "      <td>0</td>\n",
       "      <td>...</td>\n",
       "      <td>0</td>\n",
       "      <td>0</td>\n",
       "      <td>0</td>\n",
       "      <td>0</td>\n",
       "      <td>0</td>\n",
       "      <td>0</td>\n",
       "      <td>SUPV</td>\n",
       "      <td>|</td>\n",
       "      <td>[ABATE, 1]</td>\n",
       "      <td>-1.0</td>\n",
       "    </tr>\n",
       "    <tr>\n",
       "      <th>abatement</th>\n",
       "      <th>1</th>\n",
       "      <td>ABATEMENT</td>\n",
       "      <td>Lvd</td>\n",
       "      <td>0</td>\n",
       "      <td>0</td>\n",
       "      <td>0</td>\n",
       "      <td>0</td>\n",
       "      <td>0</td>\n",
       "      <td>0</td>\n",
       "      <td>0</td>\n",
       "      <td>0</td>\n",
       "      <td>...</td>\n",
       "      <td>0</td>\n",
       "      <td>0</td>\n",
       "      <td>0</td>\n",
       "      <td>0</td>\n",
       "      <td>0</td>\n",
       "      <td>0</td>\n",
       "      <td>Noun</td>\n",
       "      <td>NaN</td>\n",
       "      <td>[ABATEMENT, 1]</td>\n",
       "      <td>0.0</td>\n",
       "    </tr>\n",
       "  </tbody>\n",
       "</table>\n",
       "<p>5 rows × 188 columns</p>\n",
       "</div>"
      ],
      "text/plain": [
       "                            Entry Source  Positiv  Negativ  Pstv  Affil  Ngtv  \\\n",
       "term_str    term_var                                                            \n",
       "a           1                   A  H4Lvd        0        0     0      0     0   \n",
       "abandon     1             ABANDON  H4Lvd        0        1     0      0     1   \n",
       "abandonment 1         ABANDONMENT     H4        0        1     0      0     0   \n",
       "abate       1               ABATE  H4Lvd        0        1     0      0     0   \n",
       "abatement   1           ABATEMENT    Lvd        0        0     0      0     0   \n",
       "\n",
       "                      Hostile  Strong  Power    ...     PosAff  SureLw  If  \\\n",
       "term_str    term_var                            ...                          \n",
       "a           1               0       0      0    ...          0       0   0   \n",
       "abandon     1               0       0      0    ...          0       0   0   \n",
       "abandonment 1               0       0      0    ...          0       0   0   \n",
       "abate       1               0       0      0    ...          0       0   0   \n",
       "abatement   1               0       0      0    ...          0       0   0   \n",
       "\n",
       "                      NotLw  TimeSpc  FormLw  Othtags  \\\n",
       "term_str    term_var                                    \n",
       "a           1             0        0       0  DET ART   \n",
       "abandon     1             0        0       0     SUPV   \n",
       "abandonment 1             0        0       0     Noun   \n",
       "abate       1             0        0       0     SUPV   \n",
       "abatement   1             0        0       0     Noun   \n",
       "\n",
       "                                                                Defined  \\\n",
       "term_str    term_var                                                      \n",
       "a           1         | article: Indefinite singular article--some o...   \n",
       "abandon     1                                                         |   \n",
       "abandonment 1                                                         |   \n",
       "abate       1                                                         |   \n",
       "abatement   1                                                       NaN   \n",
       "\n",
       "                                 split  polarity  \n",
       "term_str    term_var                              \n",
       "a           1                   [A, 1]       0.0  \n",
       "abandon     1             [ABANDON, 1]      -1.0  \n",
       "abandonment 1         [ABANDONMENT, 1]      -1.0  \n",
       "abate       1               [ABATE, 1]      -1.0  \n",
       "abatement   1           [ABATEMENT, 1]       0.0  \n",
       "\n",
       "[5 rows x 188 columns]"
      ]
     },
     "execution_count": 36,
     "metadata": {},
     "output_type": "execute_result"
    }
   ],
   "source": [
    "df.head()"
   ]
  },
  {
   "cell_type": "markdown",
   "metadata": {},
   "source": [
    "## Convert column values to numbers"
   ]
  },
  {
   "cell_type": "code",
   "execution_count": 41,
   "metadata": {},
   "outputs": [
    {
     "name": "stdout",
     "output_type": "stream",
     "text": [
      "invalid type comparison --  This means you are re-running the script with values that have already been set.\n"
     ]
    }
   ],
   "source": [
    "try:\n",
    "    df.loc[df.Positiv == 'Positiv', 'polarity'] = 1\n",
    "    df.loc[df.Negativ == 'Negativ', 'polarity'] = -1\n",
    "    df['polarity'] = df['polarity'].fillna(0)\n",
    "except TypeError as e:\n",
    "    print(e, \"--  This means you are re-running the script with values that have already been set.\")"
   ]
  },
  {
   "cell_type": "code",
   "execution_count": 42,
   "metadata": {},
   "outputs": [
    {
     "data": {
      "text/plain": [
       "term_str      term_var\n",
       "immediate     1           0.0\n",
       "undergo       1           0.0\n",
       "conservative  1           0.0\n",
       "stuff         2           0.0\n",
       "good          2           0.0\n",
       "tense         1          -1.0\n",
       "clamorous     1          -1.0\n",
       "accelerate    1           0.0\n",
       "least         3           0.0\n",
       "rule          4           0.0\n",
       "Name: polarity, dtype: float64"
      ]
     },
     "execution_count": 42,
     "metadata": {},
     "output_type": "execute_result"
    }
   ],
   "source": [
    "df.polarity.sample(10)"
   ]
  },
  {
   "cell_type": "code",
   "execution_count": 43,
   "metadata": {},
   "outputs": [],
   "source": [
    "VALCOLS = df.columns[2:-4]"
   ]
  },
  {
   "cell_type": "code",
   "execution_count": 44,
   "metadata": {},
   "outputs": [],
   "source": [
    "for col in VALCOLS:\n",
    "    df[col] = df[col].fillna(0).astype('bool').astype('int')"
   ]
  },
  {
   "cell_type": "code",
   "execution_count": 62,
   "metadata": {},
   "outputs": [
    {
     "data": {
      "text/plain": [
       "term_var         \n",
       "1         Positiv    1\n",
       "5         Active     1\n",
       "2         AffOth     1\n",
       "1         AffTot     1\n",
       "          AffGain    1\n",
       "5         SocRel     1\n",
       "3         AffGain    1\n",
       "          AffTot     1\n",
       "1         SV         1\n",
       "5         Strong     1\n",
       "4         AffGain    1\n",
       "5         Affil      1\n",
       "4         Positiv    1\n",
       "          Pstv       1\n",
       "          Affil      1\n",
       "          Passive    1\n",
       "          Pleasur    1\n",
       "          EMOT       1\n",
       "2         Positiv    1\n",
       "          Pstv       1\n",
       "          Affil      1\n",
       "          Passive    1\n",
       "6         SocRel     1\n",
       "          Affil      1\n",
       "3         Positiv    1\n",
       "          Pstv       1\n",
       "          Affil      1\n",
       "          Passive    1\n",
       "          Pleasur    1\n",
       "          EMOT       1\n",
       "                    ..\n",
       "5         RcGain     0\n",
       "          RcEnds     0\n",
       "          Self       0\n",
       "          RcTot      0\n",
       "          RspGain    0\n",
       "          RspLoss    0\n",
       "          RspOth     0\n",
       "          RspTot     0\n",
       "          AffLoss    0\n",
       "          AffPt      0\n",
       "          PowPt      0\n",
       "          PowAuPt    0\n",
       "          PowCoop    0\n",
       "          PowCon     0\n",
       "          Our        0\n",
       "          You        0\n",
       "          Name       0\n",
       "          Yes        0\n",
       "          No         0\n",
       "          Negate     0\n",
       "          Intrj      0\n",
       "          DAV        0\n",
       "          SV         0\n",
       "          IPadj      0\n",
       "          IndAdj     0\n",
       "          PowGain    0\n",
       "          PowLoss    0\n",
       "          PowEnds    0\n",
       "          PowAren    0\n",
       "4         Abs@       0\n",
       "Length: 1274, dtype: int64"
      ]
     },
     "execution_count": 62,
     "metadata": {},
     "output_type": "execute_result"
    }
   ],
   "source": [
    "df.loc['love', VALCOLS].stack().sort_values(ascending=False)"
   ]
  },
  {
   "cell_type": "code",
   "execution_count": 47,
   "metadata": {},
   "outputs": [],
   "source": [
    "# # Handle terms with multiple entries\n",
    "# VAR_COUNTS = df.reset_index().groupby(['term_str']).term_var.count()\\\n",
    "#     .to_frame().rename(columns={'term_var':'n_vars'})\n",
    "# SINGLES = VAR_COUNTS == 1\n",
    "# SINGLES.head()\n",
    "# df.loc['a'].T\n",
    "# df.loc[SINGLES.n_vars.values]"
   ]
  },
  {
   "cell_type": "markdown",
   "metadata": {
    "toc-hr-collapsed": true
   },
   "source": [
    "## Take and combine only sentiment "
   ]
  },
  {
   "cell_type": "code",
   "execution_count": 48,
   "metadata": {},
   "outputs": [],
   "source": [
    "sents = df.query(\"Positiv > 0 | Negativ > 0\").copy()"
   ]
  },
  {
   "cell_type": "code",
   "execution_count": 54,
   "metadata": {},
   "outputs": [],
   "source": [
    "sents['sentiment'] =  sents.Positiv  - sents.Negativ"
   ]
  },
  {
   "cell_type": "code",
   "execution_count": 55,
   "metadata": {},
   "outputs": [
    {
     "data": {
      "text/plain": [
       "term_str       term_var\n",
       "fine           5           1\n",
       "accession      1           1\n",
       "augment        1           1\n",
       "controversial  1          -1\n",
       "exception      2          -1\n",
       "Name: sentiment, dtype: int64"
      ]
     },
     "execution_count": 55,
     "metadata": {},
     "output_type": "execute_result"
    }
   ],
   "source": [
    "sents['sentiment'].sample(5)"
   ]
  },
  {
   "cell_type": "markdown",
   "metadata": {},
   "source": [
    "### Take average of variants"
   ]
  },
  {
   "cell_type": "code",
   "execution_count": 58,
   "metadata": {},
   "outputs": [],
   "source": [
    "GI = sents.groupby('term_str').sentiment.mean()"
   ]
  },
  {
   "cell_type": "markdown",
   "metadata": {},
   "source": [
    "### Snap values to -1, 0, or 1"
   ]
  },
  {
   "cell_type": "code",
   "execution_count": 59,
   "metadata": {},
   "outputs": [],
   "source": [
    "GI = np.sign(GI).astype('int').to_frame()"
   ]
  },
  {
   "cell_type": "code",
   "execution_count": 60,
   "metadata": {},
   "outputs": [
    {
     "data": {
      "text/plain": [
       "(3626, 1)"
      ]
     },
     "execution_count": 60,
     "metadata": {},
     "output_type": "execute_result"
    }
   ],
   "source": [
    "GI.shape"
   ]
  },
  {
   "cell_type": "markdown",
   "metadata": {
    "toc-hr-collapsed": true
   },
   "source": [
    "# Save"
   ]
  },
  {
   "cell_type": "code",
   "execution_count": 29,
   "metadata": {},
   "outputs": [],
   "source": [
    "GI.to_csv('lexicons/gi.csv')"
   ]
  }
 ],
 "metadata": {
  "kernelspec": {
   "display_name": "Python 3",
   "language": "python",
   "name": "python3"
  },
  "language_info": {
   "codemirror_mode": {
    "name": "ipython",
    "version": 3
   },
   "file_extension": ".py",
   "mimetype": "text/x-python",
   "name": "python",
   "nbconvert_exporter": "python",
   "pygments_lexer": "ipython3",
   "version": "3.6.8"
  }
 },
 "nbformat": 4,
 "nbformat_minor": 2
}
