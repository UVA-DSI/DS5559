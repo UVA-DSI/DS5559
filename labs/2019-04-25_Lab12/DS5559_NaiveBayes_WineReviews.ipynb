{
 "cells": [
  {
   "cell_type": "markdown",
   "metadata": {
    "colab_type": "text",
    "id": "hMvHK6QDmPy9",
    "slideshow": {
     "slide_type": "slide"
    }
   },
   "source": [
    "# Synopsis\n",
    "\n",
    "We attempt a Naive Bayes classifier for the sentiment of a corpus of wine reviews. We use the score of the review as our sentiment value, assuming that a bad review will have negative sentiment and a good review will have positive sentiment."
   ]
  },
  {
   "cell_type": "markdown",
   "metadata": {
    "colab_type": "text",
    "id": "gEg4USFAmPzB",
    "slideshow": {
     "slide_type": "-"
    },
    "toc-hr-collapsed": true
   },
   "source": [
    "#  Configuration"
   ]
  },
  {
   "cell_type": "code",
   "execution_count": 1,
   "metadata": {
    "colab": {},
    "colab_type": "code",
    "id": "I2ZqwwztmPzD",
    "slideshow": {
     "slide_type": "slide"
    }
   },
   "outputs": [],
   "source": [
    "src_file = 'winereviews.csv'\n",
    "\n",
    "# Set Hyperparameters\n",
    "params = dict(\n",
    "    qntile_B = .1,\n",
    "    qntile_A = .9,\n",
    "    n_sets = 4,\n",
    "    smooth_alpha = 1,\n",
    "    binary_counts = True\n",
    ")"
   ]
  },
  {
   "cell_type": "markdown",
   "metadata": {
    "colab_type": "text",
    "id": "a1evEJDGmPzN",
    "toc-hr-collapsed": true
   },
   "source": [
    "# Libraries"
   ]
  },
  {
   "cell_type": "code",
   "execution_count": 2,
   "metadata": {
    "colab": {},
    "colab_type": "code",
    "id": "CSP6e43amPzP"
   },
   "outputs": [],
   "source": [
    "import pandas as pd\n",
    "from numpy.random import randint\n",
    "# import sys; sys.path.append(local_lib)\n",
    "# import textman.textman as tx\n",
    "from textman import create_tokens_and_vocab"
   ]
  },
  {
   "cell_type": "code",
   "execution_count": 3,
   "metadata": {
    "colab": {},
    "colab_type": "code",
    "id": "Ub_2Dwj0pUai"
   },
   "outputs": [],
   "source": [
    "# import pandas as pd\n",
    "# import nltk\n",
    "# from nltk.corpus import stopwords\n",
    "# from nltk.stem import PorterStemmer\n",
    "# import numpy as np\n",
    "# import sqlite3\n",
    "\n",
    "# def import_source(src_file, start_line=None, end_line=None, col_name='line', id_name='line_id', strip=True):\n",
    "#     print('src_file', src_file)\n",
    "#     df = pd.DataFrame({col_name:open(src_file,'r').readlines()})\n",
    "#     if not start_line:\n",
    "#         start_line = 0\n",
    "#     if not end_line:\n",
    "#         end_line = len(df.index)\n",
    "#     df = df.loc[start_line:end_line]\n",
    "#     df.index.name = id_name\n",
    "#     if strip:\n",
    "#         df[col_name] = df[col_name].str.strip()\n",
    "#     return df\n",
    " \n",
    "# def group_by_milestone(df, div_name, div_pat, src_idx, src_col, tmp_col='div_idx', id_suffix='_id'):\n",
    "#     df[div_name] = df[src_col].str.match(div_pat)\n",
    "#     df2 = df.loc[df[div_name], src_col].copy().reset_index(drop=True).to_frame()\\\n",
    "#         .rename(columns={src_col:div_name})\n",
    "#     df2.index.name = div_name + id_suffix\n",
    "#     df[tmp_col] = None\n",
    "#     df[tmp_col] = df[df[div_name]].apply(lambda x: x.index)\n",
    "#     df[tmp_col] = df[tmp_col].ffill()\n",
    "#     df[tmp_col] = df[tmp_col].astype('int')\n",
    "#     df2[div_name] = df.groupby(tmp_col)[src_col].apply(lambda x: '\\n'.join(x[:]))\\\n",
    "#         .to_frame().reset_index(drop=True)\n",
    "#     df2.index.name = div_name + id_suffix\n",
    "#     return df2\n",
    " \n",
    "# def split_by_delimitter(df, div_name=None, div_pat=None, src_col=None, join_pat='\\n', id_suffix='_id'):\n",
    "#     df2 = df[src_col].str.split(div_pat, expand=True).stack().to_frame()\\\n",
    "#         .rename(columns={0:div_name}).copy()\n",
    "#     df2.index.names = df.index.names + [div_name + id_suffix]\n",
    "#     df2[div_name] = df2[div_name].str.replace(join_pat, ' ')\n",
    "#     df2 = df2[~df2[div_name].str.match(r'^\\s*$')]\n",
    "#     return df2\n",
    " \n",
    "# def gather_tokens(df, level=0, col='token', glue=' ', collapse=False):\n",
    "#     idx = df.index.names[:level+1]\n",
    "#     df2 = df.groupby(idx)[col].apply(lambda x: glue.join(x))\n",
    "#     return df2\n",
    " \n",
    "# def normalize_tokens(df, token_col='token'):\n",
    "#     df['term_str'] = df[token_col].str.lower().str.strip()\n",
    "#     return df\n",
    " \n",
    "# def add_pos_to_tokens(tokens, idx=['chap_id','para_id','sent_id'], token_col='token'):\n",
    "#     df = tokens.groupby(idx).token.apply(lambda x: nltk.pos_tag(x.tolist()))\\\n",
    "#         .apply(pd.Series).stack()\\\n",
    "#         .to_frame().reset_index()\\\n",
    "#         .rename(columns={'level_{}'.format(len(idx)):'token_id', 0:'pos'})\\\n",
    "#         .set_index(idx + ['token_id'])\n",
    "#     tokens['pos'] = df.pos.apply(lambda x: x[1])\n",
    "#     return tokens\n",
    " \n",
    "# def create_vocab(df, col='term_str'):\n",
    "#     terms = df[col].value_counts()\\\n",
    "#         .to_frame().reset_index()\\\n",
    "#         .rename(columns={'index':'term',col:'n'})\\\n",
    "#         .sort_values('term').reset_index(drop=True)\n",
    "#     terms.index.name = 'term_id'\n",
    "#     terms['f'] = terms.n.div(terms.n.sum())\n",
    "#     return terms\n",
    " \n",
    "# def add_stems_to_vocab(vocab):\n",
    "#     ps = PorterStemmer()\n",
    "#     vocab['stem'] = vocab['term'].apply(lambda x: ps.stem(x))\n",
    "#     return vocab\n",
    " \n",
    "# def link_tokens_to_vocab(tokens, vocab, drop=False):\n",
    "#     tokens['term_id'] = tokens['term_str'].map(vocab.reset_index()\\\n",
    "#           .set_index('term').term_id)\n",
    "#     if drop:\n",
    "#         del(tokens['term_str'])\n",
    "#     return tokens\n",
    " \n",
    "# # Todo: Codify these assumptions in config\n",
    "# def identify_stopwords(vocab):\n",
    "#     sw = set(stopwords.words('english'))\n",
    "#     vocab['sw'] = vocab.apply(lambda x:\n",
    "#         x.term in sw\n",
    "#         or len(x.term) <= 2\n",
    "#         or not x.term.isalpha()\n",
    "#         or x.n < 3,\n",
    "#         axis=1)\n",
    "#     vocab['go'] = ~vocab.sw\n",
    "#     return vocab\n",
    " \n",
    "# def remove_stopwords(df, vocab, term_id_col='term_id'):\n",
    "#     df = df[df[term_id_col].isin(vocab[vocab.go].index.values)].copy()\n",
    "#     return df\n",
    " \n",
    "# def create_doc_table(tokens, index=['chap_id', 'para_id']):\n",
    "#     doc = tokens.groupby(index).term_id.count()\\\n",
    "#         .to_frame().rename(columns={'term_id':'n'})\n",
    "#     return doc\n",
    " \n",
    "# def create_bow(tokens, idx, index_name='doc_id'):\n",
    "#     col = idx[-1]\n",
    "#     bow = tokens.groupby(idx)[col].count()\\\n",
    "#         .to_frame().rename(columns={col:'n'})\n",
    "#     if index_name:\n",
    "#         bow.index.name = index_name\n",
    "#     return bow\n",
    " \n",
    "# def create_dtm(bow, fill_val=0):\n",
    "#     dtm = bow.unstack().fillna(fill_val)\n",
    "#     dtm.columns = dtm.columns.droplevel(0)\n",
    "#     return dtm\n",
    " \n",
    "# def compute_term_freq(dtm, vocab):\n",
    "#     dtm_tf = dtm.apply(lambda x: x / x.sum(), 1)\n",
    "#     vocab['tf_sum'] = dtm_tf.sum()\n",
    "#     return dtm, vocab\n",
    " \n",
    "# def compute_inv_doc_freq(dtm, vocab):\n",
    "#     N = len(dtm.index)\n",
    "#     dtm_idf = dtm.apply(lambda x: N / x[x > 0].count())\n",
    "#     vocab['idf'] = dtm_idf\n",
    "#     return dtm_idf, vocab\n",
    " \n",
    "# def compute_tfidf(dtm, vocab, doc, bow, sw=False):\n",
    "#     N = len(dtm.index)\n",
    "#     dtm_tfidf = dtm.apply(lambda row: row / row.sum(), 1)\\\n",
    "#         .apply(lambda col: col * np.log2(N/col[col > 0].count()))\n",
    "#     vocab['tfidf_sum'] = dtm_tfidf.sum()\n",
    "#     doc['tfidf_sum'] = dtm_tfidf.sum(1)\n",
    "#     bow['tfidf'] = dtm_tfidf.stack().to_frame().rename(columns={0:'tfidf'})\n",
    "#     return dtm_tfidf, vocab, doc, bow\n",
    " \n",
    "# def get_term_id(vocab, term):\n",
    "#     term_id = vocab[vocab.term==term].index[0]\n",
    "#     return term_id\n",
    " \n",
    "# def get_term(vocab, term_id):\n",
    "#     term = vocab.loc[term_id].term\n",
    "#     return term\n",
    " \n",
    "# def create_tokens_and_vocab(paras, idx=['chap_id','para_id','sent_id'], src_col='para', drop=False):\n",
    "#     cfg = dict(\n",
    "#         sent = dict(\n",
    "#             div_name = 'sent',\n",
    "#             div_pat = r'(?:[\":;.?!\\(\\)]|--)',\n",
    "#             src_col = src_col,\n",
    "#             join_pat = ' '\n",
    "#         ),\n",
    "#         token = dict(\n",
    "#            div_name = 'token',\n",
    "#            div_pat = r'\\W+',\n",
    "#            src_col = 'sent',\n",
    "#            join_pat = ' '\n",
    "#         )\n",
    "#     )\n",
    "#     sents = split_by_delimitter(paras, **cfg['sent'])\n",
    "#     tokens = split_by_delimitter(sents, **cfg['token'])\n",
    "#     tokens = normalize_tokens(tokens)\n",
    "# #    tokens = add_pos_to_tokens(tokens, idx=idx)\n",
    "#     vocab = create_vocab(tokens)\n",
    "#     vocab = add_stems_to_vocab(vocab)\n",
    "#     vocab = identify_stopwords(vocab)\n",
    "#     tokens = link_tokens_to_vocab(tokens, vocab, drop=drop)\n",
    "#     tokens = remove_stopwords(tokens, vocab)\n",
    "#     return tokens, vocab\n",
    " \n",
    "# def add_doc_len_features(df, str_col, prefix='doc_'):\n",
    "#     len = prefix + 'len'\n",
    "#     df[len] = df[str_col].str.len()\n",
    "#     df[prefix + 'z'] = (df[len] - df[len].mean()).div(df[len].str())\n",
    "#     df[prefix + 's'] = (df[len] / df[len].max()).multiply(100).round().astype('int')\n",
    "#     df[prefix + 'p'] = df[len] / df[len].sum()\n",
    "#     df[prefix + 'h'] = df[prefix+'p'].multiply(np.log2(df[prefix+'p'])) * -1\n",
    "#     return df\n",
    " \n",
    "# def get_pca(df, k=2):\n",
    "#     from sklearn.decomposition import PCA\n",
    "#     pca = PCA(k)\n",
    "#     X = pd.DataFrame(pca.fit_transform(df))\n",
    "#     X.index = df.index.tolist()\n",
    "#     return X\n",
    " \n",
    "# def put_to_db(db, df, table_name, index=True, if_exists='replace'):\n",
    "#     r = df.to_sql(table_name, db, index=index, if_exists=if_exists)\n",
    "#     return r\n",
    " \n",
    "# def get_from_db(db, table_name):\n",
    "#     df = pd.read_sql(\"SELECT * FROM {}\".format(table_name), db)\n",
    "#     return df\n",
    " \n",
    "# def get_table(table, db_file, fields='*', index_col=None):\n",
    "#     if type(fields) is list:\n",
    "#         fields = ','.join(fields)\n",
    "#     with sqlite3.connect(db_file) as db:\n",
    "#         return pd.read_sql(\"select {} from {}\".format(fields, table), db, index_col=index_col)\n",
    " \n",
    "# def get_sql(sql, db_file, params=None):\n",
    "#     with sqlite3.connect(db_file) as db:\n",
    "#         return pd.read_sql(sql, db, params)\n"
   ]
  },
  {
   "cell_type": "markdown",
   "metadata": {
    "colab_type": "text",
    "id": "6YBggC3Svo7v"
   },
   "source": [
    "# Pragmas"
   ]
  },
  {
   "cell_type": "code",
   "execution_count": 4,
   "metadata": {
    "colab": {},
    "colab_type": "code",
    "id": "XD-LpO_NvnXP"
   },
   "outputs": [],
   "source": [
    "%matplotlib inline"
   ]
  },
  {
   "cell_type": "code",
   "execution_count": 5,
   "metadata": {
    "colab": {
     "base_uri": "https://localhost:8080/",
     "height": 69
    },
    "colab_type": "code",
    "executionInfo": {
     "elapsed": 434,
     "status": "ok",
     "timestamp": 1555680953960,
     "user": {
      "displayName": "Rafael Alvarado",
      "photoUrl": "https://lh3.googleusercontent.com/-gvKWs7zR4JY/AAAAAAAAAAI/AAAAAAABqfk/Q8O12g6M_T4/s64/photo.jpg",
      "userId": "11010075019714369526"
     },
     "user_tz": 240
    },
    "id": "6Hnv3NIJpJ-W",
    "outputId": "0a77874c-17a3-46c4-b1e7-fbd6d78309e9"
   },
   "outputs": [],
   "source": [
    "# nltk.download('stopwords')"
   ]
  },
  {
   "cell_type": "markdown",
   "metadata": {
    "colab_type": "text",
    "id": "FljaX5k4mPzY",
    "toc-hr-collapsed": false
   },
   "source": [
    "# Process"
   ]
  },
  {
   "cell_type": "markdown",
   "metadata": {
    "colab_type": "text",
    "id": "gMy_1sACql2b",
    "toc-hr-collapsed": true
   },
   "source": [
    "## PREPROCESSING"
   ]
  },
  {
   "cell_type": "markdown",
   "metadata": {
    "colab_type": "text",
    "id": "aNESozusmPzb"
   },
   "source": [
    "### Import raw review data"
   ]
  },
  {
   "cell_type": "code",
   "execution_count": 6,
   "metadata": {
    "colab": {},
    "colab_type": "code",
    "id": "BWphHVGJmPze"
   },
   "outputs": [],
   "source": [
    "try:\n",
    "    docs = pd.read_csv('winereviews.csv', index_col='doc_id')\n",
    "except FileNotFoundError as e:\n",
    "    print(e)"
   ]
  },
  {
   "cell_type": "code",
   "execution_count": 7,
   "metadata": {
    "colab": {
     "base_uri": "https://localhost:8080/",
     "height": 229
    },
    "colab_type": "code",
    "executionInfo": {
     "elapsed": 501,
     "status": "ok",
     "timestamp": 1555680960331,
     "user": {
      "displayName": "Rafael Alvarado",
      "photoUrl": "https://lh3.googleusercontent.com/-gvKWs7zR4JY/AAAAAAAAAAI/AAAAAAABqfk/Q8O12g6M_T4/s64/photo.jpg",
      "userId": "11010075019714369526"
     },
     "user_tz": 240
    },
    "id": "shHfj-r7mPzn",
    "outputId": "1959a103-a997-47d9-dba2-9e2e658b079d"
   },
   "outputs": [
    {
     "data": {
      "text/html": [
       "<div>\n",
       "<style scoped>\n",
       "    .dataframe tbody tr th:only-of-type {\n",
       "        vertical-align: middle;\n",
       "    }\n",
       "\n",
       "    .dataframe tbody tr th {\n",
       "        vertical-align: top;\n",
       "    }\n",
       "\n",
       "    .dataframe thead th {\n",
       "        text-align: right;\n",
       "    }\n",
       "</style>\n",
       "<table border=\"1\" class=\"dataframe\">\n",
       "  <thead>\n",
       "    <tr style=\"text-align: right;\">\n",
       "      <th></th>\n",
       "      <th>doc_content</th>\n",
       "      <th>points</th>\n",
       "    </tr>\n",
       "    <tr>\n",
       "      <th>doc_id</th>\n",
       "      <th></th>\n",
       "      <th></th>\n",
       "    </tr>\n",
       "  </thead>\n",
       "  <tbody>\n",
       "    <tr>\n",
       "      <th>0</th>\n",
       "      <td>Aromas include tropical fruit, broom, brimston...</td>\n",
       "      <td>87</td>\n",
       "    </tr>\n",
       "    <tr>\n",
       "      <th>1</th>\n",
       "      <td>This is ripe and fruity, a wine that is smooth...</td>\n",
       "      <td>87</td>\n",
       "    </tr>\n",
       "    <tr>\n",
       "      <th>2</th>\n",
       "      <td>Tart and snappy, the flavors of lime flesh and...</td>\n",
       "      <td>87</td>\n",
       "    </tr>\n",
       "    <tr>\n",
       "      <th>3</th>\n",
       "      <td>Pineapple rind, lemon pith and orange blossom ...</td>\n",
       "      <td>87</td>\n",
       "    </tr>\n",
       "    <tr>\n",
       "      <th>4</th>\n",
       "      <td>Much like the regular bottling from 2012, this...</td>\n",
       "      <td>87</td>\n",
       "    </tr>\n",
       "  </tbody>\n",
       "</table>\n",
       "</div>"
      ],
      "text/plain": [
       "                                              doc_content  points\n",
       "doc_id                                                           \n",
       "0       Aromas include tropical fruit, broom, brimston...      87\n",
       "1       This is ripe and fruity, a wine that is smooth...      87\n",
       "2       Tart and snappy, the flavors of lime flesh and...      87\n",
       "3       Pineapple rind, lemon pith and orange blossom ...      87\n",
       "4       Much like the regular bottling from 2012, this...      87"
      ]
     },
     "execution_count": 7,
     "metadata": {},
     "output_type": "execute_result"
    }
   ],
   "source": [
    "docs.head()"
   ]
  },
  {
   "cell_type": "markdown",
   "metadata": {
    "colab_type": "text",
    "id": "mFkUEGQVmPzz"
   },
   "source": [
    "### Clip DOC table by quantile\n",
    "\n",
    "We only want reviews that are very good or very bad."
   ]
  },
  {
   "cell_type": "code",
   "execution_count": 8,
   "metadata": {
    "colab": {},
    "colab_type": "code",
    "id": "t12Rx04OmPz2"
   },
   "outputs": [],
   "source": [
    "bound_A = int(docs.points.quantile(params['qntile_A']))\n",
    "bound_B = int(docs.points.quantile(params['qntile_B']))\n",
    "docs = docs[(docs.points <= bound_B) | (docs.points >= bound_A)].copy()"
   ]
  },
  {
   "cell_type": "code",
   "execution_count": 9,
   "metadata": {
    "colab": {
     "base_uri": "https://localhost:8080/",
     "height": 51
    },
    "colab_type": "code",
    "executionInfo": {
     "elapsed": 364,
     "status": "ok",
     "timestamp": 1555680964251,
     "user": {
      "displayName": "Rafael Alvarado",
      "photoUrl": "https://lh3.googleusercontent.com/-gvKWs7zR4JY/AAAAAAAAAAI/AAAAAAABqfk/Q8O12g6M_T4/s64/photo.jpg",
      "userId": "11010075019714369526"
     },
     "user_tz": 240
    },
    "id": "n2iuL7JEmPz-",
    "outputId": "8b8cbce1-101d-48ea-e7c2-66249d13b206"
   },
   "outputs": [
    {
     "name": "stdout",
     "output_type": "stream",
     "text": [
      "A: 93 \n",
      "B: 84\n"
     ]
    }
   ],
   "source": [
    "print('A:', bound_A, '\\nB:', bound_B)"
   ]
  },
  {
   "cell_type": "markdown",
   "metadata": {
    "colab_type": "text",
    "id": "803fhIY6mP0J"
   },
   "source": [
    "### Convert DOC points feature to A and B labels"
   ]
  },
  {
   "cell_type": "code",
   "execution_count": 10,
   "metadata": {
    "colab": {},
    "colab_type": "code",
    "id": "ss1aG-HVmP0M"
   },
   "outputs": [],
   "source": [
    "docs.loc[docs.points >= bound_A, 'doc_label'] = 'A'\n",
    "docs.loc[docs.points <= bound_B, 'doc_label'] = 'B'"
   ]
  },
  {
   "cell_type": "markdown",
   "metadata": {
    "colab_type": "text",
    "id": "Mf_7UEXqmP0U",
    "toc-hr-collapsed": true
   },
   "source": [
    "## TRAINING"
   ]
  },
  {
   "cell_type": "markdown",
   "metadata": {
    "colab_type": "text",
    "id": "UiLCuWR3mP0W"
   },
   "source": [
    "### Split out training and test sets from DOC \n",
    "\n",
    "We randomly assign each doc a value from 0 to 9, and then select one group for testing, i.e. 10%."
   ]
  },
  {
   "cell_type": "code",
   "execution_count": 11,
   "metadata": {
    "colab": {},
    "colab_type": "code",
    "id": "Rh3_gYzmmP0Z"
   },
   "outputs": [],
   "source": [
    "docs['set'] = randint(0,params['n_sets'], len(docs.index))\n",
    "training = docs.query('set != 0').copy()\n",
    "testing = docs.query('set == 0').copy()"
   ]
  },
  {
   "cell_type": "code",
   "execution_count": 12,
   "metadata": {
    "colab": {
     "base_uri": "https://localhost:8080/",
     "height": 229
    },
    "colab_type": "code",
    "executionInfo": {
     "elapsed": 424,
     "status": "ok",
     "timestamp": 1555680971682,
     "user": {
      "displayName": "Rafael Alvarado",
      "photoUrl": "https://lh3.googleusercontent.com/-gvKWs7zR4JY/AAAAAAAAAAI/AAAAAAABqfk/Q8O12g6M_T4/s64/photo.jpg",
      "userId": "11010075019714369526"
     },
     "user_tz": 240
    },
    "id": "QW9BxU3DyjND",
    "outputId": "d746d791-1086-4fae-ef0e-b423bededad4"
   },
   "outputs": [
    {
     "data": {
      "text/html": [
       "<div>\n",
       "<style scoped>\n",
       "    .dataframe tbody tr th:only-of-type {\n",
       "        vertical-align: middle;\n",
       "    }\n",
       "\n",
       "    .dataframe tbody tr th {\n",
       "        vertical-align: top;\n",
       "    }\n",
       "\n",
       "    .dataframe thead th {\n",
       "        text-align: right;\n",
       "    }\n",
       "</style>\n",
       "<table border=\"1\" class=\"dataframe\">\n",
       "  <thead>\n",
       "    <tr style=\"text-align: right;\">\n",
       "      <th></th>\n",
       "      <th>doc_content</th>\n",
       "      <th>points</th>\n",
       "      <th>doc_label</th>\n",
       "      <th>set</th>\n",
       "    </tr>\n",
       "    <tr>\n",
       "      <th>doc_id</th>\n",
       "      <th></th>\n",
       "      <th></th>\n",
       "      <th></th>\n",
       "      <th></th>\n",
       "    </tr>\n",
       "  </thead>\n",
       "  <tbody>\n",
       "    <tr>\n",
       "      <th>13767</th>\n",
       "      <td>Blended with 12% Cabernet Sauvignon, this Merl...</td>\n",
       "      <td>83</td>\n",
       "      <td>B</td>\n",
       "      <td>0</td>\n",
       "    </tr>\n",
       "    <tr>\n",
       "      <th>4635</th>\n",
       "      <td>Named after an ancestor who pioneered using oa...</td>\n",
       "      <td>94</td>\n",
       "      <td>A</td>\n",
       "      <td>0</td>\n",
       "    </tr>\n",
       "    <tr>\n",
       "      <th>28637</th>\n",
       "      <td>The new release from this old (1972) vineyard ...</td>\n",
       "      <td>93</td>\n",
       "      <td>A</td>\n",
       "      <td>0</td>\n",
       "    </tr>\n",
       "    <tr>\n",
       "      <th>98452</th>\n",
       "      <td>Full of tropical fruit flavors, this is rounde...</td>\n",
       "      <td>94</td>\n",
       "      <td>A</td>\n",
       "      <td>0</td>\n",
       "    </tr>\n",
       "    <tr>\n",
       "      <th>106663</th>\n",
       "      <td>Jumpy, young aromas of wet dog, plum, cherry a...</td>\n",
       "      <td>83</td>\n",
       "      <td>B</td>\n",
       "      <td>0</td>\n",
       "    </tr>\n",
       "  </tbody>\n",
       "</table>\n",
       "</div>"
      ],
      "text/plain": [
       "                                              doc_content  points doc_label  \\\n",
       "doc_id                                                                        \n",
       "13767   Blended with 12% Cabernet Sauvignon, this Merl...      83         B   \n",
       "4635    Named after an ancestor who pioneered using oa...      94         A   \n",
       "28637   The new release from this old (1972) vineyard ...      93         A   \n",
       "98452   Full of tropical fruit flavors, this is rounde...      94         A   \n",
       "106663  Jumpy, young aromas of wet dog, plum, cherry a...      83         B   \n",
       "\n",
       "        set  \n",
       "doc_id       \n",
       "13767     0  \n",
       "4635      0  \n",
       "28637     0  \n",
       "98452     0  \n",
       "106663    0  "
      ]
     },
     "execution_count": 12,
     "metadata": {},
     "output_type": "execute_result"
    }
   ],
   "source": [
    "testing.sample(5)"
   ]
  },
  {
   "cell_type": "markdown",
   "metadata": {
    "colab_type": "text",
    "id": "MnVUEvF0mP0k"
   },
   "source": [
    "### Get TOKEN and VOCAB from training corpus\n",
    "\n",
    "We use our text parsing library tokenize. We don't need the vocab table since we won't be using its  stats."
   ]
  },
  {
   "cell_type": "code",
   "execution_count": 13,
   "metadata": {
    "colab": {},
    "colab_type": "code",
    "id": "zLhrkVUxmP0m"
   },
   "outputs": [],
   "source": [
    "tokens, _ = create_tokens_and_vocab(training, src_col='doc_content')"
   ]
  },
  {
   "cell_type": "code",
   "execution_count": 14,
   "metadata": {
    "colab": {
     "base_uri": "https://localhost:8080/",
     "height": 229
    },
    "colab_type": "code",
    "executionInfo": {
     "elapsed": 4046,
     "status": "ok",
     "timestamp": 1555680979379,
     "user": {
      "displayName": "Rafael Alvarado",
      "photoUrl": "https://lh3.googleusercontent.com/-gvKWs7zR4JY/AAAAAAAAAAI/AAAAAAABqfk/Q8O12g6M_T4/s64/photo.jpg",
      "userId": "11010075019714369526"
     },
     "user_tz": 240
    },
    "id": "ejQoRXrOmP0y",
    "outputId": "33e6ebde-7adb-4b9e-ac73-7266f0164aa4"
   },
   "outputs": [
    {
     "data": {
      "text/html": [
       "<div>\n",
       "<style scoped>\n",
       "    .dataframe tbody tr th:only-of-type {\n",
       "        vertical-align: middle;\n",
       "    }\n",
       "\n",
       "    .dataframe tbody tr th {\n",
       "        vertical-align: top;\n",
       "    }\n",
       "\n",
       "    .dataframe thead th {\n",
       "        text-align: right;\n",
       "    }\n",
       "</style>\n",
       "<table border=\"1\" class=\"dataframe\">\n",
       "  <thead>\n",
       "    <tr style=\"text-align: right;\">\n",
       "      <th></th>\n",
       "      <th></th>\n",
       "      <th></th>\n",
       "      <th>token</th>\n",
       "      <th>term_str</th>\n",
       "      <th>term_id</th>\n",
       "    </tr>\n",
       "    <tr>\n",
       "      <th>doc_id</th>\n",
       "      <th>sent_id</th>\n",
       "      <th>token_id</th>\n",
       "      <th></th>\n",
       "      <th></th>\n",
       "      <th></th>\n",
       "    </tr>\n",
       "  </thead>\n",
       "  <tbody>\n",
       "    <tr>\n",
       "      <th rowspan=\"5\" valign=\"top\">336</th>\n",
       "      <th rowspan=\"5\" valign=\"top\">0</th>\n",
       "      <th>0</th>\n",
       "      <td>Gritty</td>\n",
       "      <td>gritty</td>\n",
       "      <td>6460</td>\n",
       "    </tr>\n",
       "    <tr>\n",
       "      <th>1</th>\n",
       "      <td>heavily</td>\n",
       "      <td>heavily</td>\n",
       "      <td>6719</td>\n",
       "    </tr>\n",
       "    <tr>\n",
       "      <th>2</th>\n",
       "      <td>roasted</td>\n",
       "      <td>roasted</td>\n",
       "      <td>11781</td>\n",
       "    </tr>\n",
       "    <tr>\n",
       "      <th>3</th>\n",
       "      <td>aromas</td>\n",
       "      <td>aromas</td>\n",
       "      <td>1000</td>\n",
       "    </tr>\n",
       "    <tr>\n",
       "      <th>5</th>\n",
       "      <td>peanuts</td>\n",
       "      <td>peanuts</td>\n",
       "      <td>10144</td>\n",
       "    </tr>\n",
       "  </tbody>\n",
       "</table>\n",
       "</div>"
      ],
      "text/plain": [
       "                           token term_str  term_id\n",
       "doc_id sent_id token_id                           \n",
       "336    0       0          Gritty   gritty     6460\n",
       "               1         heavily  heavily     6719\n",
       "               2         roasted  roasted    11781\n",
       "               3          aromas   aromas     1000\n",
       "               5         peanuts  peanuts    10144"
      ]
     },
     "execution_count": 14,
     "metadata": {},
     "output_type": "execute_result"
    }
   ],
   "source": [
    "tokens.head()"
   ]
  },
  {
   "cell_type": "markdown",
   "metadata": {
    "colab_type": "text",
    "id": "jaRlnFzDmP1C"
   },
   "source": [
    "### Add sentiment labels to TOKENs\n",
    "\n",
    "We now transfer the doc label to the tokens, by **transitive inheritance**."
   ]
  },
  {
   "cell_type": "code",
   "execution_count": 15,
   "metadata": {
    "colab": {},
    "colab_type": "code",
    "id": "2ZCgKBGWmP1G"
   },
   "outputs": [],
   "source": [
    "tokens = tokens.join(training.doc_label, on='doc_id')"
   ]
  },
  {
   "cell_type": "code",
   "execution_count": 16,
   "metadata": {
    "colab": {
     "base_uri": "https://localhost:8080/",
     "height": 229
    },
    "colab_type": "code",
    "executionInfo": {
     "elapsed": 588,
     "status": "ok",
     "timestamp": 1555680986840,
     "user": {
      "displayName": "Rafael Alvarado",
      "photoUrl": "https://lh3.googleusercontent.com/-gvKWs7zR4JY/AAAAAAAAAAI/AAAAAAABqfk/Q8O12g6M_T4/s64/photo.jpg",
      "userId": "11010075019714369526"
     },
     "user_tz": 240
    },
    "id": "JMvXnimmzU0a",
    "outputId": "1df81ec2-7f6e-4c4e-c2b8-f42308e3f9b3"
   },
   "outputs": [
    {
     "data": {
      "text/html": [
       "<div>\n",
       "<style scoped>\n",
       "    .dataframe tbody tr th:only-of-type {\n",
       "        vertical-align: middle;\n",
       "    }\n",
       "\n",
       "    .dataframe tbody tr th {\n",
       "        vertical-align: top;\n",
       "    }\n",
       "\n",
       "    .dataframe thead th {\n",
       "        text-align: right;\n",
       "    }\n",
       "</style>\n",
       "<table border=\"1\" class=\"dataframe\">\n",
       "  <thead>\n",
       "    <tr style=\"text-align: right;\">\n",
       "      <th></th>\n",
       "      <th></th>\n",
       "      <th></th>\n",
       "      <th>token</th>\n",
       "      <th>term_str</th>\n",
       "      <th>term_id</th>\n",
       "      <th>doc_label</th>\n",
       "    </tr>\n",
       "    <tr>\n",
       "      <th>doc_id</th>\n",
       "      <th>sent_id</th>\n",
       "      <th>token_id</th>\n",
       "      <th></th>\n",
       "      <th></th>\n",
       "      <th></th>\n",
       "      <th></th>\n",
       "    </tr>\n",
       "  </thead>\n",
       "  <tbody>\n",
       "    <tr>\n",
       "      <th rowspan=\"5\" valign=\"top\">336</th>\n",
       "      <th rowspan=\"5\" valign=\"top\">0</th>\n",
       "      <th>0</th>\n",
       "      <td>Gritty</td>\n",
       "      <td>gritty</td>\n",
       "      <td>6460</td>\n",
       "      <td>B</td>\n",
       "    </tr>\n",
       "    <tr>\n",
       "      <th>1</th>\n",
       "      <td>heavily</td>\n",
       "      <td>heavily</td>\n",
       "      <td>6719</td>\n",
       "      <td>B</td>\n",
       "    </tr>\n",
       "    <tr>\n",
       "      <th>2</th>\n",
       "      <td>roasted</td>\n",
       "      <td>roasted</td>\n",
       "      <td>11781</td>\n",
       "      <td>B</td>\n",
       "    </tr>\n",
       "    <tr>\n",
       "      <th>3</th>\n",
       "      <td>aromas</td>\n",
       "      <td>aromas</td>\n",
       "      <td>1000</td>\n",
       "      <td>B</td>\n",
       "    </tr>\n",
       "    <tr>\n",
       "      <th>5</th>\n",
       "      <td>peanuts</td>\n",
       "      <td>peanuts</td>\n",
       "      <td>10144</td>\n",
       "      <td>B</td>\n",
       "    </tr>\n",
       "  </tbody>\n",
       "</table>\n",
       "</div>"
      ],
      "text/plain": [
       "                           token term_str  term_id doc_label\n",
       "doc_id sent_id token_id                                     \n",
       "336    0       0          Gritty   gritty     6460         B\n",
       "               1         heavily  heavily     6719         B\n",
       "               2         roasted  roasted    11781         B\n",
       "               3          aromas   aromas     1000         B\n",
       "               5         peanuts  peanuts    10144         B"
      ]
     },
     "execution_count": 16,
     "metadata": {},
     "output_type": "execute_result"
    }
   ],
   "source": [
    "tokens.head()"
   ]
  },
  {
   "cell_type": "markdown",
   "metadata": {
    "colab_type": "text",
    "id": "bxySgWLxmP1Q"
   },
   "source": [
    "### Create VOCAB from TOKEN"
   ]
  },
  {
   "cell_type": "code",
   "execution_count": 17,
   "metadata": {},
   "outputs": [],
   "source": [
    "vocab = tokens.groupby('term_id').term_str.value_counts()\\\n",
    "    .to_frame().rename(columns={'term_str':'n'})\n",
    "vocab = vocab.reset_index().set_index('term_id')\n",
    "vocab['f'] = vocab.n / vocab.n.sum()"
   ]
  },
  {
   "cell_type": "code",
   "execution_count": 18,
   "metadata": {
    "colab": {
     "base_uri": "https://localhost:8080/",
     "height": 229
    },
    "colab_type": "code",
    "executionInfo": {
     "elapsed": 393,
     "status": "ok",
     "timestamp": 1555680992982,
     "user": {
      "displayName": "Rafael Alvarado",
      "photoUrl": "https://lh3.googleusercontent.com/-gvKWs7zR4JY/AAAAAAAAAAI/AAAAAAABqfk/Q8O12g6M_T4/s64/photo.jpg",
      "userId": "11010075019714369526"
     },
     "user_tz": 240
    },
    "id": "4QvE76htmP1b",
    "outputId": "de77dc9f-f3b8-465e-80ac-e24416e81988"
   },
   "outputs": [
    {
     "data": {
      "text/html": [
       "<div>\n",
       "<style scoped>\n",
       "    .dataframe tbody tr th:only-of-type {\n",
       "        vertical-align: middle;\n",
       "    }\n",
       "\n",
       "    .dataframe tbody tr th {\n",
       "        vertical-align: top;\n",
       "    }\n",
       "\n",
       "    .dataframe thead th {\n",
       "        text-align: right;\n",
       "    }\n",
       "</style>\n",
       "<table border=\"1\" class=\"dataframe\">\n",
       "  <thead>\n",
       "    <tr style=\"text-align: right;\">\n",
       "      <th></th>\n",
       "      <th>term_str</th>\n",
       "      <th>n</th>\n",
       "      <th>f</th>\n",
       "    </tr>\n",
       "    <tr>\n",
       "      <th>term_id</th>\n",
       "      <th></th>\n",
       "      <th></th>\n",
       "      <th></th>\n",
       "    </tr>\n",
       "  </thead>\n",
       "  <tbody>\n",
       "    <tr>\n",
       "      <th>15640</th>\n",
       "      <td>wine</td>\n",
       "      <td>11930</td>\n",
       "      <td>0.026356</td>\n",
       "    </tr>\n",
       "    <tr>\n",
       "      <th>5585</th>\n",
       "      <td>flavors</td>\n",
       "      <td>9008</td>\n",
       "      <td>0.019901</td>\n",
       "    </tr>\n",
       "    <tr>\n",
       "      <th>5923</th>\n",
       "      <td>fruit</td>\n",
       "      <td>6537</td>\n",
       "      <td>0.014442</td>\n",
       "    </tr>\n",
       "    <tr>\n",
       "      <th>9969</th>\n",
       "      <td>palate</td>\n",
       "      <td>5076</td>\n",
       "      <td>0.011214</td>\n",
       "    </tr>\n",
       "    <tr>\n",
       "      <th>1000</th>\n",
       "      <td>aromas</td>\n",
       "      <td>4827</td>\n",
       "      <td>0.010664</td>\n",
       "    </tr>\n",
       "  </tbody>\n",
       "</table>\n",
       "</div>"
      ],
      "text/plain": [
       "        term_str      n         f\n",
       "term_id                          \n",
       "15640       wine  11930  0.026356\n",
       "5585     flavors   9008  0.019901\n",
       "5923       fruit   6537  0.014442\n",
       "9969      palate   5076  0.011214\n",
       "1000      aromas   4827  0.010664"
      ]
     },
     "execution_count": 18,
     "metadata": {},
     "output_type": "execute_result"
    }
   ],
   "source": [
    "vocab.sort_values('n', ascending=False).head()"
   ]
  },
  {
   "cell_type": "markdown",
   "metadata": {
    "colab_type": "text",
    "id": "s2uLE8-gmP1o"
   },
   "source": [
    "### Adjust TOKENS table"
   ]
  },
  {
   "cell_type": "code",
   "execution_count": 19,
   "metadata": {
    "colab": {},
    "colab_type": "code",
    "id": "6zJbmSgRmP1r"
   },
   "outputs": [],
   "source": [
    "tokens = tokens.reset_index()[['doc_label', 'doc_id', 'term_id']]"
   ]
  },
  {
   "cell_type": "code",
   "execution_count": 20,
   "metadata": {
    "colab": {
     "base_uri": "https://localhost:8080/",
     "height": 199
    },
    "colab_type": "code",
    "executionInfo": {
     "elapsed": 310,
     "status": "ok",
     "timestamp": 1555680998084,
     "user": {
      "displayName": "Rafael Alvarado",
      "photoUrl": "https://lh3.googleusercontent.com/-gvKWs7zR4JY/AAAAAAAAAAI/AAAAAAABqfk/Q8O12g6M_T4/s64/photo.jpg",
      "userId": "11010075019714369526"
     },
     "user_tz": 240
    },
    "id": "PdBU_5YTmP2A",
    "outputId": "deb72e87-2378-428e-9cb1-1ee63a0551b4"
   },
   "outputs": [
    {
     "data": {
      "text/html": [
       "<div>\n",
       "<style scoped>\n",
       "    .dataframe tbody tr th:only-of-type {\n",
       "        vertical-align: middle;\n",
       "    }\n",
       "\n",
       "    .dataframe tbody tr th {\n",
       "        vertical-align: top;\n",
       "    }\n",
       "\n",
       "    .dataframe thead th {\n",
       "        text-align: right;\n",
       "    }\n",
       "</style>\n",
       "<table border=\"1\" class=\"dataframe\">\n",
       "  <thead>\n",
       "    <tr style=\"text-align: right;\">\n",
       "      <th></th>\n",
       "      <th>doc_label</th>\n",
       "      <th>doc_id</th>\n",
       "      <th>term_id</th>\n",
       "    </tr>\n",
       "  </thead>\n",
       "  <tbody>\n",
       "    <tr>\n",
       "      <th>0</th>\n",
       "      <td>B</td>\n",
       "      <td>336</td>\n",
       "      <td>6460</td>\n",
       "    </tr>\n",
       "    <tr>\n",
       "      <th>1</th>\n",
       "      <td>B</td>\n",
       "      <td>336</td>\n",
       "      <td>6719</td>\n",
       "    </tr>\n",
       "    <tr>\n",
       "      <th>2</th>\n",
       "      <td>B</td>\n",
       "      <td>336</td>\n",
       "      <td>11781</td>\n",
       "    </tr>\n",
       "    <tr>\n",
       "      <th>3</th>\n",
       "      <td>B</td>\n",
       "      <td>336</td>\n",
       "      <td>1000</td>\n",
       "    </tr>\n",
       "    <tr>\n",
       "      <th>4</th>\n",
       "      <td>B</td>\n",
       "      <td>336</td>\n",
       "      <td>10144</td>\n",
       "    </tr>\n",
       "  </tbody>\n",
       "</table>\n",
       "</div>"
      ],
      "text/plain": [
       "  doc_label  doc_id  term_id\n",
       "0         B     336     6460\n",
       "1         B     336     6719\n",
       "2         B     336    11781\n",
       "3         B     336     1000\n",
       "4         B     336    10144"
      ]
     },
     "execution_count": 20,
     "metadata": {},
     "output_type": "execute_result"
    }
   ],
   "source": [
    "tokens.head(5)"
   ]
  },
  {
   "cell_type": "markdown",
   "metadata": {
    "colab_type": "text",
    "id": "UdNSC4-TmP2U"
   },
   "source": [
    "### Compute Priors\n",
    "\n",
    "$$\n",
    "\\hat{P}(c) = \\dfrac{N_{c}}{N_{d}}\n",
    "$$\n",
    "\n",
    "We compute the probability of each label in the corpus."
   ]
  },
  {
   "cell_type": "code",
   "execution_count": 21,
   "metadata": {},
   "outputs": [],
   "source": [
    "priors = training['doc_label'].value_counts() / training.shape[0]"
   ]
  },
  {
   "cell_type": "code",
   "execution_count": 22,
   "metadata": {
    "colab": {
     "base_uri": "https://localhost:8080/",
     "height": 69
    },
    "colab_type": "code",
    "executionInfo": {
     "elapsed": 510,
     "status": "ok",
     "timestamp": 1555681717327,
     "user": {
      "displayName": "Rafael Alvarado",
      "photoUrl": "https://lh3.googleusercontent.com/-gvKWs7zR4JY/AAAAAAAAAAI/AAAAAAABqfk/Q8O12g6M_T4/s64/photo.jpg",
      "userId": "11010075019714369526"
     },
     "user_tz": 240
    },
    "id": "dvmVoaSK0HvJ",
    "outputId": "62a78917-2f20-487d-e3a1-e966b0e3f5a0"
   },
   "outputs": [
    {
     "data": {
      "text/plain": [
       "A    0.50422\n",
       "B    0.49578\n",
       "Name: doc_label, dtype: float64"
      ]
     },
     "execution_count": 22,
     "metadata": {},
     "output_type": "execute_result"
    }
   ],
   "source": [
    "priors"
   ]
  },
  {
   "cell_type": "markdown",
   "metadata": {
    "colab_type": "text",
    "id": "Jfc0geYMmP2f"
   },
   "source": [
    "### Compute Likelihoods \n",
    "\n",
    "$$\n",
    "\\hat{P}(w_i|c) = \\dfrac{count(w_i,c)}{\\sum_{w \\in V} count(w,c)}\n",
    "$$\n",
    "\n",
    "$$\n",
    "\\hat{P}(w_i|c) = \\dfrac{count(w_i,c)+1}{\\sum_{w \\in V} (count(w,c)+1)} = \\dfrac{count(w_i,c)+1}{(\\sum_{w \\in V} count(w,c))+|V|} \n",
    "$$\n",
    "\n",
    "\n",
    "\n",
    "Now we compute the probability of a token given the label. This will in effect product two language models, one for each label. Key idea = **the likelihoods are language models** (see Pearl for interpretation of likelihoods)."
   ]
  },
  {
   "cell_type": "code",
   "execution_count": 23,
   "metadata": {
    "colab": {},
    "colab_type": "code",
    "id": "u7HsA_IymP2h"
   },
   "outputs": [],
   "source": [
    "likelihoods = tokens.groupby(['term_id','doc_label']).count().unstack().fillna(0)\n",
    "likelihoods.columns = likelihoods.columns.droplevel(0)\n",
    "likelihoods = likelihoods + 1\n",
    "likelihoods = likelihoods / likelihoods.sum()"
   ]
  },
  {
   "cell_type": "code",
   "execution_count": 24,
   "metadata": {
    "colab": {},
    "colab_type": "code",
    "id": "u7HsA_IymP2h"
   },
   "outputs": [
    {
     "data": {
      "text/html": [
       "<div>\n",
       "<style scoped>\n",
       "    .dataframe tbody tr th:only-of-type {\n",
       "        vertical-align: middle;\n",
       "    }\n",
       "\n",
       "    .dataframe tbody tr th {\n",
       "        vertical-align: top;\n",
       "    }\n",
       "\n",
       "    .dataframe thead th {\n",
       "        text-align: right;\n",
       "    }\n",
       "</style>\n",
       "<table border=\"1\" class=\"dataframe\">\n",
       "  <thead>\n",
       "    <tr style=\"text-align: right;\">\n",
       "      <th>doc_label</th>\n",
       "      <th>A</th>\n",
       "      <th>B</th>\n",
       "    </tr>\n",
       "    <tr>\n",
       "      <th>term_id</th>\n",
       "      <th></th>\n",
       "      <th></th>\n",
       "    </tr>\n",
       "  </thead>\n",
       "  <tbody>\n",
       "    <tr>\n",
       "      <th>353</th>\n",
       "      <td>0.000014</td>\n",
       "      <td>0.000006</td>\n",
       "    </tr>\n",
       "    <tr>\n",
       "      <th>356</th>\n",
       "      <td>0.000017</td>\n",
       "      <td>0.000006</td>\n",
       "    </tr>\n",
       "    <tr>\n",
       "      <th>359</th>\n",
       "      <td>0.000014</td>\n",
       "      <td>0.000006</td>\n",
       "    </tr>\n",
       "    <tr>\n",
       "      <th>360</th>\n",
       "      <td>0.000003</td>\n",
       "      <td>0.000028</td>\n",
       "    </tr>\n",
       "    <tr>\n",
       "      <th>362</th>\n",
       "      <td>0.000017</td>\n",
       "      <td>0.000006</td>\n",
       "    </tr>\n",
       "  </tbody>\n",
       "</table>\n",
       "</div>"
      ],
      "text/plain": [
       "doc_label         A         B\n",
       "term_id                      \n",
       "353        0.000014  0.000006\n",
       "356        0.000017  0.000006\n",
       "359        0.000014  0.000006\n",
       "360        0.000003  0.000028\n",
       "362        0.000017  0.000006"
      ]
     },
     "execution_count": 24,
     "metadata": {},
     "output_type": "execute_result"
    }
   ],
   "source": [
    "likelihoods.head()"
   ]
  },
  {
   "cell_type": "markdown",
   "metadata": {
    "colab_type": "text",
    "id": "0_PnQ1D226c9"
   },
   "source": [
    "### Associate classes with terms"
   ]
  },
  {
   "cell_type": "code",
   "execution_count": 25,
   "metadata": {
    "colab": {},
    "colab_type": "code",
    "id": "ofbr5cZJ09gZ"
   },
   "outputs": [],
   "source": [
    "likelihoods['term_str'] = vocab['term_str']\n",
    "likelihoods['class'] = likelihoods[['A','B']].idxmax(1)"
   ]
  },
  {
   "cell_type": "code",
   "execution_count": 26,
   "metadata": {
    "colab": {},
    "colab_type": "code",
    "id": "ofbr5cZJ09gZ"
   },
   "outputs": [
    {
     "data": {
      "text/html": [
       "<div>\n",
       "<style scoped>\n",
       "    .dataframe tbody tr th:only-of-type {\n",
       "        vertical-align: middle;\n",
       "    }\n",
       "\n",
       "    .dataframe tbody tr th {\n",
       "        vertical-align: top;\n",
       "    }\n",
       "\n",
       "    .dataframe thead th {\n",
       "        text-align: right;\n",
       "    }\n",
       "</style>\n",
       "<table border=\"1\" class=\"dataframe\">\n",
       "  <thead>\n",
       "    <tr style=\"text-align: right;\">\n",
       "      <th>doc_label</th>\n",
       "      <th>A</th>\n",
       "      <th>B</th>\n",
       "      <th>term_str</th>\n",
       "      <th>class</th>\n",
       "    </tr>\n",
       "    <tr>\n",
       "      <th>term_id</th>\n",
       "      <th></th>\n",
       "      <th></th>\n",
       "      <th></th>\n",
       "      <th></th>\n",
       "    </tr>\n",
       "  </thead>\n",
       "  <tbody>\n",
       "    <tr>\n",
       "      <th>353</th>\n",
       "      <td>0.000014</td>\n",
       "      <td>0.000006</td>\n",
       "      <td>aaron</td>\n",
       "      <td>A</td>\n",
       "    </tr>\n",
       "    <tr>\n",
       "      <th>356</th>\n",
       "      <td>0.000017</td>\n",
       "      <td>0.000006</td>\n",
       "      <td>abbey</td>\n",
       "      <td>A</td>\n",
       "    </tr>\n",
       "    <tr>\n",
       "      <th>359</th>\n",
       "      <td>0.000014</td>\n",
       "      <td>0.000006</td>\n",
       "      <td>abbott</td>\n",
       "      <td>A</td>\n",
       "    </tr>\n",
       "    <tr>\n",
       "      <th>360</th>\n",
       "      <td>0.000003</td>\n",
       "      <td>0.000028</td>\n",
       "      <td>abbreviated</td>\n",
       "      <td>B</td>\n",
       "    </tr>\n",
       "    <tr>\n",
       "      <th>362</th>\n",
       "      <td>0.000017</td>\n",
       "      <td>0.000006</td>\n",
       "      <td>abeja</td>\n",
       "      <td>A</td>\n",
       "    </tr>\n",
       "  </tbody>\n",
       "</table>\n",
       "</div>"
      ],
      "text/plain": [
       "doc_label         A         B     term_str class\n",
       "term_id                                         \n",
       "353        0.000014  0.000006        aaron     A\n",
       "356        0.000017  0.000006        abbey     A\n",
       "359        0.000014  0.000006       abbott     A\n",
       "360        0.000003  0.000028  abbreviated     B\n",
       "362        0.000017  0.000006        abeja     A"
      ]
     },
     "execution_count": 26,
     "metadata": {},
     "output_type": "execute_result"
    }
   ],
   "source": [
    "likelihoods.head()"
   ]
  },
  {
   "cell_type": "code",
   "execution_count": 27,
   "metadata": {
    "colab": {
     "base_uri": "https://localhost:8080/",
     "height": 69
    },
    "colab_type": "code",
    "executionInfo": {
     "elapsed": 585,
     "status": "ok",
     "timestamp": 1555682350415,
     "user": {
      "displayName": "Rafael Alvarado",
      "photoUrl": "https://lh3.googleusercontent.com/-gvKWs7zR4JY/AAAAAAAAAAI/AAAAAAABqfk/Q8O12g6M_T4/s64/photo.jpg",
      "userId": "11010075019714369526"
     },
     "user_tz": 240
    },
    "id": "FhxlaFh41t14",
    "outputId": "dc559cc1-68b2-44ec-8d88-39eb821243c9"
   },
   "outputs": [
    {
     "data": {
      "text/plain": [
       "A    4206\n",
       "B    3097\n",
       "Name: class, dtype: int64"
      ]
     },
     "execution_count": 27,
     "metadata": {},
     "output_type": "execute_result"
    }
   ],
   "source": [
    "likelihoods['class'].value_counts()"
   ]
  },
  {
   "cell_type": "markdown",
   "metadata": {
    "colab_type": "text",
    "id": "erB0RD9G7TMv"
   },
   "source": [
    "### Aside: Create Sentiment Lexicon"
   ]
  },
  {
   "cell_type": "code",
   "execution_count": 28,
   "metadata": {
    "colab": {},
    "colab_type": "code",
    "id": "Hh3gYrVZ1Cas"
   },
   "outputs": [],
   "source": [
    "sentilex = (np.sign(likelihoods['A'] - likelihoods['B'])).to_frame().rename(columns={0:'polarity'})\n",
    "sentilex['valence'] = (likelihoods['A'] - likelihoods['B']) * 1000\n",
    "sentilex['term_str'] = vocab.term_str\n",
    "sentilex = sentilex.set_index('term_str')"
   ]
  },
  {
   "cell_type": "code",
   "execution_count": 29,
   "metadata": {
    "colab": {},
    "colab_type": "code",
    "id": "Hh3gYrVZ1Cas"
   },
   "outputs": [
    {
     "data": {
      "text/plain": [
       "<matplotlib.axes._subplots.AxesSubplot at 0x1a36c85eb8>"
      ]
     },
     "execution_count": 29,
     "metadata": {},
     "output_type": "execute_result"
    },
    {
     "data": {
      "image/png": "[encoded data removed]",
      "text/plain": [
       "<Figure size 432x288 with 1 Axes>"
      ]
     },
     "metadata": {
      "needs_background": "light"
     },
     "output_type": "display_data"
    }
   ],
   "source": [
    "sentilex.polarity.value_counts().plot(kind='bar', rot=45)"
   ]
  },
  {
   "cell_type": "code",
   "execution_count": 30,
   "metadata": {
    "colab": {
     "base_uri": "https://localhost:8080/",
     "height": 381
    },
    "colab_type": "code",
    "executionInfo": {
     "elapsed": 453,
     "status": "ok",
     "timestamp": 1555682843465,
     "user": {
      "displayName": "Rafael Alvarado",
      "photoUrl": "https://lh3.googleusercontent.com/-gvKWs7zR4JY/AAAAAAAAAAI/AAAAAAABqfk/Q8O12g6M_T4/s64/photo.jpg",
      "userId": "11010075019714369526"
     },
     "user_tz": 240
    },
    "id": "DbsUOqAH5XVT",
    "outputId": "242afb34-a02a-413c-a52b-ddaa5f5509e5"
   },
   "outputs": [
    {
     "data": {
      "text/html": [
       "<div>\n",
       "<style scoped>\n",
       "    .dataframe tbody tr th:only-of-type {\n",
       "        vertical-align: middle;\n",
       "    }\n",
       "\n",
       "    .dataframe tbody tr th {\n",
       "        vertical-align: top;\n",
       "    }\n",
       "\n",
       "    .dataframe thead th {\n",
       "        text-align: right;\n",
       "    }\n",
       "</style>\n",
       "<table border=\"1\" class=\"dataframe\">\n",
       "  <thead>\n",
       "    <tr style=\"text-align: right;\">\n",
       "      <th></th>\n",
       "      <th>polarity</th>\n",
       "      <th>valence</th>\n",
       "    </tr>\n",
       "    <tr>\n",
       "      <th>term_str</th>\n",
       "      <th></th>\n",
       "      <th></th>\n",
       "    </tr>\n",
       "  </thead>\n",
       "  <tbody>\n",
       "    <tr>\n",
       "      <th>black</th>\n",
       "      <td>1.0</td>\n",
       "      <td>7.763166</td>\n",
       "    </tr>\n",
       "    <tr>\n",
       "      <th>rich</th>\n",
       "      <td>1.0</td>\n",
       "      <td>5.850741</td>\n",
       "    </tr>\n",
       "    <tr>\n",
       "      <th>years</th>\n",
       "      <td>1.0</td>\n",
       "      <td>4.509384</td>\n",
       "    </tr>\n",
       "    <tr>\n",
       "      <th>drink</th>\n",
       "      <td>1.0</td>\n",
       "      <td>4.449280</td>\n",
       "    </tr>\n",
       "    <tr>\n",
       "      <th>tannins</th>\n",
       "      <td>1.0</td>\n",
       "      <td>4.341058</td>\n",
       "    </tr>\n",
       "    <tr>\n",
       "      <th>ripe</th>\n",
       "      <td>1.0</td>\n",
       "      <td>4.245674</td>\n",
       "    </tr>\n",
       "    <tr>\n",
       "      <th>dark</th>\n",
       "      <td>1.0</td>\n",
       "      <td>3.956006</td>\n",
       "    </tr>\n",
       "    <tr>\n",
       "      <th>vineyard</th>\n",
       "      <td>1.0</td>\n",
       "      <td>3.607507</td>\n",
       "    </tr>\n",
       "    <tr>\n",
       "      <th>concentrated</th>\n",
       "      <td>1.0</td>\n",
       "      <td>3.523755</td>\n",
       "    </tr>\n",
       "    <tr>\n",
       "      <th>long</th>\n",
       "      <td>1.0</td>\n",
       "      <td>3.197442</td>\n",
       "    </tr>\n",
       "  </tbody>\n",
       "</table>\n",
       "</div>"
      ],
      "text/plain": [
       "              polarity   valence\n",
       "term_str                        \n",
       "black              1.0  7.763166\n",
       "rich               1.0  5.850741\n",
       "years              1.0  4.509384\n",
       "drink              1.0  4.449280\n",
       "tannins            1.0  4.341058\n",
       "ripe               1.0  4.245674\n",
       "dark               1.0  3.956006\n",
       "vineyard           1.0  3.607507\n",
       "concentrated       1.0  3.523755\n",
       "long               1.0  3.197442"
      ]
     },
     "execution_count": 30,
     "metadata": {},
     "output_type": "execute_result"
    }
   ],
   "source": [
    "sentilex.sort_values('valence', ascending=False).head(10)"
   ]
  },
  {
   "cell_type": "code",
   "execution_count": 31,
   "metadata": {
    "colab": {
     "base_uri": "https://localhost:8080/",
     "height": 381
    },
    "colab_type": "code",
    "executionInfo": {
     "elapsed": 403,
     "status": "ok",
     "timestamp": 1555682838113,
     "user": {
      "displayName": "Rafael Alvarado",
      "photoUrl": "https://lh3.googleusercontent.com/-gvKWs7zR4JY/AAAAAAAAAAI/AAAAAAABqfk/Q8O12g6M_T4/s64/photo.jpg",
      "userId": "11010075019714369526"
     },
     "user_tz": 240
    },
    "id": "y0qZIfrD7BYu",
    "outputId": "183f9da6-2970-40dc-f920-992c91998882"
   },
   "outputs": [
    {
     "data": {
      "text/html": [
       "<div>\n",
       "<style scoped>\n",
       "    .dataframe tbody tr th:only-of-type {\n",
       "        vertical-align: middle;\n",
       "    }\n",
       "\n",
       "    .dataframe tbody tr th {\n",
       "        vertical-align: top;\n",
       "    }\n",
       "\n",
       "    .dataframe thead th {\n",
       "        text-align: right;\n",
       "    }\n",
       "</style>\n",
       "<table border=\"1\" class=\"dataframe\">\n",
       "  <thead>\n",
       "    <tr style=\"text-align: right;\">\n",
       "      <th></th>\n",
       "      <th>polarity</th>\n",
       "      <th>valence</th>\n",
       "    </tr>\n",
       "    <tr>\n",
       "      <th>term_str</th>\n",
       "      <th></th>\n",
       "      <th></th>\n",
       "    </tr>\n",
       "  </thead>\n",
       "  <tbody>\n",
       "    <tr>\n",
       "      <th>flavors</th>\n",
       "      <td>-1.0</td>\n",
       "      <td>-17.443662</td>\n",
       "    </tr>\n",
       "    <tr>\n",
       "      <th>aromas</th>\n",
       "      <td>-1.0</td>\n",
       "      <td>-8.427726</td>\n",
       "    </tr>\n",
       "    <tr>\n",
       "      <th>finish</th>\n",
       "      <td>-1.0</td>\n",
       "      <td>-8.034686</td>\n",
       "    </tr>\n",
       "    <tr>\n",
       "      <th>sweet</th>\n",
       "      <td>-1.0</td>\n",
       "      <td>-6.366870</td>\n",
       "    </tr>\n",
       "    <tr>\n",
       "      <th>simple</th>\n",
       "      <td>-1.0</td>\n",
       "      <td>-5.655017</td>\n",
       "    </tr>\n",
       "    <tr>\n",
       "      <th>soft</th>\n",
       "      <td>-1.0</td>\n",
       "      <td>-5.295714</td>\n",
       "    </tr>\n",
       "    <tr>\n",
       "      <th>green</th>\n",
       "      <td>-1.0</td>\n",
       "      <td>-5.072551</td>\n",
       "    </tr>\n",
       "    <tr>\n",
       "      <th>light</th>\n",
       "      <td>-1.0</td>\n",
       "      <td>-4.621662</td>\n",
       "    </tr>\n",
       "    <tr>\n",
       "      <th>like</th>\n",
       "      <td>-1.0</td>\n",
       "      <td>-3.929372</td>\n",
       "    </tr>\n",
       "    <tr>\n",
       "      <th>tastes</th>\n",
       "      <td>-1.0</td>\n",
       "      <td>-3.556622</td>\n",
       "    </tr>\n",
       "  </tbody>\n",
       "</table>\n",
       "</div>"
      ],
      "text/plain": [
       "          polarity    valence\n",
       "term_str                     \n",
       "flavors       -1.0 -17.443662\n",
       "aromas        -1.0  -8.427726\n",
       "finish        -1.0  -8.034686\n",
       "sweet         -1.0  -6.366870\n",
       "simple        -1.0  -5.655017\n",
       "soft          -1.0  -5.295714\n",
       "green         -1.0  -5.072551\n",
       "light         -1.0  -4.621662\n",
       "like          -1.0  -3.929372\n",
       "tastes        -1.0  -3.556622"
      ]
     },
     "execution_count": 31,
     "metadata": {},
     "output_type": "execute_result"
    }
   ],
   "source": [
    "sentilex.sort_values('valence', ascending=True).head(10)"
   ]
  },
  {
   "cell_type": "markdown",
   "metadata": {
    "colab_type": "text",
    "id": "QAurDVvImP24",
    "toc-hr-collapsed": true
   },
   "source": [
    "## TESTING\n",
    "\n",
    "$$\n",
    "c_{NB} = \\arg\\max \\log{P(c)} + \\sum_{id=1}^{id_{max}} \\log{P(token_{id}|c)}\n",
    "$$\n"
   ]
  },
  {
   "cell_type": "markdown",
   "metadata": {
    "colab_type": "text",
    "id": "knR7X57_mP26"
   },
   "source": [
    "### Get test corpus\n",
    "\n",
    "Note that we replace the vocabulary IDs with the old."
   ]
  },
  {
   "cell_type": "code",
   "execution_count": 32,
   "metadata": {
    "colab": {},
    "colab_type": "code",
    "id": "Ju3vztAtmP29"
   },
   "outputs": [],
   "source": [
    "test, _ = create_tokens_and_vocab(testing, src_col='doc_content')\n",
    "test['term_id'] = test.term_str.map(vocab.reset_index().set_index('term_str').term_id)\n",
    "test = test.dropna()\n",
    "test['term_id'] = test['term_id'].astype('int')"
   ]
  },
  {
   "cell_type": "code",
   "execution_count": 33,
   "metadata": {
    "colab": {},
    "colab_type": "code",
    "id": "Ju3vztAtmP29"
   },
   "outputs": [
    {
     "data": {
      "text/html": [
       "<div>\n",
       "<style scoped>\n",
       "    .dataframe tbody tr th:only-of-type {\n",
       "        vertical-align: middle;\n",
       "    }\n",
       "\n",
       "    .dataframe tbody tr th {\n",
       "        vertical-align: top;\n",
       "    }\n",
       "\n",
       "    .dataframe thead th {\n",
       "        text-align: right;\n",
       "    }\n",
       "</style>\n",
       "<table border=\"1\" class=\"dataframe\">\n",
       "  <thead>\n",
       "    <tr style=\"text-align: right;\">\n",
       "      <th></th>\n",
       "      <th></th>\n",
       "      <th></th>\n",
       "      <th>token</th>\n",
       "      <th>term_str</th>\n",
       "      <th>term_id</th>\n",
       "    </tr>\n",
       "    <tr>\n",
       "      <th>doc_id</th>\n",
       "      <th>sent_id</th>\n",
       "      <th>token_id</th>\n",
       "      <th></th>\n",
       "      <th></th>\n",
       "      <th></th>\n",
       "    </tr>\n",
       "  </thead>\n",
       "  <tbody>\n",
       "    <tr>\n",
       "      <th rowspan=\"5\" valign=\"top\">344</th>\n",
       "      <th rowspan=\"5\" valign=\"top\">0</th>\n",
       "      <th>0</th>\n",
       "      <td>Aromas</td>\n",
       "      <td>aromas</td>\n",
       "      <td>1000</td>\n",
       "    </tr>\n",
       "    <tr>\n",
       "      <th>2</th>\n",
       "      <td>pumpkin</td>\n",
       "      <td>pumpkin</td>\n",
       "      <td>11028</td>\n",
       "    </tr>\n",
       "    <tr>\n",
       "      <th>5</th>\n",
       "      <td>corn</td>\n",
       "      <td>corn</td>\n",
       "      <td>3464</td>\n",
       "    </tr>\n",
       "    <tr>\n",
       "      <th>8</th>\n",
       "      <td>stale</td>\n",
       "      <td>stale</td>\n",
       "      <td>13237</td>\n",
       "    </tr>\n",
       "    <tr>\n",
       "      <th>11</th>\n",
       "      <td>inviting</td>\n",
       "      <td>inviting</td>\n",
       "      <td>7389</td>\n",
       "    </tr>\n",
       "  </tbody>\n",
       "</table>\n",
       "</div>"
      ],
      "text/plain": [
       "                            token  term_str  term_id\n",
       "doc_id sent_id token_id                             \n",
       "344    0       0           Aromas    aromas     1000\n",
       "               2          pumpkin   pumpkin    11028\n",
       "               5             corn      corn     3464\n",
       "               8            stale     stale    13237\n",
       "               11        inviting  inviting     7389"
      ]
     },
     "execution_count": 33,
     "metadata": {},
     "output_type": "execute_result"
    }
   ],
   "source": [
    "test.head()"
   ]
  },
  {
   "cell_type": "markdown",
   "metadata": {
    "colab_type": "text",
    "id": "UNIoRLYGmP3C",
    "toc-hr-collapsed": true
   },
   "source": [
    "### OLD: Convert corpus to BOW"
   ]
  },
  {
   "cell_type": "code",
   "execution_count": 34,
   "metadata": {
    "colab": {},
    "colab_type": "code",
    "id": "B0Gtf0xGmP3G"
   },
   "outputs": [],
   "source": [
    "# test_docs = test.groupby(['doc_id','term_id']).term_id.count()\\\n",
    "#     .unstack().apply(lambda x: x.dropna().index.astype('int').tolist(), 1)\\\n",
    "#     .to_frame().rename(columns={0:'bow'})\n",
    "# test_docs['doc_label'] = testing.doc_label\n",
    "# if params['binary_counts']:\n",
    "#     # set() forces BOW to consist of only one token for each term\n",
    "#     test_docs['bow'] = test_docs.bow.apply(lambda x: set(x))"
   ]
  },
  {
   "cell_type": "markdown",
   "metadata": {
    "colab": {},
    "colab_type": "code",
    "id": "B0Gtf0xGmP3G"
   },
   "source": [
    "### Compute logs of likelihoods "
   ]
  },
  {
   "cell_type": "code",
   "execution_count": 35,
   "metadata": {
    "colab": {},
    "colab_type": "code",
    "id": "B0Gtf0xGmP3G"
   },
   "outputs": [],
   "source": [
    "loglls = np.log(likelihoods[['A','B']])"
   ]
  },
  {
   "cell_type": "markdown",
   "metadata": {
    "colab": {},
    "colab_type": "code",
    "id": "B0Gtf0xGmP3G"
   },
   "source": [
    "### Reduce test set to single instances of words per doc"
   ]
  },
  {
   "cell_type": "code",
   "execution_count": 36,
   "metadata": {
    "colab": {},
    "colab_type": "code",
    "id": "B0Gtf0xGmP3G"
   },
   "outputs": [],
   "source": [
    "T1 = test.reset_index()\\\n",
    "    .drop_duplicates(['doc_id','term_id'])[['doc_id','term_id','term_str']]\\\n",
    "    .join(loglls[['A','B']], on='term_id', how='left')\\\n",
    "    .set_index(['doc_id','term_id'])"
   ]
  },
  {
   "cell_type": "code",
   "execution_count": 37,
   "metadata": {
    "colab": {},
    "colab_type": "code",
    "id": "B0Gtf0xGmP3G"
   },
   "outputs": [
    {
     "data": {
      "text/html": [
       "<div>\n",
       "<style scoped>\n",
       "    .dataframe tbody tr th:only-of-type {\n",
       "        vertical-align: middle;\n",
       "    }\n",
       "\n",
       "    .dataframe tbody tr th {\n",
       "        vertical-align: top;\n",
       "    }\n",
       "\n",
       "    .dataframe thead th {\n",
       "        text-align: right;\n",
       "    }\n",
       "</style>\n",
       "<table border=\"1\" class=\"dataframe\">\n",
       "  <thead>\n",
       "    <tr style=\"text-align: right;\">\n",
       "      <th></th>\n",
       "      <th></th>\n",
       "      <th>term_str</th>\n",
       "      <th>A</th>\n",
       "      <th>B</th>\n",
       "    </tr>\n",
       "    <tr>\n",
       "      <th>doc_id</th>\n",
       "      <th>term_id</th>\n",
       "      <th></th>\n",
       "      <th></th>\n",
       "      <th></th>\n",
       "    </tr>\n",
       "  </thead>\n",
       "  <tbody>\n",
       "    <tr>\n",
       "      <th rowspan=\"5\" valign=\"top\">344</th>\n",
       "      <th>1000</th>\n",
       "      <td>aromas</td>\n",
       "      <td>-4.938080</td>\n",
       "      <td>-4.160736</td>\n",
       "    </tr>\n",
       "    <tr>\n",
       "      <th>11028</th>\n",
       "      <td>pumpkin</td>\n",
       "      <td>-12.583478</td>\n",
       "      <td>-9.996278</td>\n",
       "    </tr>\n",
       "    <tr>\n",
       "      <th>3464</th>\n",
       "      <td>corn</td>\n",
       "      <td>-10.974040</td>\n",
       "      <td>-8.247078</td>\n",
       "    </tr>\n",
       "    <tr>\n",
       "      <th>13237</th>\n",
       "      <td>stale</td>\n",
       "      <td>-12.583478</td>\n",
       "      <td>-9.185347</td>\n",
       "    </tr>\n",
       "    <tr>\n",
       "      <th>7389</th>\n",
       "      <td>inviting</td>\n",
       "      <td>-7.838546</td>\n",
       "      <td>-8.579211</td>\n",
       "    </tr>\n",
       "  </tbody>\n",
       "</table>\n",
       "</div>"
      ],
      "text/plain": [
       "                term_str          A         B\n",
       "doc_id term_id                               \n",
       "344    1000       aromas  -4.938080 -4.160736\n",
       "       11028     pumpkin -12.583478 -9.996278\n",
       "       3464         corn -10.974040 -8.247078\n",
       "       13237       stale -12.583478 -9.185347\n",
       "       7389     inviting  -7.838546 -8.579211"
      ]
     },
     "execution_count": 37,
     "metadata": {},
     "output_type": "execute_result"
    }
   ],
   "source": [
    "T1.head()"
   ]
  },
  {
   "cell_type": "markdown",
   "metadata": {
    "colab": {},
    "colab_type": "code",
    "id": "B0Gtf0xGmP3G"
   },
   "source": [
    "### Compute POSTERIORs and make prediction"
   ]
  },
  {
   "cell_type": "code",
   "execution_count": 38,
   "metadata": {
    "colab": {},
    "colab_type": "code",
    "id": "B0Gtf0xGmP3G"
   },
   "outputs": [],
   "source": [
    "testing['A'] = np.exp(T1.A.unstack().sum(1) + np.log(priors.A))\n",
    "testing['B'] = np.exp(T1.B.unstack().sum(1) + np.log(priors.B))\n",
    "testing['prediction'] = testing[['A','B']].idxmax(1)"
   ]
  },
  {
   "cell_type": "code",
   "execution_count": 39,
   "metadata": {
    "colab": {},
    "colab_type": "code",
    "id": "B0Gtf0xGmP3G"
   },
   "outputs": [
    {
     "data": {
      "text/html": [
       "<div>\n",
       "<style scoped>\n",
       "    .dataframe tbody tr th:only-of-type {\n",
       "        vertical-align: middle;\n",
       "    }\n",
       "\n",
       "    .dataframe tbody tr th {\n",
       "        vertical-align: top;\n",
       "    }\n",
       "\n",
       "    .dataframe thead th {\n",
       "        text-align: right;\n",
       "    }\n",
       "</style>\n",
       "<table border=\"1\" class=\"dataframe\">\n",
       "  <thead>\n",
       "    <tr style=\"text-align: right;\">\n",
       "      <th></th>\n",
       "      <th>doc_content</th>\n",
       "      <th>points</th>\n",
       "      <th>doc_label</th>\n",
       "      <th>set</th>\n",
       "      <th>A</th>\n",
       "      <th>B</th>\n",
       "      <th>prediction</th>\n",
       "    </tr>\n",
       "    <tr>\n",
       "      <th>doc_id</th>\n",
       "      <th></th>\n",
       "      <th></th>\n",
       "      <th></th>\n",
       "      <th></th>\n",
       "      <th></th>\n",
       "      <th></th>\n",
       "      <th></th>\n",
       "    </tr>\n",
       "  </thead>\n",
       "  <tbody>\n",
       "    <tr>\n",
       "      <th>344</th>\n",
       "      <td>Aromas of pumpkin, squash and corn chips are s...</td>\n",
       "      <td>80</td>\n",
       "      <td>B</td>\n",
       "      <td>0</td>\n",
       "      <td>2.907216e-73</td>\n",
       "      <td>2.522458e-60</td>\n",
       "      <td>B</td>\n",
       "    </tr>\n",
       "    <tr>\n",
       "      <th>349</th>\n",
       "      <td>RunRig is always complex, and the 2012 doesn't...</td>\n",
       "      <td>97</td>\n",
       "      <td>A</td>\n",
       "      <td>0</td>\n",
       "      <td>6.773231e-65</td>\n",
       "      <td>1.080606e-71</td>\n",
       "      <td>A</td>\n",
       "    </tr>\n",
       "    <tr>\n",
       "      <th>352</th>\n",
       "      <td>Citrus-kissed saltiness lies at the core of th...</td>\n",
       "      <td>96</td>\n",
       "      <td>A</td>\n",
       "      <td>0</td>\n",
       "      <td>2.356108e-89</td>\n",
       "      <td>1.441293e-102</td>\n",
       "      <td>A</td>\n",
       "    </tr>\n",
       "    <tr>\n",
       "      <th>354</th>\n",
       "      <td>Whiffs of white mushroom, saffron and caramel ...</td>\n",
       "      <td>96</td>\n",
       "      <td>A</td>\n",
       "      <td>0</td>\n",
       "      <td>1.110472e-70</td>\n",
       "      <td>4.414211e-76</td>\n",
       "      <td>A</td>\n",
       "    </tr>\n",
       "    <tr>\n",
       "      <th>356</th>\n",
       "      <td>Dusty, firm, powerful: just a few apt descript...</td>\n",
       "      <td>95</td>\n",
       "      <td>A</td>\n",
       "      <td>0</td>\n",
       "      <td>1.703481e-55</td>\n",
       "      <td>4.742773e-61</td>\n",
       "      <td>A</td>\n",
       "    </tr>\n",
       "  </tbody>\n",
       "</table>\n",
       "</div>"
      ],
      "text/plain": [
       "                                              doc_content  points doc_label  \\\n",
       "doc_id                                                                        \n",
       "344     Aromas of pumpkin, squash and corn chips are s...      80         B   \n",
       "349     RunRig is always complex, and the 2012 doesn't...      97         A   \n",
       "352     Citrus-kissed saltiness lies at the core of th...      96         A   \n",
       "354     Whiffs of white mushroom, saffron and caramel ...      96         A   \n",
       "356     Dusty, firm, powerful: just a few apt descript...      95         A   \n",
       "\n",
       "        set             A              B prediction  \n",
       "doc_id                                               \n",
       "344       0  2.907216e-73   2.522458e-60          B  \n",
       "349       0  6.773231e-65   1.080606e-71          A  \n",
       "352       0  2.356108e-89  1.441293e-102          A  \n",
       "354       0  1.110472e-70   4.414211e-76          A  \n",
       "356       0  1.703481e-55   4.742773e-61          A  "
      ]
     },
     "execution_count": 39,
     "metadata": {},
     "output_type": "execute_result"
    }
   ],
   "source": [
    "testing.head(5)"
   ]
  },
  {
   "cell_type": "markdown",
   "metadata": {
    "toc-hr-collapsed": true
   },
   "source": [
    "## EVALUATION"
   ]
  },
  {
   "cell_type": "code",
   "execution_count": 40,
   "metadata": {},
   "outputs": [],
   "source": [
    "testing['result'] = testing.doc_label == testing.prediction\n",
    "T, F = testing.result.value_counts()\n",
    "grade = round(T/(T+F) * 100, 4)\n",
    "CM = testing.reset_index().groupby(['prediction','doc_label']).doc_id.count().unstack().fillna(0)"
   ]
  },
  {
   "cell_type": "code",
   "execution_count": 41,
   "metadata": {},
   "outputs": [
    {
     "data": {
      "text/plain": [
       "96.2417"
      ]
     },
     "execution_count": 41,
     "metadata": {},
     "output_type": "execute_result"
    }
   ],
   "source": [
    "grade"
   ]
  },
  {
   "cell_type": "code",
   "execution_count": 42,
   "metadata": {},
   "outputs": [
    {
     "data": {
      "text/html": [
       "<div>\n",
       "<style scoped>\n",
       "    .dataframe tbody tr th:only-of-type {\n",
       "        vertical-align: middle;\n",
       "    }\n",
       "\n",
       "    .dataframe tbody tr th {\n",
       "        vertical-align: top;\n",
       "    }\n",
       "\n",
       "    .dataframe thead th {\n",
       "        text-align: right;\n",
       "    }\n",
       "</style>\n",
       "<table border=\"1\" class=\"dataframe\">\n",
       "  <thead>\n",
       "    <tr style=\"text-align: right;\">\n",
       "      <th>doc_label</th>\n",
       "      <th>A</th>\n",
       "      <th>B</th>\n",
       "    </tr>\n",
       "    <tr>\n",
       "      <th>prediction</th>\n",
       "      <th></th>\n",
       "      <th></th>\n",
       "    </tr>\n",
       "  </thead>\n",
       "  <tbody>\n",
       "    <tr>\n",
       "      <th>A</th>\n",
       "      <td>2867</td>\n",
       "      <td>164</td>\n",
       "    </tr>\n",
       "    <tr>\n",
       "      <th>B</th>\n",
       "      <td>58</td>\n",
       "      <td>2818</td>\n",
       "    </tr>\n",
       "  </tbody>\n",
       "</table>\n",
       "</div>"
      ],
      "text/plain": [
       "doc_label      A     B\n",
       "prediction            \n",
       "A           2867   164\n",
       "B             58  2818"
      ]
     },
     "execution_count": 42,
     "metadata": {},
     "output_type": "execute_result"
    }
   ],
   "source": [
    "CM"
   ]
  },
  {
   "cell_type": "markdown",
   "metadata": {},
   "source": [
    "### Precision"
   ]
  },
  {
   "cell_type": "code",
   "execution_count": 43,
   "metadata": {},
   "outputs": [
    {
     "data": {
      "text/html": [
       "<div>\n",
       "<style scoped>\n",
       "    .dataframe tbody tr th:only-of-type {\n",
       "        vertical-align: middle;\n",
       "    }\n",
       "\n",
       "    .dataframe tbody tr th {\n",
       "        vertical-align: top;\n",
       "    }\n",
       "\n",
       "    .dataframe thead th {\n",
       "        text-align: right;\n",
       "    }\n",
       "</style>\n",
       "<table border=\"1\" class=\"dataframe\">\n",
       "  <thead>\n",
       "    <tr style=\"text-align: right;\">\n",
       "      <th>doc_label</th>\n",
       "      <th>A</th>\n",
       "      <th>B</th>\n",
       "    </tr>\n",
       "    <tr>\n",
       "      <th>prediction</th>\n",
       "      <th></th>\n",
       "      <th></th>\n",
       "    </tr>\n",
       "  </thead>\n",
       "  <tbody>\n",
       "    <tr>\n",
       "      <th>A</th>\n",
       "      <td>0.945892</td>\n",
       "      <td>0.057024</td>\n",
       "    </tr>\n",
       "    <tr>\n",
       "      <th>B</th>\n",
       "      <td>0.019136</td>\n",
       "      <td>0.979833</td>\n",
       "    </tr>\n",
       "  </tbody>\n",
       "</table>\n",
       "</div>"
      ],
      "text/plain": [
       "doc_label          A         B\n",
       "prediction                    \n",
       "A           0.945892  0.057024\n",
       "B           0.019136  0.979833"
      ]
     },
     "execution_count": 43,
     "metadata": {},
     "output_type": "execute_result"
    }
   ],
   "source": [
    "CM / CM.sum(1)"
   ]
  },
  {
   "cell_type": "markdown",
   "metadata": {},
   "source": [
    "### Recall"
   ]
  },
  {
   "cell_type": "code",
   "execution_count": 44,
   "metadata": {},
   "outputs": [
    {
     "data": {
      "text/html": [
       "<div>\n",
       "<style scoped>\n",
       "    .dataframe tbody tr th:only-of-type {\n",
       "        vertical-align: middle;\n",
       "    }\n",
       "\n",
       "    .dataframe tbody tr th {\n",
       "        vertical-align: top;\n",
       "    }\n",
       "\n",
       "    .dataframe thead th {\n",
       "        text-align: right;\n",
       "    }\n",
       "</style>\n",
       "<table border=\"1\" class=\"dataframe\">\n",
       "  <thead>\n",
       "    <tr style=\"text-align: right;\">\n",
       "      <th>doc_label</th>\n",
       "      <th>A</th>\n",
       "      <th>B</th>\n",
       "    </tr>\n",
       "    <tr>\n",
       "      <th>prediction</th>\n",
       "      <th></th>\n",
       "      <th></th>\n",
       "    </tr>\n",
       "  </thead>\n",
       "  <tbody>\n",
       "    <tr>\n",
       "      <th>A</th>\n",
       "      <td>0.980171</td>\n",
       "      <td>0.054997</td>\n",
       "    </tr>\n",
       "    <tr>\n",
       "      <th>B</th>\n",
       "      <td>0.019829</td>\n",
       "      <td>0.945003</td>\n",
       "    </tr>\n",
       "  </tbody>\n",
       "</table>\n",
       "</div>"
      ],
      "text/plain": [
       "doc_label          A         B\n",
       "prediction                    \n",
       "A           0.980171  0.054997\n",
       "B           0.019829  0.945003"
      ]
     },
     "execution_count": 44,
     "metadata": {},
     "output_type": "execute_result"
    }
   ],
   "source": [
    "CM / CM.sum()"
   ]
  },
  {
   "cell_type": "markdown",
   "metadata": {
    "colab_type": "text",
    "id": "ozMbJB9kmP3N",
    "toc-hr-collapsed": true
   },
   "source": [
    "### OLD: Compute POSTERIOR and make prediction"
   ]
  },
  {
   "cell_type": "code",
   "execution_count": 45,
   "metadata": {
    "colab": {},
    "colab_type": "code",
    "id": "HIkyRlzcmP3O"
   },
   "outputs": [],
   "source": [
    "# posteriors = test_docs.bow.apply(lambda x: likelihoods.loc[x].product() * priors)\n",
    "# test_docs['prediction'] = posteriors.T.idxmax()"
   ]
  },
  {
   "cell_type": "code",
   "execution_count": 46,
   "metadata": {
    "colab": {},
    "colab_type": "code",
    "id": "HIkyRlzcmP3O"
   },
   "outputs": [],
   "source": [
    "# test_docs.head()"
   ]
  },
  {
   "cell_type": "markdown",
   "metadata": {
    "colab_type": "text",
    "id": "rD2jpuVNmP3k",
    "toc-hr-collapsed": true
   },
   "source": [
    "## OLD: EVALUATION "
   ]
  },
  {
   "cell_type": "code",
   "execution_count": 47,
   "metadata": {
    "colab": {},
    "colab_type": "code",
    "id": "UebW6FefmP3n"
   },
   "outputs": [],
   "source": [
    "# test_docs['result'] = test_docs.doc_label == test_docs.prediction\n",
    "# T, F = test_docs.result.value_counts()\n",
    "# grade = round(T/(T+F) * 100, 4)\n",
    "# CM = test_docs.reset_index().groupby(['doc_label','prediction']).doc_id.count().unstack().fillna(0)"
   ]
  },
  {
   "cell_type": "markdown",
   "metadata": {
    "colab_type": "text",
    "id": "V4s1QLjFmP32"
   },
   "source": [
    "### OLD: Results"
   ]
  },
  {
   "cell_type": "code",
   "execution_count": 48,
   "metadata": {
    "colab": {
     "base_uri": "https://localhost:8080/",
     "height": 208
    },
    "colab_type": "code",
    "executionInfo": {
     "elapsed": 369,
     "status": "ok",
     "timestamp": 1555683836934,
     "user": {
      "displayName": "Rafael Alvarado",
      "photoUrl": "https://lh3.googleusercontent.com/-gvKWs7zR4JY/AAAAAAAAAAI/AAAAAAABqfk/Q8O12g6M_T4/s64/photo.jpg",
      "userId": "11010075019714369526"
     },
     "user_tz": 240
    },
    "id": "Dt_W5keHmP35",
    "outputId": "3b1c5e55-5465-48e5-90eb-fccd86212000"
   },
   "outputs": [],
   "source": [
    "# print(\"______________________\")\n",
    "# print(\"      RESULTS\")\n",
    "# print(\"----------------------\")\n",
    "# print('Grade:', grade)\n",
    "# print(\"----------------------\")\n",
    "# print(\"Confusion matrix:\")\n",
    "# print(CM)\n",
    "# print(\"______________________\")"
   ]
  },
  {
   "cell_type": "markdown",
   "metadata": {
    "colab_type": "text",
    "id": "4H8-vQEKqKsc"
   },
   "source": []
  },
  {
   "cell_type": "markdown",
   "metadata": {
    "colab": {},
    "colab_type": "code",
    "id": "xipIpBgW83UO",
    "toc-hr-collapsed": true
   },
   "source": [
    "## Predicting by Lexicon"
   ]
  },
  {
   "cell_type": "code",
   "execution_count": 49,
   "metadata": {
    "colab": {},
    "colab_type": "code",
    "id": "aDX7aFse9s0A"
   },
   "outputs": [],
   "source": [
    "test2 = test.join(sentilex, on='term_str', how='left').sort_index()"
   ]
  },
  {
   "cell_type": "code",
   "execution_count": 50,
   "metadata": {
    "colab": {
     "base_uri": "https://localhost:8080/",
     "height": 229
    },
    "colab_type": "code",
    "executionInfo": {
     "elapsed": 553,
     "status": "ok",
     "timestamp": 1555684145424,
     "user": {
      "displayName": "Rafael Alvarado",
      "photoUrl": "https://lh3.googleusercontent.com/-gvKWs7zR4JY/AAAAAAAAAAI/AAAAAAABqfk/Q8O12g6M_T4/s64/photo.jpg",
      "userId": "11010075019714369526"
     },
     "user_tz": 240
    },
    "id": "Bc2ntx239wjj",
    "outputId": "eb72ff6f-b04a-476a-b404-a93acf3ad4ea"
   },
   "outputs": [
    {
     "data": {
      "text/html": [
       "<div>\n",
       "<style scoped>\n",
       "    .dataframe tbody tr th:only-of-type {\n",
       "        vertical-align: middle;\n",
       "    }\n",
       "\n",
       "    .dataframe tbody tr th {\n",
       "        vertical-align: top;\n",
       "    }\n",
       "\n",
       "    .dataframe thead th {\n",
       "        text-align: right;\n",
       "    }\n",
       "</style>\n",
       "<table border=\"1\" class=\"dataframe\">\n",
       "  <thead>\n",
       "    <tr style=\"text-align: right;\">\n",
       "      <th></th>\n",
       "      <th></th>\n",
       "      <th></th>\n",
       "      <th>token</th>\n",
       "      <th>term_str</th>\n",
       "      <th>term_id</th>\n",
       "      <th>polarity</th>\n",
       "      <th>valence</th>\n",
       "    </tr>\n",
       "    <tr>\n",
       "      <th>doc_id</th>\n",
       "      <th>sent_id</th>\n",
       "      <th>token_id</th>\n",
       "      <th></th>\n",
       "      <th></th>\n",
       "      <th></th>\n",
       "      <th></th>\n",
       "      <th></th>\n",
       "    </tr>\n",
       "  </thead>\n",
       "  <tbody>\n",
       "    <tr>\n",
       "      <th rowspan=\"5\" valign=\"top\">344</th>\n",
       "      <th rowspan=\"5\" valign=\"top\">0</th>\n",
       "      <th>0</th>\n",
       "      <td>Aromas</td>\n",
       "      <td>aromas</td>\n",
       "      <td>1000</td>\n",
       "      <td>-1.0</td>\n",
       "      <td>-8.427726</td>\n",
       "    </tr>\n",
       "    <tr>\n",
       "      <th>2</th>\n",
       "      <td>pumpkin</td>\n",
       "      <td>pumpkin</td>\n",
       "      <td>11028</td>\n",
       "      <td>-1.0</td>\n",
       "      <td>-0.042141</td>\n",
       "    </tr>\n",
       "    <tr>\n",
       "      <th>5</th>\n",
       "      <td>corn</td>\n",
       "      <td>corn</td>\n",
       "      <td>3464</td>\n",
       "      <td>-1.0</td>\n",
       "      <td>-0.244882</td>\n",
       "    </tr>\n",
       "    <tr>\n",
       "      <th>8</th>\n",
       "      <td>stale</td>\n",
       "      <td>stale</td>\n",
       "      <td>13237</td>\n",
       "      <td>-1.0</td>\n",
       "      <td>-0.099103</td>\n",
       "    </tr>\n",
       "    <tr>\n",
       "      <th>11</th>\n",
       "      <td>inviting</td>\n",
       "      <td>inviting</td>\n",
       "      <td>7389</td>\n",
       "      <td>1.0</td>\n",
       "      <td>0.206269</td>\n",
       "    </tr>\n",
       "  </tbody>\n",
       "</table>\n",
       "</div>"
      ],
      "text/plain": [
       "                            token  term_str  term_id  polarity   valence\n",
       "doc_id sent_id token_id                                                 \n",
       "344    0       0           Aromas    aromas     1000      -1.0 -8.427726\n",
       "               2          pumpkin   pumpkin    11028      -1.0 -0.042141\n",
       "               5             corn      corn     3464      -1.0 -0.244882\n",
       "               8            stale     stale    13237      -1.0 -0.099103\n",
       "               11        inviting  inviting     7389       1.0  0.206269"
      ]
     },
     "execution_count": 50,
     "metadata": {},
     "output_type": "execute_result"
    }
   ],
   "source": [
    "test2.head()"
   ]
  },
  {
   "cell_type": "code",
   "execution_count": 51,
   "metadata": {
    "colab": {},
    "colab_type": "code",
    "id": "SxYdzp1QAPjd"
   },
   "outputs": [],
   "source": [
    "testing['lexpredict'] = np.sign(test2.groupby('doc_id').valence.sum())\n",
    "testing.loc[testing.lexpredict > 0, 'lexpredict_label'] = 'A'\n",
    "testing.loc[testing.lexpredict <= 0, 'lexpredict_label'] = 'B'"
   ]
  },
  {
   "cell_type": "code",
   "execution_count": 52,
   "metadata": {
    "colab": {
     "base_uri": "https://localhost:8080/",
     "height": 1956
    },
    "colab_type": "code",
    "executionInfo": {
     "elapsed": 505,
     "status": "ok",
     "timestamp": 1555684476694,
     "user": {
      "displayName": "Rafael Alvarado",
      "photoUrl": "https://lh3.googleusercontent.com/-gvKWs7zR4JY/AAAAAAAAAAI/AAAAAAABqfk/Q8O12g6M_T4/s64/photo.jpg",
      "userId": "11010075019714369526"
     },
     "user_tz": 240
    },
    "id": "hvFbnG6cBSqa",
    "outputId": "05665234-248a-40e8-fd6d-338f0ef234eb"
   },
   "outputs": [
    {
     "data": {
      "text/html": [
       "<div>\n",
       "<style scoped>\n",
       "    .dataframe tbody tr th:only-of-type {\n",
       "        vertical-align: middle;\n",
       "    }\n",
       "\n",
       "    .dataframe tbody tr th {\n",
       "        vertical-align: top;\n",
       "    }\n",
       "\n",
       "    .dataframe thead th {\n",
       "        text-align: right;\n",
       "    }\n",
       "</style>\n",
       "<table border=\"1\" class=\"dataframe\">\n",
       "  <thead>\n",
       "    <tr style=\"text-align: right;\">\n",
       "      <th></th>\n",
       "      <th>doc_content</th>\n",
       "      <th>points</th>\n",
       "      <th>doc_label</th>\n",
       "      <th>set</th>\n",
       "      <th>A</th>\n",
       "      <th>B</th>\n",
       "      <th>prediction</th>\n",
       "      <th>result</th>\n",
       "      <th>lexpredict</th>\n",
       "      <th>lexpredict_label</th>\n",
       "    </tr>\n",
       "    <tr>\n",
       "      <th>doc_id</th>\n",
       "      <th></th>\n",
       "      <th></th>\n",
       "      <th></th>\n",
       "      <th></th>\n",
       "      <th></th>\n",
       "      <th></th>\n",
       "      <th></th>\n",
       "      <th></th>\n",
       "      <th></th>\n",
       "      <th></th>\n",
       "    </tr>\n",
       "  </thead>\n",
       "  <tbody>\n",
       "    <tr>\n",
       "      <th>344</th>\n",
       "      <td>Aromas of pumpkin, squash and corn chips are s...</td>\n",
       "      <td>80</td>\n",
       "      <td>B</td>\n",
       "      <td>0</td>\n",
       "      <td>2.907216e-73</td>\n",
       "      <td>2.522458e-60</td>\n",
       "      <td>B</td>\n",
       "      <td>True</td>\n",
       "      <td>-1.0</td>\n",
       "      <td>B</td>\n",
       "    </tr>\n",
       "    <tr>\n",
       "      <th>349</th>\n",
       "      <td>RunRig is always complex, and the 2012 doesn't...</td>\n",
       "      <td>97</td>\n",
       "      <td>A</td>\n",
       "      <td>0</td>\n",
       "      <td>6.773231e-65</td>\n",
       "      <td>1.080606e-71</td>\n",
       "      <td>A</td>\n",
       "      <td>True</td>\n",
       "      <td>1.0</td>\n",
       "      <td>A</td>\n",
       "    </tr>\n",
       "    <tr>\n",
       "      <th>352</th>\n",
       "      <td>Citrus-kissed saltiness lies at the core of th...</td>\n",
       "      <td>96</td>\n",
       "      <td>A</td>\n",
       "      <td>0</td>\n",
       "      <td>2.356108e-89</td>\n",
       "      <td>1.441293e-102</td>\n",
       "      <td>A</td>\n",
       "      <td>True</td>\n",
       "      <td>1.0</td>\n",
       "      <td>A</td>\n",
       "    </tr>\n",
       "    <tr>\n",
       "      <th>354</th>\n",
       "      <td>Whiffs of white mushroom, saffron and caramel ...</td>\n",
       "      <td>96</td>\n",
       "      <td>A</td>\n",
       "      <td>0</td>\n",
       "      <td>1.110472e-70</td>\n",
       "      <td>4.414211e-76</td>\n",
       "      <td>A</td>\n",
       "      <td>True</td>\n",
       "      <td>-1.0</td>\n",
       "      <td>B</td>\n",
       "    </tr>\n",
       "    <tr>\n",
       "      <th>356</th>\n",
       "      <td>Dusty, firm, powerful: just a few apt descript...</td>\n",
       "      <td>95</td>\n",
       "      <td>A</td>\n",
       "      <td>0</td>\n",
       "      <td>1.703481e-55</td>\n",
       "      <td>4.742773e-61</td>\n",
       "      <td>A</td>\n",
       "      <td>True</td>\n",
       "      <td>1.0</td>\n",
       "      <td>A</td>\n",
       "    </tr>\n",
       "  </tbody>\n",
       "</table>\n",
       "</div>"
      ],
      "text/plain": [
       "                                              doc_content  points doc_label  \\\n",
       "doc_id                                                                        \n",
       "344     Aromas of pumpkin, squash and corn chips are s...      80         B   \n",
       "349     RunRig is always complex, and the 2012 doesn't...      97         A   \n",
       "352     Citrus-kissed saltiness lies at the core of th...      96         A   \n",
       "354     Whiffs of white mushroom, saffron and caramel ...      96         A   \n",
       "356     Dusty, firm, powerful: just a few apt descript...      95         A   \n",
       "\n",
       "        set             A              B prediction  result  lexpredict  \\\n",
       "doc_id                                                                    \n",
       "344       0  2.907216e-73   2.522458e-60          B    True        -1.0   \n",
       "349       0  6.773231e-65   1.080606e-71          A    True         1.0   \n",
       "352       0  2.356108e-89  1.441293e-102          A    True         1.0   \n",
       "354       0  1.110472e-70   4.414211e-76          A    True        -1.0   \n",
       "356       0  1.703481e-55   4.742773e-61          A    True         1.0   \n",
       "\n",
       "       lexpredict_label  \n",
       "doc_id                   \n",
       "344                   B  \n",
       "349                   A  \n",
       "352                   A  \n",
       "354                   B  \n",
       "356                   A  "
      ]
     },
     "execution_count": 52,
     "metadata": {},
     "output_type": "execute_result"
    }
   ],
   "source": [
    "testing.head()"
   ]
  },
  {
   "cell_type": "code",
   "execution_count": 53,
   "metadata": {
    "colab": {},
    "colab_type": "code",
    "id": "H4pcUZ9YBUL_"
   },
   "outputs": [],
   "source": [
    "testing['result2'] = testing.doc_label == testing.lexpredict_label"
   ]
  },
  {
   "cell_type": "code",
   "execution_count": 54,
   "metadata": {
    "colab": {
     "base_uri": "https://localhost:8080/",
     "height": 69
    },
    "colab_type": "code",
    "executionInfo": {
     "elapsed": 539,
     "status": "ok",
     "timestamp": 1555684608242,
     "user": {
      "displayName": "Rafael Alvarado",
      "photoUrl": "https://lh3.googleusercontent.com/-gvKWs7zR4JY/AAAAAAAAAAI/AAAAAAABqfk/Q8O12g6M_T4/s64/photo.jpg",
      "userId": "11010075019714369526"
     },
     "user_tz": 240
    },
    "id": "KFdB7FBFBoby",
    "outputId": "bde548a2-68ae-4c91-aa49-eef6ec317d8d"
   },
   "outputs": [
    {
     "data": {
      "text/plain": [
       "True     0.776875\n",
       "False    0.223125\n",
       "Name: result2, dtype: float64"
      ]
     },
     "execution_count": 54,
     "metadata": {},
     "output_type": "execute_result"
    }
   ],
   "source": [
    "testing.result2.value_counts() / testing.result2.value_counts().sum()"
   ]
  },
  {
   "cell_type": "code",
   "execution_count": 55,
   "metadata": {
    "colab": {},
    "colab_type": "code",
    "id": "5qi25B77BsBH"
   },
   "outputs": [],
   "source": [
    "T2, F2 = testing.result2.value_counts()\n",
    "grade2 = round(T2/(T2+F2) * 100, 4)\n",
    "CM2 = testing.reset_index().groupby(['lexpredict_label','doc_label']).doc_id.count().unstack().fillna(0)"
   ]
  },
  {
   "cell_type": "code",
   "execution_count": 56,
   "metadata": {},
   "outputs": [
    {
     "data": {
      "text/plain": [
       "77.6875"
      ]
     },
     "execution_count": 56,
     "metadata": {},
     "output_type": "execute_result"
    }
   ],
   "source": [
    "grade2"
   ]
  },
  {
   "cell_type": "code",
   "execution_count": 57,
   "metadata": {},
   "outputs": [
    {
     "data": {
      "text/html": [
       "<div>\n",
       "<style scoped>\n",
       "    .dataframe tbody tr th:only-of-type {\n",
       "        vertical-align: middle;\n",
       "    }\n",
       "\n",
       "    .dataframe tbody tr th {\n",
       "        vertical-align: top;\n",
       "    }\n",
       "\n",
       "    .dataframe thead th {\n",
       "        text-align: right;\n",
       "    }\n",
       "</style>\n",
       "<table border=\"1\" class=\"dataframe\">\n",
       "  <thead>\n",
       "    <tr style=\"text-align: right;\">\n",
       "      <th>doc_label</th>\n",
       "      <th>A</th>\n",
       "      <th>B</th>\n",
       "    </tr>\n",
       "    <tr>\n",
       "      <th>lexpredict_label</th>\n",
       "      <th></th>\n",
       "      <th></th>\n",
       "    </tr>\n",
       "  </thead>\n",
       "  <tbody>\n",
       "    <tr>\n",
       "      <th>A</th>\n",
       "      <td>1751</td>\n",
       "      <td>144</td>\n",
       "    </tr>\n",
       "    <tr>\n",
       "      <th>B</th>\n",
       "      <td>1174</td>\n",
       "      <td>2838</td>\n",
       "    </tr>\n",
       "  </tbody>\n",
       "</table>\n",
       "</div>"
      ],
      "text/plain": [
       "doc_label            A     B\n",
       "lexpredict_label            \n",
       "A                 1751   144\n",
       "B                 1174  2838"
      ]
     },
     "execution_count": 57,
     "metadata": {},
     "output_type": "execute_result"
    }
   ],
   "source": [
    "CM2"
   ]
  },
  {
   "cell_type": "code",
   "execution_count": 58,
   "metadata": {},
   "outputs": [
    {
     "data": {
      "text/html": [
       "<div>\n",
       "<style scoped>\n",
       "    .dataframe tbody tr th:only-of-type {\n",
       "        vertical-align: middle;\n",
       "    }\n",
       "\n",
       "    .dataframe tbody tr th {\n",
       "        vertical-align: top;\n",
       "    }\n",
       "\n",
       "    .dataframe thead th {\n",
       "        text-align: right;\n",
       "    }\n",
       "</style>\n",
       "<table border=\"1\" class=\"dataframe\">\n",
       "  <thead>\n",
       "    <tr style=\"text-align: right;\">\n",
       "      <th></th>\n",
       "      <th>doc_content</th>\n",
       "      <th>points</th>\n",
       "      <th>doc_label</th>\n",
       "      <th>set</th>\n",
       "      <th>A</th>\n",
       "      <th>B</th>\n",
       "      <th>prediction</th>\n",
       "      <th>result</th>\n",
       "      <th>lexpredict</th>\n",
       "      <th>lexpredict_label</th>\n",
       "      <th>result2</th>\n",
       "    </tr>\n",
       "    <tr>\n",
       "      <th>doc_id</th>\n",
       "      <th></th>\n",
       "      <th></th>\n",
       "      <th></th>\n",
       "      <th></th>\n",
       "      <th></th>\n",
       "      <th></th>\n",
       "      <th></th>\n",
       "      <th></th>\n",
       "      <th></th>\n",
       "      <th></th>\n",
       "      <th></th>\n",
       "    </tr>\n",
       "  </thead>\n",
       "  <tbody>\n",
       "    <tr>\n",
       "      <th>344</th>\n",
       "      <td>Aromas of pumpkin, squash and corn chips are s...</td>\n",
       "      <td>80</td>\n",
       "      <td>B</td>\n",
       "      <td>0</td>\n",
       "      <td>2.907216e-73</td>\n",
       "      <td>2.522458e-60</td>\n",
       "      <td>B</td>\n",
       "      <td>True</td>\n",
       "      <td>-1.0</td>\n",
       "      <td>B</td>\n",
       "      <td>True</td>\n",
       "    </tr>\n",
       "    <tr>\n",
       "      <th>349</th>\n",
       "      <td>RunRig is always complex, and the 2012 doesn't...</td>\n",
       "      <td>97</td>\n",
       "      <td>A</td>\n",
       "      <td>0</td>\n",
       "      <td>6.773231e-65</td>\n",
       "      <td>1.080606e-71</td>\n",
       "      <td>A</td>\n",
       "      <td>True</td>\n",
       "      <td>1.0</td>\n",
       "      <td>A</td>\n",
       "      <td>True</td>\n",
       "    </tr>\n",
       "    <tr>\n",
       "      <th>352</th>\n",
       "      <td>Citrus-kissed saltiness lies at the core of th...</td>\n",
       "      <td>96</td>\n",
       "      <td>A</td>\n",
       "      <td>0</td>\n",
       "      <td>2.356108e-89</td>\n",
       "      <td>1.441293e-102</td>\n",
       "      <td>A</td>\n",
       "      <td>True</td>\n",
       "      <td>1.0</td>\n",
       "      <td>A</td>\n",
       "      <td>True</td>\n",
       "    </tr>\n",
       "    <tr>\n",
       "      <th>354</th>\n",
       "      <td>Whiffs of white mushroom, saffron and caramel ...</td>\n",
       "      <td>96</td>\n",
       "      <td>A</td>\n",
       "      <td>0</td>\n",
       "      <td>1.110472e-70</td>\n",
       "      <td>4.414211e-76</td>\n",
       "      <td>A</td>\n",
       "      <td>True</td>\n",
       "      <td>-1.0</td>\n",
       "      <td>B</td>\n",
       "      <td>False</td>\n",
       "    </tr>\n",
       "    <tr>\n",
       "      <th>356</th>\n",
       "      <td>Dusty, firm, powerful: just a few apt descript...</td>\n",
       "      <td>95</td>\n",
       "      <td>A</td>\n",
       "      <td>0</td>\n",
       "      <td>1.703481e-55</td>\n",
       "      <td>4.742773e-61</td>\n",
       "      <td>A</td>\n",
       "      <td>True</td>\n",
       "      <td>1.0</td>\n",
       "      <td>A</td>\n",
       "      <td>True</td>\n",
       "    </tr>\n",
       "  </tbody>\n",
       "</table>\n",
       "</div>"
      ],
      "text/plain": [
       "                                              doc_content  points doc_label  \\\n",
       "doc_id                                                                        \n",
       "344     Aromas of pumpkin, squash and corn chips are s...      80         B   \n",
       "349     RunRig is always complex, and the 2012 doesn't...      97         A   \n",
       "352     Citrus-kissed saltiness lies at the core of th...      96         A   \n",
       "354     Whiffs of white mushroom, saffron and caramel ...      96         A   \n",
       "356     Dusty, firm, powerful: just a few apt descript...      95         A   \n",
       "\n",
       "        set             A              B prediction  result  lexpredict  \\\n",
       "doc_id                                                                    \n",
       "344       0  2.907216e-73   2.522458e-60          B    True        -1.0   \n",
       "349       0  6.773231e-65   1.080606e-71          A    True         1.0   \n",
       "352       0  2.356108e-89  1.441293e-102          A    True         1.0   \n",
       "354       0  1.110472e-70   4.414211e-76          A    True        -1.0   \n",
       "356       0  1.703481e-55   4.742773e-61          A    True         1.0   \n",
       "\n",
       "       lexpredict_label  result2  \n",
       "doc_id                            \n",
       "344                   B     True  \n",
       "349                   A     True  \n",
       "352                   A     True  \n",
       "354                   B    False  \n",
       "356                   A     True  "
      ]
     },
     "execution_count": 58,
     "metadata": {},
     "output_type": "execute_result"
    }
   ],
   "source": [
    "testing.head()"
   ]
  },
  {
   "cell_type": "code",
   "execution_count": null,
   "metadata": {},
   "outputs": [],
   "source": []
  }
 ],
 "metadata": {
  "colab": {
   "collapsed_sections": [],
   "name": "DS5559_NaiveBayes_WineReviews.ipynb",
   "provenance": [],
   "toc_visible": true,
   "version": "0.3.2"
  },
  "kernelspec": {
   "display_name": "Python 3",
   "language": "python",
   "name": "python3"
  },
  "language_info": {
   "codemirror_mode": {
    "name": "ipython",
    "version": 3
   },
   "file_extension": ".py",
   "mimetype": "text/x-python",
   "name": "python",
   "nbconvert_exporter": "python",
   "pygments_lexer": "ipython3",
   "version": "3.7.2"
  }
 },
 "nbformat": 4,
 "nbformat_minor": 2
}
